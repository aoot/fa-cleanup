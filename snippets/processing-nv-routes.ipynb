{
 "cells": [
  {
   "cell_type": "code",
   "execution_count": 147,
   "id": "3fe24d4d",
   "metadata": {},
   "outputs": [],
   "source": [
    "import os\n",
    "import pandas as pd\n",
    "import numpy as np\n",
    "from glob import glob\n",
    "import re\n",
    "from datetime import datetime\n",
    "import json\n",
    "import matplotlib.pyplot as plt\n"
   ]
  },
  {
   "cell_type": "markdown",
   "id": "03ca033b",
   "metadata": {},
   "source": [
    "# Load Data"
   ]
  },
  {
   "cell_type": "code",
   "execution_count": 148,
   "id": "53e2dbb5",
   "metadata": {},
   "outputs": [],
   "source": [
    "df = pd.read_json(\"../test-data/nv-routes.jsonlines\", lines=True)"
   ]
  },
  {
   "cell_type": "markdown",
   "id": "aa784945",
   "metadata": {},
   "source": [
    "# Basic Info"
   ]
  },
  {
   "cell_type": "code",
   "execution_count": 149,
   "id": "4fab986e",
   "metadata": {},
   "outputs": [
    {
     "data": {
      "text/html": [
       "<div>\n",
       "<style scoped>\n",
       "    .dataframe tbody tr th:only-of-type {\n",
       "        vertical-align: middle;\n",
       "    }\n",
       "\n",
       "    .dataframe tbody tr th {\n",
       "        vertical-align: top;\n",
       "    }\n",
       "\n",
       "    .dataframe thead th {\n",
       "        text-align: right;\n",
       "    }\n",
       "</style>\n",
       "<table border=\"1\" class=\"dataframe\">\n",
       "  <thead>\n",
       "    <tr style=\"text-align: right;\">\n",
       "      <th></th>\n",
       "      <th>route_name</th>\n",
       "      <th>grade</th>\n",
       "      <th>safety</th>\n",
       "      <th>type</th>\n",
       "      <th>fa</th>\n",
       "      <th>description</th>\n",
       "      <th>location</th>\n",
       "      <th>protection</th>\n",
       "      <th>metadata</th>\n",
       "    </tr>\n",
       "  </thead>\n",
       "  <tbody>\n",
       "    <tr>\n",
       "      <th>0</th>\n",
       "      <td>Stella by Starlight</td>\n",
       "      <td>{'YDS': '5.8', 'French': '5b', 'Ewbanks': '16'...</td>\n",
       "      <td></td>\n",
       "      <td>{'trad': True, 'aid': True, 'alpine': True}</td>\n",
       "      <td>Wade Mills (solo)</td>\n",
       "      <td>[In the late 1970's, my old friend and mentor,...</td>\n",
       "      <td>[Route ascends the huge main NE face of Wheeler.]</td>\n",
       "      <td>[See route description and \"Hiking and Climbin...</td>\n",
       "      <td>{'left_right_seq': '2', 'parent_lnglat': [-114...</td>\n",
       "    </tr>\n",
       "    <tr>\n",
       "      <th>1</th>\n",
       "      <td>Skin Yamaka</td>\n",
       "      <td>{'YDS': '5.11a', 'French': '6c', 'Ewbanks': '2...</td>\n",
       "      <td></td>\n",
       "      <td>{'sport': True}</td>\n",
       "      <td>unknown</td>\n",
       "      <td>[Start on a mostly flat gravel platform and cl...</td>\n",
       "      <td>[Entering the gap from the east, this route wi...</td>\n",
       "      <td>[8 Bolts - Chain Anchor]</td>\n",
       "      <td>{'left_right_seq': '0', 'parent_lnglat': [-114...</td>\n",
       "    </tr>\n",
       "    <tr>\n",
       "      <th>2</th>\n",
       "      <td>Himalayan Snowcock Serenade</td>\n",
       "      <td>{'YDS': '5.10', 'French': '6b', 'Ewbanks': '20...</td>\n",
       "      <td></td>\n",
       "      <td>{'trad': True}</td>\n",
       "      <td>Bob Moseley and Hannah North, Summer 1999</td>\n",
       "      <td>[Northeast face of Crooked Finger Tower. Good-...</td>\n",
       "      <td>[See Location of Crooked Finger Tower. Approac...</td>\n",
       "      <td>[Standard rack of nuts and cams to 4.5 inches.]</td>\n",
       "      <td>{'left_right_seq': '0', 'parent_lnglat': [-115...</td>\n",
       "    </tr>\n",
       "  </tbody>\n",
       "</table>\n",
       "</div>"
      ],
      "text/plain": [
       "                    route_name  \\\n",
       "0          Stella by Starlight   \n",
       "1                  Skin Yamaka   \n",
       "2  Himalayan Snowcock Serenade   \n",
       "\n",
       "                                               grade safety  \\\n",
       "0  {'YDS': '5.8', 'French': '5b', 'Ewbanks': '16'...          \n",
       "1  {'YDS': '5.11a', 'French': '6c', 'Ewbanks': '2...          \n",
       "2  {'YDS': '5.10', 'French': '6b', 'Ewbanks': '20...          \n",
       "\n",
       "                                          type  \\\n",
       "0  {'trad': True, 'aid': True, 'alpine': True}   \n",
       "1                              {'sport': True}   \n",
       "2                               {'trad': True}   \n",
       "\n",
       "                                          fa  \\\n",
       "0                          Wade Mills (solo)   \n",
       "1                                    unknown   \n",
       "2  Bob Moseley and Hannah North, Summer 1999   \n",
       "\n",
       "                                         description  \\\n",
       "0  [In the late 1970's, my old friend and mentor,...   \n",
       "1  [Start on a mostly flat gravel platform and cl...   \n",
       "2  [Northeast face of Crooked Finger Tower. Good-...   \n",
       "\n",
       "                                            location  \\\n",
       "0  [Route ascends the huge main NE face of Wheeler.]   \n",
       "1  [Entering the gap from the east, this route wi...   \n",
       "2  [See Location of Crooked Finger Tower. Approac...   \n",
       "\n",
       "                                          protection  \\\n",
       "0  [See route description and \"Hiking and Climbin...   \n",
       "1                           [8 Bolts - Chain Anchor]   \n",
       "2    [Standard rack of nuts and cams to 4.5 inches.]   \n",
       "\n",
       "                                            metadata  \n",
       "0  {'left_right_seq': '2', 'parent_lnglat': [-114...  \n",
       "1  {'left_right_seq': '0', 'parent_lnglat': [-114...  \n",
       "2  {'left_right_seq': '0', 'parent_lnglat': [-115...  "
      ]
     },
     "execution_count": 149,
     "metadata": {},
     "output_type": "execute_result"
    }
   ],
   "source": [
    "df.head(3)"
   ]
  },
  {
   "cell_type": "code",
   "execution_count": 150,
   "id": "e41ee10c",
   "metadata": {},
   "outputs": [
    {
     "data": {
      "text/html": [
       "<div>\n",
       "<style scoped>\n",
       "    .dataframe tbody tr th:only-of-type {\n",
       "        vertical-align: middle;\n",
       "    }\n",
       "\n",
       "    .dataframe tbody tr th {\n",
       "        vertical-align: top;\n",
       "    }\n",
       "\n",
       "    .dataframe thead th {\n",
       "        text-align: right;\n",
       "    }\n",
       "</style>\n",
       "<table border=\"1\" class=\"dataframe\">\n",
       "  <thead>\n",
       "    <tr style=\"text-align: right;\">\n",
       "      <th></th>\n",
       "      <th>0</th>\n",
       "      <th>1</th>\n",
       "      <th>2</th>\n",
       "    </tr>\n",
       "  </thead>\n",
       "  <tbody>\n",
       "    <tr>\n",
       "      <th>route_name</th>\n",
       "      <td>Stella by Starlight</td>\n",
       "      <td>Skin Yamaka</td>\n",
       "      <td>Himalayan Snowcock Serenade</td>\n",
       "    </tr>\n",
       "    <tr>\n",
       "      <th>grade</th>\n",
       "      <td>{'YDS': '5.8', 'French': '5b', 'Ewbanks': '16'...</td>\n",
       "      <td>{'YDS': '5.11a', 'French': '6c', 'Ewbanks': '2...</td>\n",
       "      <td>{'YDS': '5.10', 'French': '6b', 'Ewbanks': '20...</td>\n",
       "    </tr>\n",
       "    <tr>\n",
       "      <th>safety</th>\n",
       "      <td></td>\n",
       "      <td></td>\n",
       "      <td></td>\n",
       "    </tr>\n",
       "    <tr>\n",
       "      <th>type</th>\n",
       "      <td>{'trad': True, 'aid': True, 'alpine': True}</td>\n",
       "      <td>{'sport': True}</td>\n",
       "      <td>{'trad': True}</td>\n",
       "    </tr>\n",
       "    <tr>\n",
       "      <th>fa</th>\n",
       "      <td>Wade Mills (solo)</td>\n",
       "      <td>unknown</td>\n",
       "      <td>Bob Moseley and Hannah North, Summer 1999</td>\n",
       "    </tr>\n",
       "    <tr>\n",
       "      <th>description</th>\n",
       "      <td>[In the late 1970's, my old friend and mentor,...</td>\n",
       "      <td>[Start on a mostly flat gravel platform and cl...</td>\n",
       "      <td>[Northeast face of Crooked Finger Tower. Good-...</td>\n",
       "    </tr>\n",
       "    <tr>\n",
       "      <th>location</th>\n",
       "      <td>[Route ascends the huge main NE face of Wheeler.]</td>\n",
       "      <td>[Entering the gap from the east, this route wi...</td>\n",
       "      <td>[See Location of Crooked Finger Tower. Approac...</td>\n",
       "    </tr>\n",
       "    <tr>\n",
       "      <th>protection</th>\n",
       "      <td>[See route description and \"Hiking and Climbin...</td>\n",
       "      <td>[8 Bolts - Chain Anchor]</td>\n",
       "      <td>[Standard rack of nuts and cams to 4.5 inches.]</td>\n",
       "    </tr>\n",
       "    <tr>\n",
       "      <th>metadata</th>\n",
       "      <td>{'left_right_seq': '2', 'parent_lnglat': [-114...</td>\n",
       "      <td>{'left_right_seq': '0', 'parent_lnglat': [-114...</td>\n",
       "      <td>{'left_right_seq': '0', 'parent_lnglat': [-115...</td>\n",
       "    </tr>\n",
       "  </tbody>\n",
       "</table>\n",
       "</div>"
      ],
      "text/plain": [
       "                                                             0  \\\n",
       "route_name                                 Stella by Starlight   \n",
       "grade        {'YDS': '5.8', 'French': '5b', 'Ewbanks': '16'...   \n",
       "safety                                                           \n",
       "type               {'trad': True, 'aid': True, 'alpine': True}   \n",
       "fa                                           Wade Mills (solo)   \n",
       "description  [In the late 1970's, my old friend and mentor,...   \n",
       "location     [Route ascends the huge main NE face of Wheeler.]   \n",
       "protection   [See route description and \"Hiking and Climbin...   \n",
       "metadata     {'left_right_seq': '2', 'parent_lnglat': [-114...   \n",
       "\n",
       "                                                             1  \\\n",
       "route_name                                         Skin Yamaka   \n",
       "grade        {'YDS': '5.11a', 'French': '6c', 'Ewbanks': '2...   \n",
       "safety                                                           \n",
       "type                                           {'sport': True}   \n",
       "fa                                                     unknown   \n",
       "description  [Start on a mostly flat gravel platform and cl...   \n",
       "location     [Entering the gap from the east, this route wi...   \n",
       "protection                            [8 Bolts - Chain Anchor]   \n",
       "metadata     {'left_right_seq': '0', 'parent_lnglat': [-114...   \n",
       "\n",
       "                                                             2  \n",
       "route_name                         Himalayan Snowcock Serenade  \n",
       "grade        {'YDS': '5.10', 'French': '6b', 'Ewbanks': '20...  \n",
       "safety                                                          \n",
       "type                                            {'trad': True}  \n",
       "fa                   Bob Moseley and Hannah North, Summer 1999  \n",
       "description  [Northeast face of Crooked Finger Tower. Good-...  \n",
       "location     [See Location of Crooked Finger Tower. Approac...  \n",
       "protection     [Standard rack of nuts and cams to 4.5 inches.]  \n",
       "metadata     {'left_right_seq': '0', 'parent_lnglat': [-115...  "
      ]
     },
     "execution_count": 150,
     "metadata": {},
     "output_type": "execute_result"
    }
   ],
   "source": [
    "df.head(3).T  # Transpose to make columns easier to see"
   ]
  },
  {
   "cell_type": "code",
   "execution_count": 173,
   "id": "5213135a",
   "metadata": {},
   "outputs": [
    {
     "data": {
      "text/html": [
       "<div>\n",
       "<style scoped>\n",
       "    .dataframe tbody tr th:only-of-type {\n",
       "        vertical-align: middle;\n",
       "    }\n",
       "\n",
       "    .dataframe tbody tr th {\n",
       "        vertical-align: top;\n",
       "    }\n",
       "\n",
       "    .dataframe thead th {\n",
       "        text-align: right;\n",
       "    }\n",
       "</style>\n",
       "<table border=\"1\" class=\"dataframe\">\n",
       "  <thead>\n",
       "    <tr style=\"text-align: right;\">\n",
       "      <th></th>\n",
       "      <th>count</th>\n",
       "      <th>nunique</th>\n",
       "      <th>&lt;lambda&gt;</th>\n",
       "    </tr>\n",
       "  </thead>\n",
       "  <tbody>\n",
       "    <tr>\n",
       "      <th>route_name</th>\n",
       "      <td>4962.0</td>\n",
       "      <td>4842.0</td>\n",
       "      <td>0.0</td>\n",
       "    </tr>\n",
       "    <tr>\n",
       "      <th>grade</th>\n",
       "      <td>4962.0</td>\n",
       "      <td>NaN</td>\n",
       "      <td>0.0</td>\n",
       "    </tr>\n",
       "    <tr>\n",
       "      <th>safety</th>\n",
       "      <td>4962.0</td>\n",
       "      <td>4.0</td>\n",
       "      <td>0.0</td>\n",
       "    </tr>\n",
       "    <tr>\n",
       "      <th>type</th>\n",
       "      <td>4962.0</td>\n",
       "      <td>NaN</td>\n",
       "      <td>0.0</td>\n",
       "    </tr>\n",
       "    <tr>\n",
       "      <th>fa</th>\n",
       "      <td>4962.0</td>\n",
       "      <td>2193.0</td>\n",
       "      <td>0.0</td>\n",
       "    </tr>\n",
       "    <tr>\n",
       "      <th>description</th>\n",
       "      <td>4962.0</td>\n",
       "      <td>NaN</td>\n",
       "      <td>0.0</td>\n",
       "    </tr>\n",
       "    <tr>\n",
       "      <th>location</th>\n",
       "      <td>4962.0</td>\n",
       "      <td>NaN</td>\n",
       "      <td>0.0</td>\n",
       "    </tr>\n",
       "    <tr>\n",
       "      <th>protection</th>\n",
       "      <td>4962.0</td>\n",
       "      <td>NaN</td>\n",
       "      <td>0.0</td>\n",
       "    </tr>\n",
       "    <tr>\n",
       "      <th>metadata</th>\n",
       "      <td>4962.0</td>\n",
       "      <td>NaN</td>\n",
       "      <td>0.0</td>\n",
       "    </tr>\n",
       "  </tbody>\n",
       "</table>\n",
       "</div>"
      ],
      "text/plain": [
       "              count  nunique  <lambda>\n",
       "route_name   4962.0   4842.0       0.0\n",
       "grade        4962.0      NaN       0.0\n",
       "safety       4962.0      4.0       0.0\n",
       "type         4962.0      NaN       0.0\n",
       "fa           4962.0   2193.0       0.0\n",
       "description  4962.0      NaN       0.0\n",
       "location     4962.0      NaN       0.0\n",
       "protection   4962.0      NaN       0.0\n",
       "metadata     4962.0      NaN       0.0"
      ]
     },
     "execution_count": 173,
     "metadata": {},
     "output_type": "execute_result"
    }
   ],
   "source": [
    "df.agg(['count', 'nunique', lambda x: x.isnull().sum()]).T"
   ]
  },
  {
   "cell_type": "code",
   "execution_count": 152,
   "id": "47d708a3",
   "metadata": {},
   "outputs": [
    {
     "name": "stdout",
     "output_type": "stream",
     "text": [
      "<class 'pandas.core.frame.DataFrame'>\n",
      "RangeIndex: 4962 entries, 0 to 4961\n",
      "Data columns (total 9 columns):\n",
      " #   Column       Non-Null Count  Dtype \n",
      "---  ------       --------------  ----- \n",
      " 0   route_name   4962 non-null   object\n",
      " 1   grade        4962 non-null   object\n",
      " 2   safety       4962 non-null   object\n",
      " 3   type         4962 non-null   object\n",
      " 4   fa           4962 non-null   object\n",
      " 5   description  4962 non-null   object\n",
      " 6   location     4962 non-null   object\n",
      " 7   protection   4962 non-null   object\n",
      " 8   metadata     4962 non-null   object\n",
      "dtypes: object(9)\n",
      "memory usage: 349.0+ KB\n"
     ]
    }
   ],
   "source": [
    "df.info()"
   ]
  },
  {
   "cell_type": "markdown",
   "id": "e77422d9",
   "metadata": {},
   "source": [
    "# Basic Info on some columns"
   ]
  },
  {
   "cell_type": "markdown",
   "id": "2fd9652f",
   "metadata": {},
   "source": [
    "## route_name"
   ]
  },
  {
   "cell_type": "code",
   "execution_count": 153,
   "id": "c228b6bb",
   "metadata": {},
   "outputs": [
    {
     "data": {
      "text/plain": [
       "count       4962\n",
       "nunique     4842\n",
       "<lambda>       0\n",
       "Name: route_name, dtype: int64"
      ]
     },
     "execution_count": 153,
     "metadata": {},
     "output_type": "execute_result"
    }
   ],
   "source": [
    "df.route_name.agg(['count', 'nunique', lambda x: x.isnull().sum()]).T"
   ]
  },
  {
   "cell_type": "code",
   "execution_count": 154,
   "id": "8239d851",
   "metadata": {},
   "outputs": [
    {
     "data": {
      "text/plain": [
       "Unknown                              12\n",
       "[Redacted]                           12\n",
       "Unnamed                               6\n",
       "Dihedral                              4\n",
       "Center Face                           4\n",
       "                                     ..\n",
       "Fire Fresh Traverse                   1\n",
       "Jones'n                               1\n",
       "Mantle direct                         1\n",
       "Rail to seam                          1\n",
       "French Roast (CLOSED TO CLIMBING)     1\n",
       "Name: route_name, Length: 4842, dtype: int64"
      ]
     },
     "execution_count": 154,
     "metadata": {},
     "output_type": "execute_result"
    }
   ],
   "source": [
    "df.route_name.value_counts()"
   ]
  },
  {
   "cell_type": "code",
   "execution_count": 155,
   "id": "cdd2e651",
   "metadata": {},
   "outputs": [
    {
     "data": {
      "text/plain": [
       "<AxesSubplot:>"
      ]
     },
     "execution_count": 155,
     "metadata": {},
     "output_type": "execute_result"
    },
    {
     "data": {
      "image/png": "[encoded data removed]",
      "text/plain": [
       "<Figure size 432x288 with 1 Axes>"
      ]
     },
     "metadata": {
      "needs_background": "light"
     },
     "output_type": "display_data"
    }
   ],
   "source": [
    "df.route_name.str.len().hist()"
   ]
  },
  {
   "cell_type": "markdown",
   "id": "31c4896b",
   "metadata": {},
   "source": [
    "### Short values"
   ]
  },
  {
   "cell_type": "code",
   "execution_count": 156,
   "id": "d62b5d45",
   "metadata": {},
   "outputs": [
    {
     "data": {
      "text/plain": [
       "Unknown      12\n",
       "Unnamed       6\n",
       "Dihedral      4\n",
       "Left Face     3\n",
       "Crack         3\n",
       "             ..\n",
       "Caliman       1\n",
       "Bread Box     1\n",
       "Get Moist     1\n",
       "West Face     1\n",
       "Kill Bill     1\n",
       "Name: route_name, Length: 974, dtype: int64"
      ]
     },
     "execution_count": 156,
     "metadata": {},
     "output_type": "execute_result"
    }
   ],
   "source": [
    "df[\n",
    "    df.route_name.str.len()<10\n",
    "].route_name.value_counts()"
   ]
  },
  {
   "cell_type": "markdown",
   "id": "fa8e068a",
   "metadata": {},
   "source": [
    "### Long values"
   ]
  },
  {
   "cell_type": "code",
   "execution_count": 157,
   "id": "6f4e3441",
   "metadata": {},
   "outputs": [
    {
     "data": {
      "text/plain": [
       "Himalayan Snowcock Serenade          1\n",
       "#OwlLivesMatter #Hedwig4President    1\n",
       "Who Uses a Slingshot Anyway          1\n",
       "Grand Vizier's Garden Party          1\n",
       "Chemical Ali Memorial Climb          1\n",
       "                                    ..\n",
       "Intercontinental Breakfast           1\n",
       "West Face - Left Side Lieback        1\n",
       "West Face - Central Crack Direct     1\n",
       "South Face - The Downclimb           1\n",
       "French Roast (CLOSED TO CLIMBING)    1\n",
       "Name: route_name, Length: 215, dtype: int64"
      ]
     },
     "execution_count": 157,
     "metadata": {},
     "output_type": "execute_result"
    }
   ],
   "source": [
    "df[\n",
    "    df.route_name.str.len()>25\n",
    "].route_name.value_counts()"
   ]
  },
  {
   "cell_type": "code",
   "execution_count": null,
   "id": "3ba87754",
   "metadata": {},
   "outputs": [],
   "source": []
  },
  {
   "cell_type": "markdown",
   "id": "8ba6f2a0",
   "metadata": {},
   "source": [
    "### Alphabetically"
   ]
  },
  {
   "cell_type": "code",
   "execution_count": 158,
   "id": "1a27ce5b",
   "metadata": {},
   "outputs": [
    {
     "data": {
      "text/plain": [
       "4570                             \"Route to Nowhere\"\n",
       "187                                \"peanut brittle\"\n",
       "3437                                #1s All the Way\n",
       "3397              #OwlLivesMatter #Hedwig4President\n",
       "1639                                           $500\n",
       "                           ...                     \n",
       "4207                                      unknown 2\n",
       "259     unknown in gully up & right of Stick climbs\n",
       "258                    unknown left start to Datura\n",
       "257                            unknown right of hlt\n",
       "4206                                        unnamed\n",
       "Name: route_name, Length: 4962, dtype: object"
      ]
     },
     "execution_count": 158,
     "metadata": {},
     "output_type": "execute_result"
    }
   ],
   "source": [
    "df.route_name.sort_values()"
   ]
  },
  {
   "cell_type": "code",
   "execution_count": 159,
   "id": "ef55bac5",
   "metadata": {},
   "outputs": [
    {
     "data": {
      "text/plain": [
       "3313         The Owlpine Route\n",
       "4873    Shelter from the Storm\n",
       "972                    Cave In\n",
       "1316      Under the Desert Sky\n",
       "4369                 Woke Boys\n",
       "3979             King of Beers\n",
       "219                     Ixtlan\n",
       "1642                [Redacted]\n",
       "4313     Nighttime Shenanigans\n",
       "4561                Whackamole\n",
       "Name: route_name, dtype: object"
      ]
     },
     "execution_count": 159,
     "metadata": {},
     "output_type": "execute_result"
    }
   ],
   "source": [
    "df.route_name.sort_values().sample(10)"
   ]
  },
  {
   "cell_type": "markdown",
   "id": "b84f3fa7",
   "metadata": {},
   "source": [
    "# Expand dict columns"
   ]
  },
  {
   "cell_type": "code",
   "execution_count": 160,
   "id": "c24f0950",
   "metadata": {},
   "outputs": [
    {
     "data": {
      "text/plain": [
       "route_name     object\n",
       "grade          object\n",
       "safety         object\n",
       "type           object\n",
       "fa             object\n",
       "description    object\n",
       "location       object\n",
       "protection     object\n",
       "metadata       object\n",
       "dtype: object"
      ]
     },
     "execution_count": 160,
     "metadata": {},
     "output_type": "execute_result"
    }
   ],
   "source": [
    "df.dtypes"
   ]
  },
  {
   "cell_type": "markdown",
   "id": "34f0f237",
   "metadata": {},
   "source": [
    "## Grades"
   ]
  },
  {
   "cell_type": "code",
   "execution_count": 116,
   "id": "7e2bd9e5",
   "metadata": {},
   "outputs": [
    {
     "data": {
      "text/html": [
       "<div>\n",
       "<style scoped>\n",
       "    .dataframe tbody tr th:only-of-type {\n",
       "        vertical-align: middle;\n",
       "    }\n",
       "\n",
       "    .dataframe tbody tr th {\n",
       "        vertical-align: top;\n",
       "    }\n",
       "\n",
       "    .dataframe thead th {\n",
       "        text-align: right;\n",
       "    }\n",
       "</style>\n",
       "<table border=\"1\" class=\"dataframe\">\n",
       "  <thead>\n",
       "    <tr style=\"text-align: right;\">\n",
       "      <th></th>\n",
       "      <th>grades-YDS</th>\n",
       "      <th>grades-French</th>\n",
       "      <th>grades-Ewbanks</th>\n",
       "      <th>grades-UIAA</th>\n",
       "      <th>grades-ZA</th>\n",
       "      <th>grades-British</th>\n",
       "      <th>grades-yds_aid</th>\n",
       "      <th>grades-Font</th>\n",
       "    </tr>\n",
       "  </thead>\n",
       "  <tbody>\n",
       "    <tr>\n",
       "      <th>0</th>\n",
       "      <td>5.8</td>\n",
       "      <td>5b</td>\n",
       "      <td>16</td>\n",
       "      <td>VI-</td>\n",
       "      <td>15</td>\n",
       "      <td>HVS 4c</td>\n",
       "      <td>A3+</td>\n",
       "      <td>NaN</td>\n",
       "    </tr>\n",
       "    <tr>\n",
       "      <th>1</th>\n",
       "      <td>5.11a</td>\n",
       "      <td>6c</td>\n",
       "      <td>22</td>\n",
       "      <td>VII+</td>\n",
       "      <td>22</td>\n",
       "      <td>E3 5c</td>\n",
       "      <td>NaN</td>\n",
       "      <td>NaN</td>\n",
       "    </tr>\n",
       "    <tr>\n",
       "      <th>2</th>\n",
       "      <td>5.10</td>\n",
       "      <td>6b</td>\n",
       "      <td>20</td>\n",
       "      <td>VII-</td>\n",
       "      <td>19</td>\n",
       "      <td>E2 5b</td>\n",
       "      <td>NaN</td>\n",
       "      <td>NaN</td>\n",
       "    </tr>\n",
       "    <tr>\n",
       "      <th>3</th>\n",
       "      <td>5.9-</td>\n",
       "      <td>5c</td>\n",
       "      <td>17</td>\n",
       "      <td>VI</td>\n",
       "      <td>16</td>\n",
       "      <td>HVS 4c</td>\n",
       "      <td>NaN</td>\n",
       "      <td>NaN</td>\n",
       "    </tr>\n",
       "    <tr>\n",
       "      <th>4</th>\n",
       "      <td>5.6</td>\n",
       "      <td>4c</td>\n",
       "      <td>14</td>\n",
       "      <td>V</td>\n",
       "      <td>12</td>\n",
       "      <td>S 4b</td>\n",
       "      <td>NaN</td>\n",
       "      <td>NaN</td>\n",
       "    </tr>\n",
       "    <tr>\n",
       "      <th>...</th>\n",
       "      <td>...</td>\n",
       "      <td>...</td>\n",
       "      <td>...</td>\n",
       "      <td>...</td>\n",
       "      <td>...</td>\n",
       "      <td>...</td>\n",
       "      <td>...</td>\n",
       "      <td>...</td>\n",
       "    </tr>\n",
       "    <tr>\n",
       "      <th>4957</th>\n",
       "      <td>5.12c</td>\n",
       "      <td>7b+</td>\n",
       "      <td>27</td>\n",
       "      <td>IX-</td>\n",
       "      <td>27</td>\n",
       "      <td>E6 6b</td>\n",
       "      <td>NaN</td>\n",
       "      <td>NaN</td>\n",
       "    </tr>\n",
       "    <tr>\n",
       "      <th>4958</th>\n",
       "      <td>5.10c</td>\n",
       "      <td>6b</td>\n",
       "      <td>20</td>\n",
       "      <td>VII</td>\n",
       "      <td>20</td>\n",
       "      <td>E2 5b</td>\n",
       "      <td>NaN</td>\n",
       "      <td>NaN</td>\n",
       "    </tr>\n",
       "    <tr>\n",
       "      <th>4959</th>\n",
       "      <td>5.10b</td>\n",
       "      <td>6a+</td>\n",
       "      <td>19</td>\n",
       "      <td>VII-</td>\n",
       "      <td>19</td>\n",
       "      <td>E2 5b</td>\n",
       "      <td>NaN</td>\n",
       "      <td>NaN</td>\n",
       "    </tr>\n",
       "    <tr>\n",
       "      <th>4960</th>\n",
       "      <td>5.11a</td>\n",
       "      <td>6c</td>\n",
       "      <td>22</td>\n",
       "      <td>VII+</td>\n",
       "      <td>22</td>\n",
       "      <td>E3 5c</td>\n",
       "      <td>NaN</td>\n",
       "      <td>NaN</td>\n",
       "    </tr>\n",
       "    <tr>\n",
       "      <th>4961</th>\n",
       "      <td>5.10a</td>\n",
       "      <td>6a</td>\n",
       "      <td>18</td>\n",
       "      <td>VI+</td>\n",
       "      <td>18</td>\n",
       "      <td>E1 5a</td>\n",
       "      <td>NaN</td>\n",
       "      <td>NaN</td>\n",
       "    </tr>\n",
       "  </tbody>\n",
       "</table>\n",
       "<p>4962 rows × 8 columns</p>\n",
       "</div>"
      ],
      "text/plain": [
       "     grades-YDS grades-French grades-Ewbanks grades-UIAA grades-ZA  \\\n",
       "0           5.8            5b             16         VI-        15   \n",
       "1         5.11a            6c             22        VII+        22   \n",
       "2          5.10            6b             20        VII-        19   \n",
       "3          5.9-            5c             17          VI        16   \n",
       "4           5.6            4c             14           V        12   \n",
       "...         ...           ...            ...         ...       ...   \n",
       "4957      5.12c           7b+             27         IX-        27   \n",
       "4958      5.10c            6b             20         VII        20   \n",
       "4959      5.10b           6a+             19        VII-        19   \n",
       "4960      5.11a            6c             22        VII+        22   \n",
       "4961      5.10a            6a             18         VI+        18   \n",
       "\n",
       "     grades-British grades-yds_aid grades-Font  \n",
       "0            HVS 4c            A3+         NaN  \n",
       "1             E3 5c            NaN         NaN  \n",
       "2             E2 5b            NaN         NaN  \n",
       "3            HVS 4c            NaN         NaN  \n",
       "4              S 4b            NaN         NaN  \n",
       "...             ...            ...         ...  \n",
       "4957          E6 6b            NaN         NaN  \n",
       "4958          E2 5b            NaN         NaN  \n",
       "4959          E2 5b            NaN         NaN  \n",
       "4960          E3 5c            NaN         NaN  \n",
       "4961          E1 5a            NaN         NaN  \n",
       "\n",
       "[4962 rows x 8 columns]"
      ]
     },
     "execution_count": 116,
     "metadata": {},
     "output_type": "execute_result"
    }
   ],
   "source": [
    "dft = pd.DataFrame(df.grade.to_dict().values()).rename(columns=lambda c: 'grades-'+c)\n",
    "dft"
   ]
  },
  {
   "cell_type": "code",
   "execution_count": 117,
   "id": "52d5382f",
   "metadata": {},
   "outputs": [],
   "source": [
    "df = pd.merge(\n",
    "         df, \n",
    "         dft,\n",
    "         left_index=True,\n",
    "         right_index=True,\n",
    "         how='inner'\n",
    ")"
   ]
  },
  {
   "cell_type": "code",
   "execution_count": 118,
   "id": "593e00b1",
   "metadata": {},
   "outputs": [],
   "source": [
    "df.drop(columns='grade', inplace=True)"
   ]
  },
  {
   "cell_type": "markdown",
   "id": "fce07910",
   "metadata": {},
   "source": [
    "## type"
   ]
  },
  {
   "cell_type": "code",
   "execution_count": 119,
   "id": "6c29de40",
   "metadata": {},
   "outputs": [
    {
     "data": {
      "text/html": [
       "<div>\n",
       "<style scoped>\n",
       "    .dataframe tbody tr th:only-of-type {\n",
       "        vertical-align: middle;\n",
       "    }\n",
       "\n",
       "    .dataframe tbody tr th {\n",
       "        vertical-align: top;\n",
       "    }\n",
       "\n",
       "    .dataframe thead th {\n",
       "        text-align: right;\n",
       "    }\n",
       "</style>\n",
       "<table border=\"1\" class=\"dataframe\">\n",
       "  <thead>\n",
       "    <tr style=\"text-align: right;\">\n",
       "      <th></th>\n",
       "      <th>type-trad</th>\n",
       "      <th>type-aid</th>\n",
       "      <th>type-alpine</th>\n",
       "      <th>type-sport</th>\n",
       "      <th>type-tr</th>\n",
       "      <th>type-boulder</th>\n",
       "      <th>type-mixed</th>\n",
       "      <th>type-ice</th>\n",
       "      <th>type-snow</th>\n",
       "    </tr>\n",
       "  </thead>\n",
       "  <tbody>\n",
       "    <tr>\n",
       "      <th>0</th>\n",
       "      <td>True</td>\n",
       "      <td>True</td>\n",
       "      <td>True</td>\n",
       "      <td>NaN</td>\n",
       "      <td>NaN</td>\n",
       "      <td>NaN</td>\n",
       "      <td>NaN</td>\n",
       "      <td>NaN</td>\n",
       "      <td>NaN</td>\n",
       "    </tr>\n",
       "    <tr>\n",
       "      <th>1</th>\n",
       "      <td>NaN</td>\n",
       "      <td>NaN</td>\n",
       "      <td>NaN</td>\n",
       "      <td>True</td>\n",
       "      <td>NaN</td>\n",
       "      <td>NaN</td>\n",
       "      <td>NaN</td>\n",
       "      <td>NaN</td>\n",
       "      <td>NaN</td>\n",
       "    </tr>\n",
       "    <tr>\n",
       "      <th>2</th>\n",
       "      <td>True</td>\n",
       "      <td>NaN</td>\n",
       "      <td>NaN</td>\n",
       "      <td>NaN</td>\n",
       "      <td>NaN</td>\n",
       "      <td>NaN</td>\n",
       "      <td>NaN</td>\n",
       "      <td>NaN</td>\n",
       "      <td>NaN</td>\n",
       "    </tr>\n",
       "    <tr>\n",
       "      <th>3</th>\n",
       "      <td>NaN</td>\n",
       "      <td>NaN</td>\n",
       "      <td>NaN</td>\n",
       "      <td>True</td>\n",
       "      <td>True</td>\n",
       "      <td>NaN</td>\n",
       "      <td>NaN</td>\n",
       "      <td>NaN</td>\n",
       "      <td>NaN</td>\n",
       "    </tr>\n",
       "    <tr>\n",
       "      <th>4</th>\n",
       "      <td>True</td>\n",
       "      <td>NaN</td>\n",
       "      <td>NaN</td>\n",
       "      <td>NaN</td>\n",
       "      <td>NaN</td>\n",
       "      <td>NaN</td>\n",
       "      <td>NaN</td>\n",
       "      <td>NaN</td>\n",
       "      <td>NaN</td>\n",
       "    </tr>\n",
       "    <tr>\n",
       "      <th>...</th>\n",
       "      <td>...</td>\n",
       "      <td>...</td>\n",
       "      <td>...</td>\n",
       "      <td>...</td>\n",
       "      <td>...</td>\n",
       "      <td>...</td>\n",
       "      <td>...</td>\n",
       "      <td>...</td>\n",
       "      <td>...</td>\n",
       "    </tr>\n",
       "    <tr>\n",
       "      <th>4957</th>\n",
       "      <td>NaN</td>\n",
       "      <td>NaN</td>\n",
       "      <td>NaN</td>\n",
       "      <td>True</td>\n",
       "      <td>NaN</td>\n",
       "      <td>NaN</td>\n",
       "      <td>NaN</td>\n",
       "      <td>NaN</td>\n",
       "      <td>NaN</td>\n",
       "    </tr>\n",
       "    <tr>\n",
       "      <th>4958</th>\n",
       "      <td>NaN</td>\n",
       "      <td>NaN</td>\n",
       "      <td>NaN</td>\n",
       "      <td>True</td>\n",
       "      <td>NaN</td>\n",
       "      <td>NaN</td>\n",
       "      <td>NaN</td>\n",
       "      <td>NaN</td>\n",
       "      <td>NaN</td>\n",
       "    </tr>\n",
       "    <tr>\n",
       "      <th>4959</th>\n",
       "      <td>NaN</td>\n",
       "      <td>NaN</td>\n",
       "      <td>NaN</td>\n",
       "      <td>True</td>\n",
       "      <td>NaN</td>\n",
       "      <td>NaN</td>\n",
       "      <td>NaN</td>\n",
       "      <td>NaN</td>\n",
       "      <td>NaN</td>\n",
       "    </tr>\n",
       "    <tr>\n",
       "      <th>4960</th>\n",
       "      <td>NaN</td>\n",
       "      <td>NaN</td>\n",
       "      <td>NaN</td>\n",
       "      <td>True</td>\n",
       "      <td>NaN</td>\n",
       "      <td>NaN</td>\n",
       "      <td>NaN</td>\n",
       "      <td>NaN</td>\n",
       "      <td>NaN</td>\n",
       "    </tr>\n",
       "    <tr>\n",
       "      <th>4961</th>\n",
       "      <td>NaN</td>\n",
       "      <td>NaN</td>\n",
       "      <td>NaN</td>\n",
       "      <td>True</td>\n",
       "      <td>NaN</td>\n",
       "      <td>NaN</td>\n",
       "      <td>NaN</td>\n",
       "      <td>NaN</td>\n",
       "      <td>NaN</td>\n",
       "    </tr>\n",
       "  </tbody>\n",
       "</table>\n",
       "<p>4962 rows × 9 columns</p>\n",
       "</div>"
      ],
      "text/plain": [
       "     type-trad type-aid type-alpine type-sport type-tr type-boulder  \\\n",
       "0         True     True        True        NaN     NaN          NaN   \n",
       "1          NaN      NaN         NaN       True     NaN          NaN   \n",
       "2         True      NaN         NaN        NaN     NaN          NaN   \n",
       "3          NaN      NaN         NaN       True    True          NaN   \n",
       "4         True      NaN         NaN        NaN     NaN          NaN   \n",
       "...        ...      ...         ...        ...     ...          ...   \n",
       "4957       NaN      NaN         NaN       True     NaN          NaN   \n",
       "4958       NaN      NaN         NaN       True     NaN          NaN   \n",
       "4959       NaN      NaN         NaN       True     NaN          NaN   \n",
       "4960       NaN      NaN         NaN       True     NaN          NaN   \n",
       "4961       NaN      NaN         NaN       True     NaN          NaN   \n",
       "\n",
       "     type-mixed type-ice type-snow  \n",
       "0           NaN      NaN       NaN  \n",
       "1           NaN      NaN       NaN  \n",
       "2           NaN      NaN       NaN  \n",
       "3           NaN      NaN       NaN  \n",
       "4           NaN      NaN       NaN  \n",
       "...         ...      ...       ...  \n",
       "4957        NaN      NaN       NaN  \n",
       "4958        NaN      NaN       NaN  \n",
       "4959        NaN      NaN       NaN  \n",
       "4960        NaN      NaN       NaN  \n",
       "4961        NaN      NaN       NaN  \n",
       "\n",
       "[4962 rows x 9 columns]"
      ]
     },
     "execution_count": 119,
     "metadata": {},
     "output_type": "execute_result"
    }
   ],
   "source": [
    "dft = pd.DataFrame(df.type.to_dict().values()).rename(columns=lambda c: 'type-'+c)\n",
    "dft"
   ]
  },
  {
   "cell_type": "code",
   "execution_count": 120,
   "id": "51cfb9f8",
   "metadata": {},
   "outputs": [
    {
     "data": {
      "text/html": [
       "<div>\n",
       "<style scoped>\n",
       "    .dataframe tbody tr th:only-of-type {\n",
       "        vertical-align: middle;\n",
       "    }\n",
       "\n",
       "    .dataframe tbody tr th {\n",
       "        vertical-align: top;\n",
       "    }\n",
       "\n",
       "    .dataframe thead th {\n",
       "        text-align: right;\n",
       "    }\n",
       "</style>\n",
       "<table border=\"1\" class=\"dataframe\">\n",
       "  <thead>\n",
       "    <tr style=\"text-align: right;\">\n",
       "      <th></th>\n",
       "      <th>count</th>\n",
       "      <th>nunique</th>\n",
       "      <th>&lt;lambda&gt;</th>\n",
       "    </tr>\n",
       "  </thead>\n",
       "  <tbody>\n",
       "    <tr>\n",
       "      <th>type-trad</th>\n",
       "      <td>1823</td>\n",
       "      <td>1</td>\n",
       "      <td>3139</td>\n",
       "    </tr>\n",
       "    <tr>\n",
       "      <th>type-aid</th>\n",
       "      <td>26</td>\n",
       "      <td>1</td>\n",
       "      <td>4936</td>\n",
       "    </tr>\n",
       "    <tr>\n",
       "      <th>type-alpine</th>\n",
       "      <td>75</td>\n",
       "      <td>1</td>\n",
       "      <td>4887</td>\n",
       "    </tr>\n",
       "    <tr>\n",
       "      <th>type-sport</th>\n",
       "      <td>2042</td>\n",
       "      <td>1</td>\n",
       "      <td>2920</td>\n",
       "    </tr>\n",
       "    <tr>\n",
       "      <th>type-tr</th>\n",
       "      <td>221</td>\n",
       "      <td>1</td>\n",
       "      <td>4741</td>\n",
       "    </tr>\n",
       "    <tr>\n",
       "      <th>type-boulder</th>\n",
       "      <td>1034</td>\n",
       "      <td>1</td>\n",
       "      <td>3928</td>\n",
       "    </tr>\n",
       "    <tr>\n",
       "      <th>type-mixed</th>\n",
       "      <td>3</td>\n",
       "      <td>1</td>\n",
       "      <td>4959</td>\n",
       "    </tr>\n",
       "    <tr>\n",
       "      <th>type-ice</th>\n",
       "      <td>13</td>\n",
       "      <td>1</td>\n",
       "      <td>4949</td>\n",
       "    </tr>\n",
       "    <tr>\n",
       "      <th>type-snow</th>\n",
       "      <td>1</td>\n",
       "      <td>1</td>\n",
       "      <td>4961</td>\n",
       "    </tr>\n",
       "  </tbody>\n",
       "</table>\n",
       "</div>"
      ],
      "text/plain": [
       "              count  nunique  <lambda>\n",
       "type-trad      1823        1      3139\n",
       "type-aid         26        1      4936\n",
       "type-alpine      75        1      4887\n",
       "type-sport     2042        1      2920\n",
       "type-tr         221        1      4741\n",
       "type-boulder   1034        1      3928\n",
       "type-mixed        3        1      4959\n",
       "type-ice         13        1      4949\n",
       "type-snow         1        1      4961"
      ]
     },
     "execution_count": 120,
     "metadata": {},
     "output_type": "execute_result"
    }
   ],
   "source": [
    "dft.agg(['count', 'nunique', lambda x: x.isnull().sum()]).T"
   ]
  },
  {
   "cell_type": "code",
   "execution_count": 121,
   "id": "d1909b86",
   "metadata": {},
   "outputs": [
    {
     "data": {
      "text/html": [
       "<div>\n",
       "<style scoped>\n",
       "    .dataframe tbody tr th:only-of-type {\n",
       "        vertical-align: middle;\n",
       "    }\n",
       "\n",
       "    .dataframe tbody tr th {\n",
       "        vertical-align: top;\n",
       "    }\n",
       "\n",
       "    .dataframe thead th {\n",
       "        text-align: right;\n",
       "    }\n",
       "</style>\n",
       "<table border=\"1\" class=\"dataframe\">\n",
       "  <thead>\n",
       "    <tr style=\"text-align: right;\">\n",
       "      <th></th>\n",
       "      <th>type-trad</th>\n",
       "      <th>type-aid</th>\n",
       "      <th>type-alpine</th>\n",
       "      <th>type-sport</th>\n",
       "      <th>type-tr</th>\n",
       "      <th>type-boulder</th>\n",
       "      <th>type-mixed</th>\n",
       "      <th>type-ice</th>\n",
       "      <th>type-snow</th>\n",
       "    </tr>\n",
       "  </thead>\n",
       "  <tbody>\n",
       "    <tr>\n",
       "      <th>0</th>\n",
       "      <td>True</td>\n",
       "      <td>True</td>\n",
       "      <td>True</td>\n",
       "      <td>True</td>\n",
       "      <td>True</td>\n",
       "      <td>True</td>\n",
       "      <td>True</td>\n",
       "      <td>True</td>\n",
       "      <td>True</td>\n",
       "    </tr>\n",
       "  </tbody>\n",
       "</table>\n",
       "</div>"
      ],
      "text/plain": [
       "  type-trad type-aid type-alpine type-sport type-tr type-boulder type-mixed  \\\n",
       "0      True     True        True       True    True         True       True   \n",
       "\n",
       "  type-ice type-snow  \n",
       "0     True      True  "
      ]
     },
     "execution_count": 121,
     "metadata": {},
     "output_type": "execute_result"
    }
   ],
   "source": [
    "dft.mode()"
   ]
  },
  {
   "cell_type": "code",
   "execution_count": 122,
   "id": "e9e764d2",
   "metadata": {},
   "outputs": [
    {
     "data": {
      "text/html": [
       "<div>\n",
       "<style scoped>\n",
       "    .dataframe tbody tr th:only-of-type {\n",
       "        vertical-align: middle;\n",
       "    }\n",
       "\n",
       "    .dataframe tbody tr th {\n",
       "        vertical-align: top;\n",
       "    }\n",
       "\n",
       "    .dataframe thead th {\n",
       "        text-align: right;\n",
       "    }\n",
       "</style>\n",
       "<table border=\"1\" class=\"dataframe\">\n",
       "  <thead>\n",
       "    <tr style=\"text-align: right;\">\n",
       "      <th></th>\n",
       "      <th>type-trad</th>\n",
       "      <th>type-aid</th>\n",
       "      <th>type-alpine</th>\n",
       "      <th>type-sport</th>\n",
       "      <th>type-tr</th>\n",
       "      <th>type-boulder</th>\n",
       "      <th>type-mixed</th>\n",
       "      <th>type-ice</th>\n",
       "      <th>type-snow</th>\n",
       "    </tr>\n",
       "  </thead>\n",
       "  <tbody>\n",
       "    <tr>\n",
       "      <th>count</th>\n",
       "      <td>1823</td>\n",
       "      <td>26</td>\n",
       "      <td>75</td>\n",
       "      <td>2042</td>\n",
       "      <td>221</td>\n",
       "      <td>1034</td>\n",
       "      <td>3</td>\n",
       "      <td>13</td>\n",
       "      <td>1</td>\n",
       "    </tr>\n",
       "    <tr>\n",
       "      <th>unique</th>\n",
       "      <td>1</td>\n",
       "      <td>1</td>\n",
       "      <td>1</td>\n",
       "      <td>1</td>\n",
       "      <td>1</td>\n",
       "      <td>1</td>\n",
       "      <td>1</td>\n",
       "      <td>1</td>\n",
       "      <td>1</td>\n",
       "    </tr>\n",
       "    <tr>\n",
       "      <th>top</th>\n",
       "      <td>True</td>\n",
       "      <td>True</td>\n",
       "      <td>True</td>\n",
       "      <td>True</td>\n",
       "      <td>True</td>\n",
       "      <td>True</td>\n",
       "      <td>True</td>\n",
       "      <td>True</td>\n",
       "      <td>True</td>\n",
       "    </tr>\n",
       "    <tr>\n",
       "      <th>freq</th>\n",
       "      <td>1823</td>\n",
       "      <td>26</td>\n",
       "      <td>75</td>\n",
       "      <td>2042</td>\n",
       "      <td>221</td>\n",
       "      <td>1034</td>\n",
       "      <td>3</td>\n",
       "      <td>13</td>\n",
       "      <td>1</td>\n",
       "    </tr>\n",
       "  </tbody>\n",
       "</table>\n",
       "</div>"
      ],
      "text/plain": [
       "       type-trad type-aid type-alpine type-sport type-tr type-boulder  \\\n",
       "count       1823       26          75       2042     221         1034   \n",
       "unique         1        1           1          1       1            1   \n",
       "top         True     True        True       True    True         True   \n",
       "freq        1823       26          75       2042     221         1034   \n",
       "\n",
       "       type-mixed type-ice type-snow  \n",
       "count           3       13         1  \n",
       "unique          1        1         1  \n",
       "top          True     True      True  \n",
       "freq            3       13         1  "
      ]
     },
     "execution_count": 122,
     "metadata": {},
     "output_type": "execute_result"
    }
   ],
   "source": [
    "dft.describe()"
   ]
  },
  {
   "cell_type": "markdown",
   "id": "6964b7ee",
   "metadata": {},
   "source": [
    "##### The only unique value in all 'type' columns is 'True'"
   ]
  },
  {
   "cell_type": "code",
   "execution_count": 123,
   "id": "39b56ae0",
   "metadata": {},
   "outputs": [],
   "source": [
    "df = pd.merge(\n",
    "         df, \n",
    "         dft,\n",
    "         left_index=True,\n",
    "         right_index=True,\n",
    "         how='inner'\n",
    ")"
   ]
  },
  {
   "cell_type": "code",
   "execution_count": 124,
   "id": "25ef4b4c",
   "metadata": {},
   "outputs": [],
   "source": [
    "df.drop(columns='type', inplace=True)"
   ]
  },
  {
   "cell_type": "markdown",
   "id": "d1844ebc",
   "metadata": {},
   "source": [
    "## metadata"
   ]
  },
  {
   "cell_type": "code",
   "execution_count": 125,
   "id": "a547e401",
   "metadata": {},
   "outputs": [
    {
     "data": {
      "text/html": [
       "<div>\n",
       "<style scoped>\n",
       "    .dataframe tbody tr th:only-of-type {\n",
       "        vertical-align: middle;\n",
       "    }\n",
       "\n",
       "    .dataframe tbody tr th {\n",
       "        vertical-align: top;\n",
       "    }\n",
       "\n",
       "    .dataframe thead th {\n",
       "        text-align: right;\n",
       "    }\n",
       "</style>\n",
       "<table border=\"1\" class=\"dataframe\">\n",
       "  <thead>\n",
       "    <tr style=\"text-align: right;\">\n",
       "      <th></th>\n",
       "      <th>metadata-left_right_seq</th>\n",
       "      <th>metadata-parent_lnglat</th>\n",
       "      <th>metadata-parent_sector</th>\n",
       "      <th>metadata-mp_route_id</th>\n",
       "      <th>metadata-mp_sector_id</th>\n",
       "      <th>metadata-mp_path</th>\n",
       "    </tr>\n",
       "  </thead>\n",
       "  <tbody>\n",
       "    <tr>\n",
       "      <th>0</th>\n",
       "      <td>2</td>\n",
       "      <td>[-114.31392, 38.98578]</td>\n",
       "      <td>Wheeler Peak</td>\n",
       "      <td>109152533</td>\n",
       "      <td>105972685</td>\n",
       "      <td>Eastern Nevada|Wheeler Peak</td>\n",
       "    </tr>\n",
       "    <tr>\n",
       "      <th>1</th>\n",
       "      <td>0</td>\n",
       "      <td>[-114.8918, 39.3509]</td>\n",
       "      <td>Hercules Gap</td>\n",
       "      <td>121646234</td>\n",
       "      <td>106520004</td>\n",
       "      <td>Eastern Nevada|Hercules Gap</td>\n",
       "    </tr>\n",
       "    <tr>\n",
       "      <th>2</th>\n",
       "      <td>0</td>\n",
       "      <td>[-115.09649, 41.01482]</td>\n",
       "      <td>Crooked Finger Tower</td>\n",
       "      <td>121885014</td>\n",
       "      <td>121885007</td>\n",
       "      <td>Eastern Nevada|Crooked Finger Tower</td>\n",
       "    </tr>\n",
       "    <tr>\n",
       "      <th>3</th>\n",
       "      <td>0</td>\n",
       "      <td>[-115.82222, 40.9005]</td>\n",
       "      <td>Cowboy</td>\n",
       "      <td>118130477</td>\n",
       "      <td>118130390</td>\n",
       "      <td>Eastern Nevada|Cowboy</td>\n",
       "    </tr>\n",
       "    <tr>\n",
       "      <th>4</th>\n",
       "      <td>0</td>\n",
       "      <td>[-115.08818, 41.02809]</td>\n",
       "      <td>Trout Slayer Buttress</td>\n",
       "      <td>110636608</td>\n",
       "      <td>110636601</td>\n",
       "      <td>Eastern Nevada|Angel Lake|Trout Slayer Buttress</td>\n",
       "    </tr>\n",
       "    <tr>\n",
       "      <th>...</th>\n",
       "      <td>...</td>\n",
       "      <td>...</td>\n",
       "      <td>...</td>\n",
       "      <td>...</td>\n",
       "      <td>...</td>\n",
       "      <td>...</td>\n",
       "    </tr>\n",
       "    <tr>\n",
       "      <th>4957</th>\n",
       "      <td>1</td>\n",
       "      <td>[-114.78819, 36.73445]</td>\n",
       "      <td>Dirty Wall</td>\n",
       "      <td>118321964</td>\n",
       "      <td>108667674</td>\n",
       "      <td>Southern Nevada|Arrow Canyon|Dirty Wall</td>\n",
       "    </tr>\n",
       "    <tr>\n",
       "      <th>4958</th>\n",
       "      <td>3</td>\n",
       "      <td>[-114.76862, 36.72776]</td>\n",
       "      <td>Entry Walls</td>\n",
       "      <td>115411476</td>\n",
       "      <td>106545443</td>\n",
       "      <td>Southern Nevada|Arrow Canyon|Entry Walls</td>\n",
       "    </tr>\n",
       "    <tr>\n",
       "      <th>4959</th>\n",
       "      <td>6</td>\n",
       "      <td>[-114.76862, 36.72776]</td>\n",
       "      <td>Entry Walls</td>\n",
       "      <td>116132291</td>\n",
       "      <td>106545443</td>\n",
       "      <td>Southern Nevada|Arrow Canyon|Entry Walls</td>\n",
       "    </tr>\n",
       "    <tr>\n",
       "      <th>4960</th>\n",
       "      <td>1</td>\n",
       "      <td>[-114.76862, 36.72776]</td>\n",
       "      <td>Entry Walls</td>\n",
       "      <td>106545446</td>\n",
       "      <td>106545443</td>\n",
       "      <td>Southern Nevada|Arrow Canyon|Entry Walls</td>\n",
       "    </tr>\n",
       "    <tr>\n",
       "      <th>4961</th>\n",
       "      <td>5</td>\n",
       "      <td>[-114.76862, 36.72776]</td>\n",
       "      <td>Entry Walls</td>\n",
       "      <td>111333127</td>\n",
       "      <td>106545443</td>\n",
       "      <td>Southern Nevada|Arrow Canyon|Entry Walls</td>\n",
       "    </tr>\n",
       "  </tbody>\n",
       "</table>\n",
       "<p>4962 rows × 6 columns</p>\n",
       "</div>"
      ],
      "text/plain": [
       "     metadata-left_right_seq  metadata-parent_lnglat metadata-parent_sector  \\\n",
       "0                          2  [-114.31392, 38.98578]           Wheeler Peak   \n",
       "1                          0    [-114.8918, 39.3509]           Hercules Gap   \n",
       "2                          0  [-115.09649, 41.01482]   Crooked Finger Tower   \n",
       "3                          0   [-115.82222, 40.9005]                 Cowboy   \n",
       "4                          0  [-115.08818, 41.02809]  Trout Slayer Buttress   \n",
       "...                      ...                     ...                    ...   \n",
       "4957                       1  [-114.78819, 36.73445]             Dirty Wall   \n",
       "4958                       3  [-114.76862, 36.72776]            Entry Walls   \n",
       "4959                       6  [-114.76862, 36.72776]            Entry Walls   \n",
       "4960                       1  [-114.76862, 36.72776]            Entry Walls   \n",
       "4961                       5  [-114.76862, 36.72776]            Entry Walls   \n",
       "\n",
       "     metadata-mp_route_id metadata-mp_sector_id  \\\n",
       "0               109152533             105972685   \n",
       "1               121646234             106520004   \n",
       "2               121885014             121885007   \n",
       "3               118130477             118130390   \n",
       "4               110636608             110636601   \n",
       "...                   ...                   ...   \n",
       "4957            118321964             108667674   \n",
       "4958            115411476             106545443   \n",
       "4959            116132291             106545443   \n",
       "4960            106545446             106545443   \n",
       "4961            111333127             106545443   \n",
       "\n",
       "                                     metadata-mp_path  \n",
       "0                         Eastern Nevada|Wheeler Peak  \n",
       "1                         Eastern Nevada|Hercules Gap  \n",
       "2                 Eastern Nevada|Crooked Finger Tower  \n",
       "3                               Eastern Nevada|Cowboy  \n",
       "4     Eastern Nevada|Angel Lake|Trout Slayer Buttress  \n",
       "...                                               ...  \n",
       "4957          Southern Nevada|Arrow Canyon|Dirty Wall  \n",
       "4958         Southern Nevada|Arrow Canyon|Entry Walls  \n",
       "4959         Southern Nevada|Arrow Canyon|Entry Walls  \n",
       "4960         Southern Nevada|Arrow Canyon|Entry Walls  \n",
       "4961         Southern Nevada|Arrow Canyon|Entry Walls  \n",
       "\n",
       "[4962 rows x 6 columns]"
      ]
     },
     "execution_count": 125,
     "metadata": {},
     "output_type": "execute_result"
    }
   ],
   "source": [
    "dft = pd.DataFrame(df.metadata.to_dict().values()).rename(columns=lambda c: 'metadata-'+c)\n",
    "dft"
   ]
  },
  {
   "cell_type": "code",
   "execution_count": 126,
   "id": "fc95a0f8",
   "metadata": {},
   "outputs": [
    {
     "data": {
      "text/html": [
       "<div>\n",
       "<style scoped>\n",
       "    .dataframe tbody tr th:only-of-type {\n",
       "        vertical-align: middle;\n",
       "    }\n",
       "\n",
       "    .dataframe tbody tr th {\n",
       "        vertical-align: top;\n",
       "    }\n",
       "\n",
       "    .dataframe thead th {\n",
       "        text-align: right;\n",
       "    }\n",
       "</style>\n",
       "<table border=\"1\" class=\"dataframe\">\n",
       "  <thead>\n",
       "    <tr style=\"text-align: right;\">\n",
       "      <th></th>\n",
       "      <th>count</th>\n",
       "      <th>nunique</th>\n",
       "      <th>&lt;lambda&gt;</th>\n",
       "    </tr>\n",
       "  </thead>\n",
       "  <tbody>\n",
       "    <tr>\n",
       "      <th>metadata-left_right_seq</th>\n",
       "      <td>4962.0</td>\n",
       "      <td>51.0</td>\n",
       "      <td>0.0</td>\n",
       "    </tr>\n",
       "    <tr>\n",
       "      <th>metadata-parent_lnglat</th>\n",
       "      <td>4962.0</td>\n",
       "      <td>NaN</td>\n",
       "      <td>0.0</td>\n",
       "    </tr>\n",
       "    <tr>\n",
       "      <th>metadata-parent_sector</th>\n",
       "      <td>4962.0</td>\n",
       "      <td>881.0</td>\n",
       "      <td>0.0</td>\n",
       "    </tr>\n",
       "    <tr>\n",
       "      <th>metadata-mp_route_id</th>\n",
       "      <td>4962.0</td>\n",
       "      <td>4962.0</td>\n",
       "      <td>0.0</td>\n",
       "    </tr>\n",
       "    <tr>\n",
       "      <th>metadata-mp_sector_id</th>\n",
       "      <td>4962.0</td>\n",
       "      <td>895.0</td>\n",
       "      <td>0.0</td>\n",
       "    </tr>\n",
       "    <tr>\n",
       "      <th>metadata-mp_path</th>\n",
       "      <td>4962.0</td>\n",
       "      <td>895.0</td>\n",
       "      <td>0.0</td>\n",
       "    </tr>\n",
       "  </tbody>\n",
       "</table>\n",
       "</div>"
      ],
      "text/plain": [
       "                          count  nunique  <lambda>\n",
       "metadata-left_right_seq  4962.0     51.0       0.0\n",
       "metadata-parent_lnglat   4962.0      NaN       0.0\n",
       "metadata-parent_sector   4962.0    881.0       0.0\n",
       "metadata-mp_route_id     4962.0   4962.0       0.0\n",
       "metadata-mp_sector_id    4962.0    895.0       0.0\n",
       "metadata-mp_path         4962.0    895.0       0.0"
      ]
     },
     "execution_count": 126,
     "metadata": {},
     "output_type": "execute_result"
    }
   ],
   "source": [
    "dft.agg(['count', 'nunique', lambda x: x.isnull().sum()]).T"
   ]
  },
  {
   "cell_type": "code",
   "execution_count": 127,
   "id": "2115da4c",
   "metadata": {},
   "outputs": [
    {
     "data": {
      "text/html": [
       "<div>\n",
       "<style scoped>\n",
       "    .dataframe tbody tr th:only-of-type {\n",
       "        vertical-align: middle;\n",
       "    }\n",
       "\n",
       "    .dataframe tbody tr th {\n",
       "        vertical-align: top;\n",
       "    }\n",
       "\n",
       "    .dataframe thead th {\n",
       "        text-align: right;\n",
       "    }\n",
       "</style>\n",
       "<table border=\"1\" class=\"dataframe\">\n",
       "  <thead>\n",
       "    <tr style=\"text-align: right;\">\n",
       "      <th></th>\n",
       "      <th>metadata-left_right_seq</th>\n",
       "      <th>metadata-parent_lnglat</th>\n",
       "      <th>metadata-parent_sector</th>\n",
       "      <th>metadata-mp_route_id</th>\n",
       "      <th>metadata-mp_sector_id</th>\n",
       "      <th>metadata-mp_path</th>\n",
       "    </tr>\n",
       "  </thead>\n",
       "  <tbody>\n",
       "    <tr>\n",
       "      <th>count</th>\n",
       "      <td>4962</td>\n",
       "      <td>4962</td>\n",
       "      <td>4962</td>\n",
       "      <td>4962</td>\n",
       "      <td>4962</td>\n",
       "      <td>4962</td>\n",
       "    </tr>\n",
       "    <tr>\n",
       "      <th>unique</th>\n",
       "      <td>51</td>\n",
       "      <td>878</td>\n",
       "      <td>881</td>\n",
       "      <td>4962</td>\n",
       "      <td>895</td>\n",
       "      <td>895</td>\n",
       "    </tr>\n",
       "    <tr>\n",
       "      <th>top</th>\n",
       "      <td>0</td>\n",
       "      <td>[-115.47445, 35.97018]</td>\n",
       "      <td>North Face</td>\n",
       "      <td>109152533</td>\n",
       "      <td>107690058</td>\n",
       "      <td>Southern Nevada|Mount Potosi|East Side|Clear L...</td>\n",
       "    </tr>\n",
       "    <tr>\n",
       "      <th>freq</th>\n",
       "      <td>809</td>\n",
       "      <td>47</td>\n",
       "      <td>52</td>\n",
       "      <td>1</td>\n",
       "      <td>47</td>\n",
       "      <td>47</td>\n",
       "    </tr>\n",
       "  </tbody>\n",
       "</table>\n",
       "</div>"
      ],
      "text/plain": [
       "       metadata-left_right_seq  metadata-parent_lnglat metadata-parent_sector  \\\n",
       "count                     4962                    4962                   4962   \n",
       "unique                      51                     878                    881   \n",
       "top                          0  [-115.47445, 35.97018]             North Face   \n",
       "freq                       809                      47                     52   \n",
       "\n",
       "       metadata-mp_route_id metadata-mp_sector_id  \\\n",
       "count                  4962                  4962   \n",
       "unique                 4962                   895   \n",
       "top               109152533             107690058   \n",
       "freq                      1                    47   \n",
       "\n",
       "                                         metadata-mp_path  \n",
       "count                                                4962  \n",
       "unique                                                895  \n",
       "top     Southern Nevada|Mount Potosi|East Side|Clear L...  \n",
       "freq                                                   47  "
      ]
     },
     "execution_count": 127,
     "metadata": {},
     "output_type": "execute_result"
    }
   ],
   "source": [
    "dft.describe()"
   ]
  },
  {
   "cell_type": "code",
   "execution_count": 128,
   "id": "e324e622",
   "metadata": {},
   "outputs": [],
   "source": [
    "df = pd.merge(\n",
    "         df, \n",
    "         dft,\n",
    "         left_index=True,\n",
    "         right_index=True,\n",
    "         how='inner'\n",
    ")"
   ]
  },
  {
   "cell_type": "code",
   "execution_count": 129,
   "id": "d9e8ebca",
   "metadata": {},
   "outputs": [],
   "source": [
    "df.drop(columns='metadata', inplace=True)"
   ]
  },
  {
   "cell_type": "markdown",
   "id": "3bbc2ea1",
   "metadata": {},
   "source": [
    "# Look at list columns"
   ]
  },
  {
   "cell_type": "markdown",
   "id": "bca6d82d",
   "metadata": {},
   "source": [
    "## description"
   ]
  },
  {
   "cell_type": "code",
   "execution_count": 130,
   "id": "83821b16",
   "metadata": {},
   "outputs": [
    {
     "data": {
      "text/plain": [
       "1     3800\n",
       "2      502\n",
       "3      192\n",
       "4      100\n",
       "5       73\n",
       "7       61\n",
       "6       59\n",
       "0       55\n",
       "8       33\n",
       "9       23\n",
       "10      22\n",
       "11      13\n",
       "12      12\n",
       "13       6\n",
       "14       6\n",
       "22       2\n",
       "26       1\n",
       "16       1\n",
       "19       1\n",
       "Name: description, dtype: int64"
      ]
     },
     "execution_count": 130,
     "metadata": {},
     "output_type": "execute_result"
    }
   ],
   "source": [
    "df.description.str.len().value_counts()"
   ]
  },
  {
   "cell_type": "code",
   "execution_count": 131,
   "id": "35e2082c",
   "metadata": {},
   "outputs": [
    {
     "data": {
      "text/plain": [
       "array([list([\"Route was TR'd by slinging top of formation.\", ' FA party decided that slinging was so easy, it was not worth drilling. ', '  Zip World was named after Zippy the Pinhead.']),\n",
       "       list(['Start at the overhang just below the first bolt, the crux is below the first of 3 bolts and the climbing gets easier the higher you go. \\xa0Use a stick clip or be tall to protect the opening hard moves as a fall from just a few feet off the ground could send you down the hill. \\xa0', ' Somebody marked it in chalk as 11a and that felt about right to me. \\xa0', ' I tried to toprope this climb before I lead it but all the loose rock at the top made me wish I had just lead it right off the bat.', ' Any extra info on the climb or the crag would be greatly appreciated'])],\n",
       "      dtype=object)"
      ]
     },
     "execution_count": 131,
     "metadata": {},
     "output_type": "execute_result"
    }
   ],
   "source": [
    "df[\n",
    "    df.description.str.len() > 2\n",
    "].description.head(2).values"
   ]
  },
  {
   "cell_type": "markdown",
   "id": "212b221f",
   "metadata": {},
   "source": [
    "## Location"
   ]
  },
  {
   "cell_type": "code",
   "execution_count": 132,
   "id": "562f387d",
   "metadata": {},
   "outputs": [
    {
     "data": {
      "text/plain": [
       "1    3543\n",
       "0    1258\n",
       "2     104\n",
       "3      32\n",
       "4       9\n",
       "5       8\n",
       "6       6\n",
       "7       2\n",
       "Name: location, dtype: int64"
      ]
     },
     "execution_count": 132,
     "metadata": {},
     "output_type": "execute_result"
    }
   ],
   "source": [
    "df.location.str.len().value_counts()"
   ]
  },
  {
   "cell_type": "code",
   "execution_count": 133,
   "id": "e3241cdd",
   "metadata": {},
   "outputs": [
    {
     "data": {
      "text/plain": [
       "array([list(['Chicken Lips is at the right side of the obvious face in the upper painted bowl. Go up the approach, go to the right side of the wall, scramble up a few yards of 3rd/4th class ramp to a ledge with bolts heading up a blank-looking face.  ', '  The descent is much trickier. You could walk all the way to the main eagle wall descent and come down that. it would require leaving your pack way down in the drainage, and is a great descent but long and potentially wet and fugly if the canyons are running. ', \"  the Urioste guide describes a scrambling/rappeling descent that takes you to the high point of the Black Orpheus formation, which is a hop, skip, and a jump from the base of the route. I don't want to quote the Urioste guide. If you are interested in this kind of route, you probably already have it anyway. However, their description was a little unclear to me, most likely my own failing, and i spent a little time trying out different exposed 4th/5th class descent gullies until i found one i really liked. based on the Urioste description, my descent gully sounded a little less technical, so i will describe it here. \", '  From the top of the route, walk up/east to the local summit (the high point between higher summits a long ways down the ridge to the east and west) and take some photos. Then head straight down a couple hundred feet to a terrace, and shuffle down into a bowl of broken rock with gullies angling down and skier\\'s left. If you look over the ridge, you can see a red rib of rock a long ways down. That is the the rock that creates the gully you scramble down to get back to the upper painted bowl. Above that is a large ledge with a very large pine tree (and other bushes) and a prominent water-run. You are headed to this ledge. You will see many gully/ramp/ledge systems angling down to this ledge from the ridge. The one I really dig starts here, scrambles down past a big tree and raps off the second one (both visible from beginning of gully). The angle on this gully/ramp was much slacker than the ones further along the ridge to the east. At about mid-point, a platform with a very large live pine tree (the second one, just mentioned) provides a very convenient rap down a 5th class step. I left two slings and a biner here, and encourage you to bring a bit more tat to better establish this painless descent. After this short rap, walk down a few yards, and traverse on pink slab a few yards away from the face. then 3rd class down easy slabs, past a butt-slide move, to more ramps to the big ledge. the gully right next to the cliff here is bushy and more difficult than the chill (but slightly exposed) 3rd/2nd class ramp to the ledge. from the big ledge with the huge pine tree, scramble down and right to where the water run is, and peek down around the corner to the left. Hidden under an overhang is an established rap station (2 old 3/8\" bolts on SMC hangers with plenty of webbing/rings). 100\\' rap here (or slightly left of fall-line to keep rope out of water) to a notch where you walk left on a red ramp. A 60m rope is fine for this rap. A short 4th class step at the end of the ramp takes you down to the top of the black orpheus formation. choose your favorite way to get down from here. (hug the face down a gully past slippery 4th class to regain the base of the upper painted bowl, or head down the slabs to the better single-rope descent into the lower painted bowl) ', '  i built a bunch of cairns at the beginning of the descent gully/ramp on 4/11/06 leading into the gully. they are not visible from the ridge crest. you need to descend to the lower terrace to find them. i will also post a picture of the descent. ', \"  i have gone into great detail with this descent description because it is a useful descent from the eagle wall and upper painted bowl. its really quite cruiser and doesn't take much time at all. it has no hard/scary sections if you hit it right. you could consider building a couple critical cairns while you're there so folks are not wandering all over the place, and i imagine it will become a standard descent in a few years.\"]),\n",
       "       list(['The route is located on the west side of Jet Stream Wall, between the main Jet Stream area and the Challenger Wall.  ', '  Approach as for the Challenger Wall. Park at Pine Creek Canyon and follow the south fork of Pine Creek around Mescalito. Boulder hop through the drainage until the creek forks - this is just past the Challenger Wall. Cut up and left on a trail that leads past Adventure Punks. Stay low avoiding the Challenger Wall.  At this point you should be able to look up and see the tooth.  Follow slabs to the base of the route.   ', '  The route begins at a right-facing scoop/roof just left of a lone pine tree.  Bolts lead up the left side of the roof.  This is the start of P1.  ', '  Descent: ', '  Rap the route. All pitches are ~35m, which makes for a easy descent with one 70m rope. Some of the raps are rope-stretchers so be mindful of rope ends.  ', '  For the rap at the top of P5 (ledge with multiple stations mentioned above) use the right-most station - the only station of the three that is equipped with rap rings.'])],\n",
       "      dtype=object)"
      ]
     },
     "execution_count": 133,
     "metadata": {},
     "output_type": "execute_result"
    }
   ],
   "source": [
    "df[\n",
    "    df.location.str.len() > 2\n",
    "].location.head(2).values"
   ]
  },
  {
   "cell_type": "markdown",
   "id": "c090469a",
   "metadata": {},
   "source": [
    "## protection"
   ]
  },
  {
   "cell_type": "code",
   "execution_count": 134,
   "id": "7251e27e",
   "metadata": {},
   "outputs": [
    {
     "data": {
      "text/plain": [
       "1    4584\n",
       "0     210\n",
       "2     152\n",
       "3       9\n",
       "4       4\n",
       "5       2\n",
       "6       1\n",
       "Name: protection, dtype: int64"
      ]
     },
     "execution_count": 134,
     "metadata": {},
     "output_type": "execute_result"
    }
   ],
   "source": [
    "df.protection.str.len().value_counts()"
   ]
  },
  {
   "cell_type": "code",
   "execution_count": 135,
   "id": "a0b6eb60",
   "metadata": {},
   "outputs": [
    {
     "data": {
      "text/plain": [
       "array([list(['Contrary to info in the guidebook and on the Fear and Loathing route page, an appropriate rack for this route is as follows: ', '  1-2x 0.5 Camalots   2-3x 0.75 Camalots   3-4x #1 Camalots   3-4x #2 Camalots   1-2x #3 Camalots ', \"  Don't bring wires or any cams smaller than a 0.5 Camalot - you won't find places for them. A 70m rope makes getting down fairly easy; a 60m rope might work with some rope tricks... watch your ends.\"]),\n",
       "       list([\"Guidebooks generally recommend a full set of cams through #4 Camalot, a set of wires including RP's, and draws.  I recommend: \", \"  1 ea. Purple TCU's or equivalent   2 ea. Blue TCU's or equivalent   2 ea. Yellow TCU's or equivalent   2 ea. 0.5 Camalots   1 ea. 0.75 through #2 Camalots   1 set Wires   A dozen slings or draws \", '  A single 60m rope is sufficient for getting up and getting down, but a 70 is nicer.'])],\n",
       "      dtype=object)"
      ]
     },
     "execution_count": 135,
     "metadata": {},
     "output_type": "execute_result"
    }
   ],
   "source": [
    "df[\n",
    "    df.protection.str.len() > 2\n",
    "].protection.head(2).values"
   ]
  },
  {
   "cell_type": "markdown",
   "id": "590fbd2b",
   "metadata": {},
   "source": [
    "##### Do nothing with list columns"
   ]
  },
  {
   "cell_type": "markdown",
   "id": "35cac308",
   "metadata": {},
   "source": [
    "# FA column"
   ]
  },
  {
   "cell_type": "code",
   "execution_count": 136,
   "id": "7680a0c7",
   "metadata": {},
   "outputs": [
    {
     "data": {
      "text/plain": [
       "0                            Wade Mills (solo)\n",
       "1                                      unknown\n",
       "2    Bob Moseley and Hannah North, Summer 1999\n",
       "3                   Unknown on an Unknown date\n",
       "Name: fa, dtype: object"
      ]
     },
     "execution_count": 136,
     "metadata": {},
     "output_type": "execute_result"
    }
   ],
   "source": [
    "df.fa.head(4)"
   ]
  },
  {
   "cell_type": "code",
   "execution_count": 137,
   "id": "41cf92b8",
   "metadata": {},
   "outputs": [
    {
     "data": {
      "text/plain": [
       "count       4962\n",
       "nunique     2193\n",
       "<lambda>       0\n",
       "Name: fa, dtype: int64"
      ]
     },
     "execution_count": 137,
     "metadata": {},
     "output_type": "execute_result"
    }
   ],
   "source": [
    "df.fa.agg(['count', 'nunique', lambda x: x.isnull().sum()]).T"
   ]
  },
  {
   "cell_type": "code",
   "execution_count": 138,
   "id": "8110c11b",
   "metadata": {},
   "outputs": [
    {
     "data": {
      "text/plain": [
       "count       4962\n",
       "nunique     2193\n",
       "<lambda>       0\n",
       "Name: fa, dtype: int64"
      ]
     },
     "execution_count": 138,
     "metadata": {},
     "output_type": "execute_result"
    }
   ],
   "source": [
    "df.fa.agg(['count', 'nunique', lambda x: x.isnull().sum()]).T"
   ]
  },
  {
   "cell_type": "markdown",
   "id": "a49dabca",
   "metadata": {},
   "source": [
    "# Feature Extraction"
   ]
  },
  {
   "cell_type": "markdown",
   "id": "04531059",
   "metadata": {},
   "source": [
    "## Extract Year"
   ]
  },
  {
   "cell_type": "code",
   "execution_count": 139,
   "id": "3780e478",
   "metadata": {},
   "outputs": [
    {
     "data": {
      "text/html": [
       "<div>\n",
       "<style scoped>\n",
       "    .dataframe tbody tr th:only-of-type {\n",
       "        vertical-align: middle;\n",
       "    }\n",
       "\n",
       "    .dataframe tbody tr th {\n",
       "        vertical-align: top;\n",
       "    }\n",
       "\n",
       "    .dataframe thead th {\n",
       "        text-align: right;\n",
       "    }\n",
       "</style>\n",
       "<table border=\"1\" class=\"dataframe\">\n",
       "  <thead>\n",
       "    <tr style=\"text-align: right;\">\n",
       "      <th></th>\n",
       "      <th>fa</th>\n",
       "      <th>year</th>\n",
       "    </tr>\n",
       "  </thead>\n",
       "  <tbody>\n",
       "    <tr>\n",
       "      <th>0</th>\n",
       "      <td>Wade Mills (solo)</td>\n",
       "      <td>NaN</td>\n",
       "    </tr>\n",
       "    <tr>\n",
       "      <th>1</th>\n",
       "      <td>unknown</td>\n",
       "      <td>NaN</td>\n",
       "    </tr>\n",
       "    <tr>\n",
       "      <th>2</th>\n",
       "      <td>Bob Moseley and Hannah North, Summer 1999</td>\n",
       "      <td>1999</td>\n",
       "    </tr>\n",
       "    <tr>\n",
       "      <th>3</th>\n",
       "      <td>Unknown on an Unknown date</td>\n",
       "      <td>NaN</td>\n",
       "    </tr>\n",
       "    <tr>\n",
       "      <th>4</th>\n",
       "      <td>Dustin Hoover, Jim Mercer.  Free solo. June 11...</td>\n",
       "      <td>2015</td>\n",
       "    </tr>\n",
       "    <tr>\n",
       "      <th>...</th>\n",
       "      <td>...</td>\n",
       "      <td>...</td>\n",
       "    </tr>\n",
       "    <tr>\n",
       "      <th>4957</th>\n",
       "      <td>unknown</td>\n",
       "      <td>NaN</td>\n",
       "    </tr>\n",
       "    <tr>\n",
       "      <th>4958</th>\n",
       "      <td>unknown</td>\n",
       "      <td>NaN</td>\n",
       "    </tr>\n",
       "    <tr>\n",
       "      <th>4959</th>\n",
       "      <td>Jeff Baldwin</td>\n",
       "      <td>NaN</td>\n",
       "    </tr>\n",
       "    <tr>\n",
       "      <th>4960</th>\n",
       "      <td>unknown</td>\n",
       "      <td>NaN</td>\n",
       "    </tr>\n",
       "    <tr>\n",
       "      <th>4961</th>\n",
       "      <td>Gena Howald</td>\n",
       "      <td>NaN</td>\n",
       "    </tr>\n",
       "  </tbody>\n",
       "</table>\n",
       "<p>4962 rows × 2 columns</p>\n",
       "</div>"
      ],
      "text/plain": [
       "                                                     fa  year\n",
       "0                                     Wade Mills (solo)   NaN\n",
       "1                                               unknown   NaN\n",
       "2             Bob Moseley and Hannah North, Summer 1999  1999\n",
       "3                            Unknown on an Unknown date   NaN\n",
       "4     Dustin Hoover, Jim Mercer.  Free solo. June 11...  2015\n",
       "...                                                 ...   ...\n",
       "4957                                            unknown   NaN\n",
       "4958                                            unknown   NaN\n",
       "4959                                       Jeff Baldwin   NaN\n",
       "4960                                            unknown   NaN\n",
       "4961                                        Gena Howald   NaN\n",
       "\n",
       "[4962 rows x 2 columns]"
      ]
     },
     "execution_count": 139,
     "metadata": {},
     "output_type": "execute_result"
    }
   ],
   "source": [
    "df['year'] = df['fa'].str.extract(r\"(\\d+)\\s*$\", expand=False)\n",
    "df[['fa', 'year']]"
   ]
  },
  {
   "cell_type": "code",
   "execution_count": 140,
   "id": "9440c8dd",
   "metadata": {},
   "outputs": [],
   "source": [
    "df['year'] = df['year'].fillna('')"
   ]
  },
  {
   "cell_type": "code",
   "execution_count": 141,
   "id": "ff06eb32",
   "metadata": {},
   "outputs": [
    {
     "data": {
      "text/html": [
       "<div>\n",
       "<style scoped>\n",
       "    .dataframe tbody tr th:only-of-type {\n",
       "        vertical-align: middle;\n",
       "    }\n",
       "\n",
       "    .dataframe tbody tr th {\n",
       "        vertical-align: top;\n",
       "    }\n",
       "\n",
       "    .dataframe thead th {\n",
       "        text-align: right;\n",
       "    }\n",
       "</style>\n",
       "<table border=\"1\" class=\"dataframe\">\n",
       "  <thead>\n",
       "    <tr style=\"text-align: right;\">\n",
       "      <th></th>\n",
       "      <th>fa</th>\n",
       "      <th>fa_text</th>\n",
       "    </tr>\n",
       "  </thead>\n",
       "  <tbody>\n",
       "    <tr>\n",
       "      <th>0</th>\n",
       "      <td>Wade Mills (solo)</td>\n",
       "      <td>Wade Mills (solo)</td>\n",
       "    </tr>\n",
       "    <tr>\n",
       "      <th>1</th>\n",
       "      <td>unknown</td>\n",
       "      <td>unknown</td>\n",
       "    </tr>\n",
       "    <tr>\n",
       "      <th>2</th>\n",
       "      <td>Bob Moseley and Hannah North, Summer 1999</td>\n",
       "      <td>Bob Moseley and Hannah North, Summer</td>\n",
       "    </tr>\n",
       "    <tr>\n",
       "      <th>3</th>\n",
       "      <td>Unknown on an Unknown date</td>\n",
       "      <td>Unknown on an Unknown date</td>\n",
       "    </tr>\n",
       "    <tr>\n",
       "      <th>4</th>\n",
       "      <td>Dustin Hoover, Jim Mercer.  Free solo. June 11...</td>\n",
       "      <td>Dustin Hoover, Jim Mercer.  Free solo. June 11</td>\n",
       "    </tr>\n",
       "    <tr>\n",
       "      <th>...</th>\n",
       "      <td>...</td>\n",
       "      <td>...</td>\n",
       "    </tr>\n",
       "    <tr>\n",
       "      <th>4957</th>\n",
       "      <td>unknown</td>\n",
       "      <td>unknown</td>\n",
       "    </tr>\n",
       "    <tr>\n",
       "      <th>4958</th>\n",
       "      <td>unknown</td>\n",
       "      <td>unknown</td>\n",
       "    </tr>\n",
       "    <tr>\n",
       "      <th>4959</th>\n",
       "      <td>Jeff Baldwin</td>\n",
       "      <td>Jeff Baldwin</td>\n",
       "    </tr>\n",
       "    <tr>\n",
       "      <th>4960</th>\n",
       "      <td>unknown</td>\n",
       "      <td>unknown</td>\n",
       "    </tr>\n",
       "    <tr>\n",
       "      <th>4961</th>\n",
       "      <td>Gena Howald</td>\n",
       "      <td>Gena Howald</td>\n",
       "    </tr>\n",
       "  </tbody>\n",
       "</table>\n",
       "<p>4962 rows × 2 columns</p>\n",
       "</div>"
      ],
      "text/plain": [
       "                                                     fa  \\\n",
       "0                                     Wade Mills (solo)   \n",
       "1                                               unknown   \n",
       "2             Bob Moseley and Hannah North, Summer 1999   \n",
       "3                            Unknown on an Unknown date   \n",
       "4     Dustin Hoover, Jim Mercer.  Free solo. June 11...   \n",
       "...                                                 ...   \n",
       "4957                                            unknown   \n",
       "4958                                            unknown   \n",
       "4959                                       Jeff Baldwin   \n",
       "4960                                            unknown   \n",
       "4961                                        Gena Howald   \n",
       "\n",
       "                                             fa_text  \n",
       "0                                  Wade Mills (solo)  \n",
       "1                                            unknown  \n",
       "2               Bob Moseley and Hannah North, Summer  \n",
       "3                         Unknown on an Unknown date  \n",
       "4     Dustin Hoover, Jim Mercer.  Free solo. June 11  \n",
       "...                                              ...  \n",
       "4957                                         unknown  \n",
       "4958                                         unknown  \n",
       "4959                                    Jeff Baldwin  \n",
       "4960                                         unknown  \n",
       "4961                                     Gena Howald  \n",
       "\n",
       "[4962 rows x 2 columns]"
      ]
     },
     "execution_count": 141,
     "metadata": {},
     "output_type": "execute_result"
    }
   ],
   "source": [
    "df['fa_text'] = df.apply(lambda x: \n",
    "                     x['fa'][::-1].replace(x['year'][::-1], \"\", 1)[::-1], \n",
    "                 axis=1) \\\n",
    "                .str.strip(\", '\")\n",
    "\n",
    "df[['fa', 'fa_text']]"
   ]
  },
  {
   "cell_type": "markdown",
   "id": "f61cdaee",
   "metadata": {},
   "source": [
    "## Split Climbers"
   ]
  },
  {
   "cell_type": "code",
   "execution_count": 142,
   "id": "becfd3d7",
   "metadata": {},
   "outputs": [],
   "source": [
    "df = df.reset_index().rename(columns={'index': 'ID'})"
   ]
  },
  {
   "cell_type": "code",
   "execution_count": 143,
   "id": "13360120",
   "metadata": {},
   "outputs": [],
   "source": [
    "!mkdir -p data/"
   ]
  },
  {
   "cell_type": "code",
   "execution_count": 144,
   "id": "e9dc3cbe",
   "metadata": {},
   "outputs": [],
   "source": [
    "df['fa_text'] \\\n",
    "    .str.split(\" and |&|,\") \\\n",
    "    .explode() \\\n",
    "    .str.strip() \\\n",
    "    .to_csv(\"data/tmp-nv-routes-climbers-expanded.csv\", index=True)"
   ]
  },
  {
   "cell_type": "markdown",
   "id": "c5313e65",
   "metadata": {},
   "source": [
    "##### Look at the save data to take decisions on improving the extraction"
   ]
  },
  {
   "cell_type": "markdown",
   "id": "3b738896",
   "metadata": {},
   "source": [
    "# TODO from here"
   ]
  },
  {
   "cell_type": "code",
   "execution_count": 145,
   "id": "91699371",
   "metadata": {},
   "outputs": [
    {
     "data": {
      "text/plain": [
       "ID\n",
       "0                                   Wade Mills (solo)\n",
       "1                                             unknown\n",
       "2                     Bob Moseley;Hannah North;Summer\n",
       "3                          Unknown on an Unknown date\n",
       "4       Dustin Hoover;Jim Mercer.  Free solo. June 11\n",
       "                            ...                      \n",
       "4957                                          unknown\n",
       "4958                                          unknown\n",
       "4959                                     Jeff Baldwin\n",
       "4960                                          unknown\n",
       "4961                                      Gena Howald\n",
       "Name: fa_text, Length: 4962, dtype: object"
      ]
     },
     "execution_count": 145,
     "metadata": {},
     "output_type": "execute_result"
    }
   ],
   "source": [
    "df['fa_text'] \\\n",
    "    .str.split(\" and |&|,\") \\\n",
    "    .explode() \\\n",
    "    .str.strip() \\\n",
    "    .reset_index().rename(columns={'index': 'ID'}) \\\n",
    "    .groupby('ID')['fa_text'] \\\n",
    "    .apply(lambda x: ';'.join(x.astype(str)))"
   ]
  },
  {
   "cell_type": "code",
   "execution_count": 146,
   "id": "68883e2a",
   "metadata": {},
   "outputs": [
    {
     "ename": "KeyError",
     "evalue": "'ID'",
     "output_type": "error",
     "traceback": [
      "\u001b[0;31m---------------------------------------------------------------------------\u001b[0m",
      "\u001b[0;31mKeyError\u001b[0m                                  Traceback (most recent call last)",
      "\u001b[0;32m/var/folders/_3/_n1c5rnx5pzd_v7dv5vg2_nr0000gn/T/ipykernel_29507/883500295.py\u001b[0m in \u001b[0;36m<module>\u001b[0;34m\u001b[0m\n\u001b[1;32m      7\u001b[0m     \u001b[0;34m.\u001b[0m\u001b[0mexplode\u001b[0m\u001b[0;34m(\u001b[0m\u001b[0;34m)\u001b[0m\u001b[0;31m \u001b[0m\u001b[0;31m\\\u001b[0m\u001b[0;34m\u001b[0m\u001b[0;34m\u001b[0m\u001b[0m\n\u001b[1;32m      8\u001b[0m     \u001b[0;34m.\u001b[0m\u001b[0mstr\u001b[0m\u001b[0;34m.\u001b[0m\u001b[0mstrip\u001b[0m\u001b[0;34m(\u001b[0m\u001b[0;34m)\u001b[0m\u001b[0;31m \u001b[0m\u001b[0;31m\\\u001b[0m\u001b[0;34m\u001b[0m\u001b[0;34m\u001b[0m\u001b[0m\n\u001b[0;32m----> 9\u001b[0;31m     \u001b[0;34m.\u001b[0m\u001b[0mgroupby\u001b[0m\u001b[0;34m(\u001b[0m\u001b[0;34m[\u001b[0m\u001b[0;34m'ID'\u001b[0m\u001b[0;34m]\u001b[0m\u001b[0;34m)\u001b[0m\u001b[0;34m.\u001b[0m\u001b[0mapply\u001b[0m\u001b[0;34m(\u001b[0m\u001b[0;32mlambda\u001b[0m \u001b[0mx\u001b[0m\u001b[0;34m:\u001b[0m \u001b[0;34m';'\u001b[0m\u001b[0;34m.\u001b[0m\u001b[0mjoin\u001b[0m\u001b[0;34m(\u001b[0m\u001b[0mx\u001b[0m\u001b[0;34m.\u001b[0m\u001b[0mastype\u001b[0m\u001b[0;34m(\u001b[0m\u001b[0mstr\u001b[0m\u001b[0;34m)\u001b[0m\u001b[0;34m)\u001b[0m\u001b[0;34m)\u001b[0m\u001b[0;34m\u001b[0m\u001b[0;34m\u001b[0m\u001b[0m\n\u001b[0m",
      "\u001b[0;32m/opt/homebrew/Caskroom/miniconda/base/envs/datascience/lib/python3.7/site-packages/pandas/core/series.py\u001b[0m in \u001b[0;36mgroupby\u001b[0;34m(self, by, axis, level, as_index, sort, group_keys, squeeze, observed, dropna)\u001b[0m\n\u001b[1;32m   1892\u001b[0m             \u001b[0msqueeze\u001b[0m\u001b[0;34m=\u001b[0m\u001b[0msqueeze\u001b[0m\u001b[0;34m,\u001b[0m  \u001b[0;31m# type: ignore[arg-type]\u001b[0m\u001b[0;34m\u001b[0m\u001b[0;34m\u001b[0m\u001b[0m\n\u001b[1;32m   1893\u001b[0m             \u001b[0mobserved\u001b[0m\u001b[0;34m=\u001b[0m\u001b[0mobserved\u001b[0m\u001b[0;34m,\u001b[0m\u001b[0;34m\u001b[0m\u001b[0;34m\u001b[0m\u001b[0m\n\u001b[0;32m-> 1894\u001b[0;31m             \u001b[0mdropna\u001b[0m\u001b[0;34m=\u001b[0m\u001b[0mdropna\u001b[0m\u001b[0;34m,\u001b[0m\u001b[0;34m\u001b[0m\u001b[0;34m\u001b[0m\u001b[0m\n\u001b[0m\u001b[1;32m   1895\u001b[0m         )\n\u001b[1;32m   1896\u001b[0m \u001b[0;34m\u001b[0m\u001b[0m\n",
      "\u001b[0;32m/opt/homebrew/Caskroom/miniconda/base/envs/datascience/lib/python3.7/site-packages/pandas/core/groupby/groupby.py\u001b[0m in \u001b[0;36m__init__\u001b[0;34m(self, obj, keys, axis, level, grouper, exclusions, selection, as_index, sort, group_keys, squeeze, observed, mutated, dropna)\u001b[0m\n\u001b[1;32m    895\u001b[0m                 \u001b[0mobserved\u001b[0m\u001b[0;34m=\u001b[0m\u001b[0mobserved\u001b[0m\u001b[0;34m,\u001b[0m\u001b[0;34m\u001b[0m\u001b[0;34m\u001b[0m\u001b[0m\n\u001b[1;32m    896\u001b[0m                 \u001b[0mmutated\u001b[0m\u001b[0;34m=\u001b[0m\u001b[0mself\u001b[0m\u001b[0;34m.\u001b[0m\u001b[0mmutated\u001b[0m\u001b[0;34m,\u001b[0m\u001b[0;34m\u001b[0m\u001b[0;34m\u001b[0m\u001b[0m\n\u001b[0;32m--> 897\u001b[0;31m                 \u001b[0mdropna\u001b[0m\u001b[0;34m=\u001b[0m\u001b[0mself\u001b[0m\u001b[0;34m.\u001b[0m\u001b[0mdropna\u001b[0m\u001b[0;34m,\u001b[0m\u001b[0;34m\u001b[0m\u001b[0;34m\u001b[0m\u001b[0m\n\u001b[0m\u001b[1;32m    898\u001b[0m             )\n\u001b[1;32m    899\u001b[0m \u001b[0;34m\u001b[0m\u001b[0m\n",
      "\u001b[0;32m/opt/homebrew/Caskroom/miniconda/base/envs/datascience/lib/python3.7/site-packages/pandas/core/groupby/grouper.py\u001b[0m in \u001b[0;36mget_grouper\u001b[0;34m(obj, key, axis, level, sort, observed, mutated, validate, dropna)\u001b[0m\n\u001b[1;32m    860\u001b[0m                 \u001b[0min_axis\u001b[0m\u001b[0;34m,\u001b[0m \u001b[0mlevel\u001b[0m\u001b[0;34m,\u001b[0m \u001b[0mgpr\u001b[0m \u001b[0;34m=\u001b[0m \u001b[0;32mFalse\u001b[0m\u001b[0;34m,\u001b[0m \u001b[0mgpr\u001b[0m\u001b[0;34m,\u001b[0m \u001b[0;32mNone\u001b[0m\u001b[0;34m\u001b[0m\u001b[0;34m\u001b[0m\u001b[0m\n\u001b[1;32m    861\u001b[0m             \u001b[0;32melse\u001b[0m\u001b[0;34m:\u001b[0m\u001b[0;34m\u001b[0m\u001b[0;34m\u001b[0m\u001b[0m\n\u001b[0;32m--> 862\u001b[0;31m                 \u001b[0;32mraise\u001b[0m \u001b[0mKeyError\u001b[0m\u001b[0;34m(\u001b[0m\u001b[0mgpr\u001b[0m\u001b[0;34m)\u001b[0m\u001b[0;34m\u001b[0m\u001b[0;34m\u001b[0m\u001b[0m\n\u001b[0m\u001b[1;32m    863\u001b[0m         \u001b[0;32melif\u001b[0m \u001b[0misinstance\u001b[0m\u001b[0;34m(\u001b[0m\u001b[0mgpr\u001b[0m\u001b[0;34m,\u001b[0m \u001b[0mGrouper\u001b[0m\u001b[0;34m)\u001b[0m \u001b[0;32mand\u001b[0m \u001b[0mgpr\u001b[0m\u001b[0;34m.\u001b[0m\u001b[0mkey\u001b[0m \u001b[0;32mis\u001b[0m \u001b[0;32mnot\u001b[0m \u001b[0;32mNone\u001b[0m\u001b[0;34m:\u001b[0m\u001b[0;34m\u001b[0m\u001b[0;34m\u001b[0m\u001b[0m\n\u001b[1;32m    864\u001b[0m             \u001b[0;31m# Add key to exclusions\u001b[0m\u001b[0;34m\u001b[0m\u001b[0;34m\u001b[0m\u001b[0;34m\u001b[0m\u001b[0m\n",
      "\u001b[0;31mKeyError\u001b[0m: 'ID'"
     ]
    }
   ],
   "source": [
    "# split climbers by all possible separators\n",
    "# expand them in rows \n",
    "# clean them\n",
    "# join them all back by \";\"\n",
    "df['climbers'] = df['fa_text'] \\\n",
    "    .str.split(\" and |&|,\") \\\n",
    "    .explode() \\\n",
    "    .str.strip() \\\n",
    "    .groupby(['ID']).apply(lambda x: ';'.join(x.astype(str)))"
   ]
  },
  {
   "cell_type": "code",
   "execution_count": null,
   "id": "11967b7e",
   "metadata": {},
   "outputs": [],
   "source": [
    "df['climbers']"
   ]
  },
  {
   "cell_type": "code",
   "execution_count": null,
   "id": "df59c67b",
   "metadata": {},
   "outputs": [
    {
     "data": {
      "text/html": [
       "<div>\n",
       "<style scoped>\n",
       "    .dataframe tbody tr th:only-of-type {\n",
       "        vertical-align: middle;\n",
       "    }\n",
       "\n",
       "    .dataframe tbody tr th {\n",
       "        vertical-align: top;\n",
       "    }\n",
       "\n",
       "    .dataframe thead th {\n",
       "        text-align: right;\n",
       "    }\n",
       "</style>\n",
       "<table border=\"1\" class=\"dataframe\">\n",
       "  <thead>\n",
       "    <tr style=\"text-align: right;\">\n",
       "      <th></th>\n",
       "      <th>fa</th>\n",
       "      <th>year</th>\n",
       "      <th>fa_text</th>\n",
       "      <th>climbers</th>\n",
       "    </tr>\n",
       "    <tr>\n",
       "      <th>ID</th>\n",
       "      <th></th>\n",
       "      <th></th>\n",
       "      <th></th>\n",
       "      <th></th>\n",
       "    </tr>\n",
       "  </thead>\n",
       "  <tbody>\n",
       "    <tr>\n",
       "      <th>1</th>\n",
       "      <td>Eric Wright and Frank Robertson, 2008</td>\n",
       "      <td>2008</td>\n",
       "      <td>Eric Wright and Frank Robertson</td>\n",
       "      <td>Eric Wright;Frank Robertson</td>\n",
       "    </tr>\n",
       "    <tr>\n",
       "      <th>2</th>\n",
       "      <td>John Long, Lynn Hill &amp; Joanne Urioste '83</td>\n",
       "      <td>83</td>\n",
       "      <td>John Long, Lynn Hill &amp; Joanne Urioste</td>\n",
       "      <td>John Long;Lynn Hill;Joanne Urioste</td>\n",
       "    </tr>\n",
       "    <tr>\n",
       "      <th>3</th>\n",
       "      <td>L. Hill, 1993</td>\n",
       "      <td>1993</td>\n",
       "      <td>L. Hill</td>\n",
       "      <td>L. Hill</td>\n",
       "    </tr>\n",
       "  </tbody>\n",
       "</table>\n",
       "</div>"
      ],
      "text/plain": [
       "                                           fa  year  \\\n",
       "ID                                                    \n",
       "1       Eric Wright and Frank Robertson, 2008  2008   \n",
       "2   John Long, Lynn Hill & Joanne Urioste '83    83   \n",
       "3                               L. Hill, 1993  1993   \n",
       "\n",
       "                                  fa_text                            climbers  \n",
       "ID                                                                             \n",
       "1         Eric Wright and Frank Robertson         Eric Wright;Frank Robertson  \n",
       "2   John Long, Lynn Hill & Joanne Urioste  John Long;Lynn Hill;Joanne Urioste  \n",
       "3                                 L. Hill                             L. Hill  "
      ]
     },
     "execution_count": 15,
     "metadata": {},
     "output_type": "execute_result"
    }
   ],
   "source": [
    "df"
   ]
  },
  {
   "cell_type": "markdown",
   "id": "cd7703c7",
   "metadata": {},
   "source": [
    "## Normalize climber names\n",
    "\n",
    "Prepare a manual decision dict to rename climbers names as much as possible"
   ]
  },
  {
   "cell_type": "code",
   "execution_count": null,
   "id": "118eeb0e",
   "metadata": {},
   "outputs": [
    {
     "data": {
      "text/plain": [
       "ID\n",
       "1        Eric Wright\n",
       "1    Frank Robertson\n",
       "2     Joanne Urioste\n",
       "2          John Long\n",
       "3            L. Hill\n",
       "2          Lynn Hill\n",
       "Name: climbers, dtype: object"
      ]
     },
     "execution_count": 16,
     "metadata": {},
     "output_type": "execute_result"
    }
   ],
   "source": [
    "df['climbers'].str.split(\";\", expand=False)\\\n",
    "    .explode() \\\n",
    "    .sort_values()"
   ]
  },
  {
   "cell_type": "code",
   "execution_count": null,
   "id": "eed42d20",
   "metadata": {},
   "outputs": [
    {
     "data": {
      "text/plain": [
       "{'Eric Wright': 'Eric Wright',\n",
       " 'Frank Robertson': 'Frank Robertson',\n",
       " 'Joanne Urioste': 'Joanne Urioste',\n",
       " 'John Long': 'John Long',\n",
       " 'L. Hill': 'L. Hill',\n",
       " 'Lynn Hill': 'Lynn Hill'}"
      ]
     },
     "execution_count": 17,
     "metadata": {},
     "output_type": "execute_result"
    }
   ],
   "source": [
    "renamings = {k: k for k in \n",
    "                df['climbers'].str.split(\";\", expand=False)\\\n",
    "                .explode() \\\n",
    "                .sort_values().unique()}\n",
    "renamings"
   ]
  },
  {
   "cell_type": "markdown",
   "id": "0a4bf748",
   "metadata": {},
   "source": [
    "Copy and paste above and manual edit as desired.\n",
    "This is probably most suitable step to take in Prophecies application if it becomes pretty big task."
   ]
  },
  {
   "cell_type": "code",
   "execution_count": null,
   "id": "a752def5",
   "metadata": {},
   "outputs": [],
   "source": [
    "my_manual_renamings = {\n",
    "    #'Eric Wright': 'Eric Wright',\n",
    "    #'Frank Robertson': 'Frank Robertson',\n",
    "    #'Joanne Urioste': 'Joanne Urioste',\n",
    "    #'John Long': 'John Long',\n",
    "    'L. Hill': 'Lynn Hill',\n",
    "    #'Lynn Hill': 'Lynn Hill'\n",
    "}"
   ]
  },
  {
   "cell_type": "code",
   "execution_count": null,
   "id": "fb0a7813",
   "metadata": {},
   "outputs": [],
   "source": [
    "def run_all_renamings(x):\n",
    "    for k, v in my_manual_renamings.items():\n",
    "        x = x.replace(k, v)\n",
    "    return x"
   ]
  },
  {
   "cell_type": "code",
   "execution_count": null,
   "id": "cb0e54e7",
   "metadata": {},
   "outputs": [],
   "source": [
    "df['climbers'] = df['climbers'].map(run_all_renamings)"
   ]
  },
  {
   "cell_type": "markdown",
   "id": "7494f0bc",
   "metadata": {},
   "source": [
    "## Expand Climbers in columns"
   ]
  },
  {
   "cell_type": "code",
   "execution_count": null,
   "id": "4db57868",
   "metadata": {},
   "outputs": [],
   "source": [
    "dft = df['climbers'].str.split(\";\", expand=True)\n",
    "dft.columns = ['climber_' + str(i+1) for i in dft.columns]\n",
    "df = pd.concat([df, dft], axis=1)"
   ]
  },
  {
   "cell_type": "code",
   "execution_count": null,
   "id": "aa3aac6c",
   "metadata": {},
   "outputs": [
    {
     "data": {
      "text/html": [
       "<div>\n",
       "<style scoped>\n",
       "    .dataframe tbody tr th:only-of-type {\n",
       "        vertical-align: middle;\n",
       "    }\n",
       "\n",
       "    .dataframe tbody tr th {\n",
       "        vertical-align: top;\n",
       "    }\n",
       "\n",
       "    .dataframe thead th {\n",
       "        text-align: right;\n",
       "    }\n",
       "</style>\n",
       "<table border=\"1\" class=\"dataframe\">\n",
       "  <thead>\n",
       "    <tr style=\"text-align: right;\">\n",
       "      <th></th>\n",
       "      <th>fa</th>\n",
       "      <th>year</th>\n",
       "      <th>fa_text</th>\n",
       "      <th>climbers</th>\n",
       "      <th>climber_1</th>\n",
       "      <th>climber_2</th>\n",
       "      <th>climber_3</th>\n",
       "    </tr>\n",
       "    <tr>\n",
       "      <th>ID</th>\n",
       "      <th></th>\n",
       "      <th></th>\n",
       "      <th></th>\n",
       "      <th></th>\n",
       "      <th></th>\n",
       "      <th></th>\n",
       "      <th></th>\n",
       "    </tr>\n",
       "  </thead>\n",
       "  <tbody>\n",
       "    <tr>\n",
       "      <th>1</th>\n",
       "      <td>Eric Wright and Frank Robertson, 2008</td>\n",
       "      <td>2008</td>\n",
       "      <td>Eric Wright and Frank Robertson</td>\n",
       "      <td>Eric Wright;Frank Robertson</td>\n",
       "      <td>Eric Wright</td>\n",
       "      <td>Frank Robertson</td>\n",
       "      <td>None</td>\n",
       "    </tr>\n",
       "    <tr>\n",
       "      <th>2</th>\n",
       "      <td>John Long, Lynn Hill &amp; Joanne Urioste '83</td>\n",
       "      <td>83</td>\n",
       "      <td>John Long, Lynn Hill &amp; Joanne Urioste</td>\n",
       "      <td>John Long;Lynn Hill;Joanne Urioste</td>\n",
       "      <td>John Long</td>\n",
       "      <td>Lynn Hill</td>\n",
       "      <td>Joanne Urioste</td>\n",
       "    </tr>\n",
       "    <tr>\n",
       "      <th>3</th>\n",
       "      <td>L. Hill, 1993</td>\n",
       "      <td>1993</td>\n",
       "      <td>L. Hill</td>\n",
       "      <td>Lynn Hill</td>\n",
       "      <td>Lynn Hill</td>\n",
       "      <td>None</td>\n",
       "      <td>None</td>\n",
       "    </tr>\n",
       "  </tbody>\n",
       "</table>\n",
       "</div>"
      ],
      "text/plain": [
       "                                           fa  year  \\\n",
       "ID                                                    \n",
       "1       Eric Wright and Frank Robertson, 2008  2008   \n",
       "2   John Long, Lynn Hill & Joanne Urioste '83    83   \n",
       "3                               L. Hill, 1993  1993   \n",
       "\n",
       "                                  fa_text                            climbers  \\\n",
       "ID                                                                              \n",
       "1         Eric Wright and Frank Robertson         Eric Wright;Frank Robertson   \n",
       "2   John Long, Lynn Hill & Joanne Urioste  John Long;Lynn Hill;Joanne Urioste   \n",
       "3                                 L. Hill                           Lynn Hill   \n",
       "\n",
       "      climber_1        climber_2       climber_3  \n",
       "ID                                                \n",
       "1   Eric Wright  Frank Robertson            None  \n",
       "2     John Long        Lynn Hill  Joanne Urioste  \n",
       "3     Lynn Hill             None            None  "
      ]
     },
     "execution_count": 22,
     "metadata": {},
     "output_type": "execute_result"
    }
   ],
   "source": [
    "df"
   ]
  },
  {
   "cell_type": "code",
   "execution_count": null,
   "id": "1987b954",
   "metadata": {},
   "outputs": [],
   "source": []
  },
  {
   "cell_type": "markdown",
   "id": "0e0c10c4",
   "metadata": {},
   "source": [
    "# Normalize year"
   ]
  },
  {
   "cell_type": "code",
   "execution_count": null,
   "id": "6009d438",
   "metadata": {},
   "outputs": [],
   "source": [
    "def normalize_year(y):\n",
    "    y = int(y)\n",
    "    if y < 22:\n",
    "        # it is only 2 digits and passed 2000s\n",
    "        y += 2000\n",
    "    elif y < 100:\n",
    "        # it is only 2 digits and before 2000s\n",
    "        y += 1900\n",
    "    return y"
   ]
  },
  {
   "cell_type": "code",
   "execution_count": null,
   "id": "aa204313",
   "metadata": {},
   "outputs": [],
   "source": [
    "df.insert(\n",
    "    df.columns.tolist().index('year')+1,\n",
    "    'year_normalized',\n",
    "    df['year'].map(normalize_year)\n",
    ")"
   ]
  },
  {
   "cell_type": "code",
   "execution_count": null,
   "id": "5f6f1c1f",
   "metadata": {},
   "outputs": [
    {
     "data": {
      "text/html": [
       "<div>\n",
       "<style scoped>\n",
       "    .dataframe tbody tr th:only-of-type {\n",
       "        vertical-align: middle;\n",
       "    }\n",
       "\n",
       "    .dataframe tbody tr th {\n",
       "        vertical-align: top;\n",
       "    }\n",
       "\n",
       "    .dataframe thead th {\n",
       "        text-align: right;\n",
       "    }\n",
       "</style>\n",
       "<table border=\"1\" class=\"dataframe\">\n",
       "  <thead>\n",
       "    <tr style=\"text-align: right;\">\n",
       "      <th></th>\n",
       "      <th>fa</th>\n",
       "      <th>year</th>\n",
       "      <th>year_normalized</th>\n",
       "      <th>fa_text</th>\n",
       "      <th>climbers</th>\n",
       "      <th>climber_1</th>\n",
       "      <th>climber_2</th>\n",
       "      <th>climber_3</th>\n",
       "    </tr>\n",
       "    <tr>\n",
       "      <th>ID</th>\n",
       "      <th></th>\n",
       "      <th></th>\n",
       "      <th></th>\n",
       "      <th></th>\n",
       "      <th></th>\n",
       "      <th></th>\n",
       "      <th></th>\n",
       "      <th></th>\n",
       "    </tr>\n",
       "  </thead>\n",
       "  <tbody>\n",
       "    <tr>\n",
       "      <th>1</th>\n",
       "      <td>Eric Wright and Frank Robertson, 2008</td>\n",
       "      <td>2008</td>\n",
       "      <td>2008</td>\n",
       "      <td>Eric Wright and Frank Robertson</td>\n",
       "      <td>Eric Wright;Frank Robertson</td>\n",
       "      <td>Eric Wright</td>\n",
       "      <td>Frank Robertson</td>\n",
       "      <td>None</td>\n",
       "    </tr>\n",
       "    <tr>\n",
       "      <th>2</th>\n",
       "      <td>John Long, Lynn Hill &amp; Joanne Urioste '83</td>\n",
       "      <td>83</td>\n",
       "      <td>1983</td>\n",
       "      <td>John Long, Lynn Hill &amp; Joanne Urioste</td>\n",
       "      <td>John Long;Lynn Hill;Joanne Urioste</td>\n",
       "      <td>John Long</td>\n",
       "      <td>Lynn Hill</td>\n",
       "      <td>Joanne Urioste</td>\n",
       "    </tr>\n",
       "    <tr>\n",
       "      <th>3</th>\n",
       "      <td>L. Hill, 1993</td>\n",
       "      <td>1993</td>\n",
       "      <td>1993</td>\n",
       "      <td>L. Hill</td>\n",
       "      <td>Lynn Hill</td>\n",
       "      <td>Lynn Hill</td>\n",
       "      <td>None</td>\n",
       "      <td>None</td>\n",
       "    </tr>\n",
       "  </tbody>\n",
       "</table>\n",
       "</div>"
      ],
      "text/plain": [
       "                                           fa  year  year_normalized  \\\n",
       "ID                                                                     \n",
       "1       Eric Wright and Frank Robertson, 2008  2008             2008   \n",
       "2   John Long, Lynn Hill & Joanne Urioste '83    83             1983   \n",
       "3                               L. Hill, 1993  1993             1993   \n",
       "\n",
       "                                  fa_text                            climbers  \\\n",
       "ID                                                                              \n",
       "1         Eric Wright and Frank Robertson         Eric Wright;Frank Robertson   \n",
       "2   John Long, Lynn Hill & Joanne Urioste  John Long;Lynn Hill;Joanne Urioste   \n",
       "3                                 L. Hill                           Lynn Hill   \n",
       "\n",
       "      climber_1        climber_2       climber_3  \n",
       "ID                                                \n",
       "1   Eric Wright  Frank Robertson            None  \n",
       "2     John Long        Lynn Hill  Joanne Urioste  \n",
       "3     Lynn Hill             None            None  "
      ]
     },
     "execution_count": 25,
     "metadata": {},
     "output_type": "execute_result"
    }
   ],
   "source": [
    "df"
   ]
  },
  {
   "cell_type": "code",
   "execution_count": null,
   "id": "f47398d5",
   "metadata": {},
   "outputs": [],
   "source": []
  }
 ],
 "metadata": {
  "kernelspec": {
   "display_name": "Python 3.7.6 ('datascience')",
   "language": "python",
   "name": "python3"
  },
  "language_info": {
   "codemirror_mode": {
    "name": "ipython",
    "version": 3
   },
   "file_extension": ".py",
   "mimetype": "text/x-python",
   "name": "python",
   "nbconvert_exporter": "python",
   "pygments_lexer": "ipython3",
   "version": "3.7.6"
  },
  "toc": {
   "base_numbering": 1,
   "nav_menu": {},
   "number_sections": true,
   "sideBar": true,
   "skip_h1_title": false,
   "title_cell": "Table of Contents",
   "title_sidebar": "Contents",
   "toc_cell": false,
   "toc_position": {},
   "toc_section_display": true,
   "toc_window_display": true
  },
  "varInspector": {
   "cols": {
    "lenName": 16,
    "lenType": 16,
    "lenVar": 40
   },
   "kernels_config": {
    "python": {
     "delete_cmd_postfix": "",
     "delete_cmd_prefix": "del ",
     "library": "var_list.py",
     "varRefreshCmd": "print(var_dic_list())"
    },
    "r": {
     "delete_cmd_postfix": ") ",
     "delete_cmd_prefix": "rm(",
     "library": "var_list.r",
     "varRefreshCmd": "cat(var_dic_list()) "
    }
   },
   "types_to_exclude": [
    "module",
    "function",
    "builtin_function_or_method",
    "instance",
    "_Feature"
   ],
   "window_display": false
  },
  "vscode": {
   "interpreter": {
    "hash": "7c15afef78f50668981ba711ec2661f2a5596a86ec48569938de9a5d0b5f4743"
   }
  }
 },
 "nbformat": 4,
 "nbformat_minor": 5
}
