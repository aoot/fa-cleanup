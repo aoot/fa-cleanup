{
 "cells": [
  {
   "cell_type": "code",
   "execution_count": 94,
   "id": "3fe24d4d",
   "metadata": {},
   "outputs": [],
   "source": [
    "import os\n",
    "import pandas as pd\n",
    "import numpy as np\n",
    "from glob import glob\n",
    "import re\n",
    "from datetime import datetime\n",
    "import json\n",
    "import matplotlib.pyplot as plt\n"
   ]
  },
  {
   "cell_type": "markdown",
   "id": "03ca033b",
   "metadata": {},
   "source": [
    "# Load Data"
   ]
  },
  {
   "cell_type": "code",
   "execution_count": 95,
   "id": "53e2dbb5",
   "metadata": {},
   "outputs": [],
   "source": [
    "df = pd.read_json(\"../test-data/nv-routes.jsonlines\", lines=True)"
   ]
  },
  {
   "cell_type": "markdown",
   "id": "aa784945",
   "metadata": {},
   "source": [
    "# Basic Info"
   ]
  },
  {
   "cell_type": "code",
   "execution_count": 96,
   "id": "4fab986e",
   "metadata": {},
   "outputs": [
    {
     "data": {
      "text/html": [
       "<div>\n",
       "<style scoped>\n",
       "    .dataframe tbody tr th:only-of-type {\n",
       "        vertical-align: middle;\n",
       "    }\n",
       "\n",
       "    .dataframe tbody tr th {\n",
       "        vertical-align: top;\n",
       "    }\n",
       "\n",
       "    .dataframe thead th {\n",
       "        text-align: right;\n",
       "    }\n",
       "</style>\n",
       "<table border=\"1\" class=\"dataframe\">\n",
       "  <thead>\n",
       "    <tr style=\"text-align: right;\">\n",
       "      <th></th>\n",
       "      <th>route_name</th>\n",
       "      <th>grade</th>\n",
       "      <th>safety</th>\n",
       "      <th>type</th>\n",
       "      <th>fa</th>\n",
       "      <th>description</th>\n",
       "      <th>location</th>\n",
       "      <th>protection</th>\n",
       "      <th>metadata</th>\n",
       "    </tr>\n",
       "  </thead>\n",
       "  <tbody>\n",
       "    <tr>\n",
       "      <th>0</th>\n",
       "      <td>Stella by Starlight</td>\n",
       "      <td>{'YDS': '5.8', 'French': '5b', 'Ewbanks': '16'...</td>\n",
       "      <td></td>\n",
       "      <td>{'trad': True, 'aid': True, 'alpine': True}</td>\n",
       "      <td>Wade Mills (solo)</td>\n",
       "      <td>[In the late 1970's, my old friend and mentor,...</td>\n",
       "      <td>[Route ascends the huge main NE face of Wheeler.]</td>\n",
       "      <td>[See route description and \"Hiking and Climbin...</td>\n",
       "      <td>{'left_right_seq': '2', 'parent_lnglat': [-114...</td>\n",
       "    </tr>\n",
       "    <tr>\n",
       "      <th>1</th>\n",
       "      <td>Skin Yamaka</td>\n",
       "      <td>{'YDS': '5.11a', 'French': '6c', 'Ewbanks': '2...</td>\n",
       "      <td></td>\n",
       "      <td>{'sport': True}</td>\n",
       "      <td>unknown</td>\n",
       "      <td>[Start on a mostly flat gravel platform and cl...</td>\n",
       "      <td>[Entering the gap from the east, this route wi...</td>\n",
       "      <td>[8 Bolts - Chain Anchor]</td>\n",
       "      <td>{'left_right_seq': '0', 'parent_lnglat': [-114...</td>\n",
       "    </tr>\n",
       "    <tr>\n",
       "      <th>2</th>\n",
       "      <td>Himalayan Snowcock Serenade</td>\n",
       "      <td>{'YDS': '5.10', 'French': '6b', 'Ewbanks': '20...</td>\n",
       "      <td></td>\n",
       "      <td>{'trad': True}</td>\n",
       "      <td>Bob Moseley and Hannah North, Summer 1999</td>\n",
       "      <td>[Northeast face of Crooked Finger Tower. Good-...</td>\n",
       "      <td>[See Location of Crooked Finger Tower. Approac...</td>\n",
       "      <td>[Standard rack of nuts and cams to 4.5 inches.]</td>\n",
       "      <td>{'left_right_seq': '0', 'parent_lnglat': [-115...</td>\n",
       "    </tr>\n",
       "  </tbody>\n",
       "</table>\n",
       "</div>"
      ],
      "text/plain": [
       "                    route_name  \\\n",
       "0          Stella by Starlight   \n",
       "1                  Skin Yamaka   \n",
       "2  Himalayan Snowcock Serenade   \n",
       "\n",
       "                                               grade safety  \\\n",
       "0  {'YDS': '5.8', 'French': '5b', 'Ewbanks': '16'...          \n",
       "1  {'YDS': '5.11a', 'French': '6c', 'Ewbanks': '2...          \n",
       "2  {'YDS': '5.10', 'French': '6b', 'Ewbanks': '20...          \n",
       "\n",
       "                                          type  \\\n",
       "0  {'trad': True, 'aid': True, 'alpine': True}   \n",
       "1                              {'sport': True}   \n",
       "2                               {'trad': True}   \n",
       "\n",
       "                                          fa  \\\n",
       "0                          Wade Mills (solo)   \n",
       "1                                    unknown   \n",
       "2  Bob Moseley and Hannah North, Summer 1999   \n",
       "\n",
       "                                         description  \\\n",
       "0  [In the late 1970's, my old friend and mentor,...   \n",
       "1  [Start on a mostly flat gravel platform and cl...   \n",
       "2  [Northeast face of Crooked Finger Tower. Good-...   \n",
       "\n",
       "                                            location  \\\n",
       "0  [Route ascends the huge main NE face of Wheeler.]   \n",
       "1  [Entering the gap from the east, this route wi...   \n",
       "2  [See Location of Crooked Finger Tower. Approac...   \n",
       "\n",
       "                                          protection  \\\n",
       "0  [See route description and \"Hiking and Climbin...   \n",
       "1                           [8 Bolts - Chain Anchor]   \n",
       "2    [Standard rack of nuts and cams to 4.5 inches.]   \n",
       "\n",
       "                                            metadata  \n",
       "0  {'left_right_seq': '2', 'parent_lnglat': [-114...  \n",
       "1  {'left_right_seq': '0', 'parent_lnglat': [-114...  \n",
       "2  {'left_right_seq': '0', 'parent_lnglat': [-115...  "
      ]
     },
     "execution_count": 96,
     "metadata": {},
     "output_type": "execute_result"
    }
   ],
   "source": [
    "df.head(3)"
   ]
  },
  {
   "cell_type": "code",
   "execution_count": 97,
   "id": "e41ee10c",
   "metadata": {},
   "outputs": [
    {
     "data": {
      "text/html": [
       "<div>\n",
       "<style scoped>\n",
       "    .dataframe tbody tr th:only-of-type {\n",
       "        vertical-align: middle;\n",
       "    }\n",
       "\n",
       "    .dataframe tbody tr th {\n",
       "        vertical-align: top;\n",
       "    }\n",
       "\n",
       "    .dataframe thead th {\n",
       "        text-align: right;\n",
       "    }\n",
       "</style>\n",
       "<table border=\"1\" class=\"dataframe\">\n",
       "  <thead>\n",
       "    <tr style=\"text-align: right;\">\n",
       "      <th></th>\n",
       "      <th>0</th>\n",
       "      <th>1</th>\n",
       "      <th>2</th>\n",
       "    </tr>\n",
       "  </thead>\n",
       "  <tbody>\n",
       "    <tr>\n",
       "      <th>route_name</th>\n",
       "      <td>Stella by Starlight</td>\n",
       "      <td>Skin Yamaka</td>\n",
       "      <td>Himalayan Snowcock Serenade</td>\n",
       "    </tr>\n",
       "    <tr>\n",
       "      <th>grade</th>\n",
       "      <td>{'YDS': '5.8', 'French': '5b', 'Ewbanks': '16'...</td>\n",
       "      <td>{'YDS': '5.11a', 'French': '6c', 'Ewbanks': '2...</td>\n",
       "      <td>{'YDS': '5.10', 'French': '6b', 'Ewbanks': '20...</td>\n",
       "    </tr>\n",
       "    <tr>\n",
       "      <th>safety</th>\n",
       "      <td></td>\n",
       "      <td></td>\n",
       "      <td></td>\n",
       "    </tr>\n",
       "    <tr>\n",
       "      <th>type</th>\n",
       "      <td>{'trad': True, 'aid': True, 'alpine': True}</td>\n",
       "      <td>{'sport': True}</td>\n",
       "      <td>{'trad': True}</td>\n",
       "    </tr>\n",
       "    <tr>\n",
       "      <th>fa</th>\n",
       "      <td>Wade Mills (solo)</td>\n",
       "      <td>unknown</td>\n",
       "      <td>Bob Moseley and Hannah North, Summer 1999</td>\n",
       "    </tr>\n",
       "    <tr>\n",
       "      <th>description</th>\n",
       "      <td>[In the late 1970's, my old friend and mentor,...</td>\n",
       "      <td>[Start on a mostly flat gravel platform and cl...</td>\n",
       "      <td>[Northeast face of Crooked Finger Tower. Good-...</td>\n",
       "    </tr>\n",
       "    <tr>\n",
       "      <th>location</th>\n",
       "      <td>[Route ascends the huge main NE face of Wheeler.]</td>\n",
       "      <td>[Entering the gap from the east, this route wi...</td>\n",
       "      <td>[See Location of Crooked Finger Tower. Approac...</td>\n",
       "    </tr>\n",
       "    <tr>\n",
       "      <th>protection</th>\n",
       "      <td>[See route description and \"Hiking and Climbin...</td>\n",
       "      <td>[8 Bolts - Chain Anchor]</td>\n",
       "      <td>[Standard rack of nuts and cams to 4.5 inches.]</td>\n",
       "    </tr>\n",
       "    <tr>\n",
       "      <th>metadata</th>\n",
       "      <td>{'left_right_seq': '2', 'parent_lnglat': [-114...</td>\n",
       "      <td>{'left_right_seq': '0', 'parent_lnglat': [-114...</td>\n",
       "      <td>{'left_right_seq': '0', 'parent_lnglat': [-115...</td>\n",
       "    </tr>\n",
       "  </tbody>\n",
       "</table>\n",
       "</div>"
      ],
      "text/plain": [
       "                                                             0  \\\n",
       "route_name                                 Stella by Starlight   \n",
       "grade        {'YDS': '5.8', 'French': '5b', 'Ewbanks': '16'...   \n",
       "safety                                                           \n",
       "type               {'trad': True, 'aid': True, 'alpine': True}   \n",
       "fa                                           Wade Mills (solo)   \n",
       "description  [In the late 1970's, my old friend and mentor,...   \n",
       "location     [Route ascends the huge main NE face of Wheeler.]   \n",
       "protection   [See route description and \"Hiking and Climbin...   \n",
       "metadata     {'left_right_seq': '2', 'parent_lnglat': [-114...   \n",
       "\n",
       "                                                             1  \\\n",
       "route_name                                         Skin Yamaka   \n",
       "grade        {'YDS': '5.11a', 'French': '6c', 'Ewbanks': '2...   \n",
       "safety                                                           \n",
       "type                                           {'sport': True}   \n",
       "fa                                                     unknown   \n",
       "description  [Start on a mostly flat gravel platform and cl...   \n",
       "location     [Entering the gap from the east, this route wi...   \n",
       "protection                            [8 Bolts - Chain Anchor]   \n",
       "metadata     {'left_right_seq': '0', 'parent_lnglat': [-114...   \n",
       "\n",
       "                                                             2  \n",
       "route_name                         Himalayan Snowcock Serenade  \n",
       "grade        {'YDS': '5.10', 'French': '6b', 'Ewbanks': '20...  \n",
       "safety                                                          \n",
       "type                                            {'trad': True}  \n",
       "fa                   Bob Moseley and Hannah North, Summer 1999  \n",
       "description  [Northeast face of Crooked Finger Tower. Good-...  \n",
       "location     [See Location of Crooked Finger Tower. Approac...  \n",
       "protection     [Standard rack of nuts and cams to 4.5 inches.]  \n",
       "metadata     {'left_right_seq': '0', 'parent_lnglat': [-115...  "
      ]
     },
     "execution_count": 97,
     "metadata": {},
     "output_type": "execute_result"
    }
   ],
   "source": [
    "df.head(3).T  # Transpose to make columns easier to see"
   ]
  },
  {
   "cell_type": "code",
   "execution_count": 98,
   "id": "5213135a",
   "metadata": {},
   "outputs": [
    {
     "data": {
      "text/html": [
       "<div>\n",
       "<style scoped>\n",
       "    .dataframe tbody tr th:only-of-type {\n",
       "        vertical-align: middle;\n",
       "    }\n",
       "\n",
       "    .dataframe tbody tr th {\n",
       "        vertical-align: top;\n",
       "    }\n",
       "\n",
       "    .dataframe thead th {\n",
       "        text-align: right;\n",
       "    }\n",
       "</style>\n",
       "<table border=\"1\" class=\"dataframe\">\n",
       "  <thead>\n",
       "    <tr style=\"text-align: right;\">\n",
       "      <th></th>\n",
       "      <th>count</th>\n",
       "      <th>nunique</th>\n",
       "      <th>&lt;lambda&gt;</th>\n",
       "    </tr>\n",
       "  </thead>\n",
       "  <tbody>\n",
       "    <tr>\n",
       "      <th>route_name</th>\n",
       "      <td>4962.0</td>\n",
       "      <td>4842.0</td>\n",
       "      <td>0.0</td>\n",
       "    </tr>\n",
       "    <tr>\n",
       "      <th>grade</th>\n",
       "      <td>4962.0</td>\n",
       "      <td>NaN</td>\n",
       "      <td>0.0</td>\n",
       "    </tr>\n",
       "    <tr>\n",
       "      <th>safety</th>\n",
       "      <td>4962.0</td>\n",
       "      <td>4.0</td>\n",
       "      <td>0.0</td>\n",
       "    </tr>\n",
       "    <tr>\n",
       "      <th>type</th>\n",
       "      <td>4962.0</td>\n",
       "      <td>NaN</td>\n",
       "      <td>0.0</td>\n",
       "    </tr>\n",
       "    <tr>\n",
       "      <th>fa</th>\n",
       "      <td>4962.0</td>\n",
       "      <td>2193.0</td>\n",
       "      <td>0.0</td>\n",
       "    </tr>\n",
       "    <tr>\n",
       "      <th>description</th>\n",
       "      <td>4962.0</td>\n",
       "      <td>NaN</td>\n",
       "      <td>0.0</td>\n",
       "    </tr>\n",
       "    <tr>\n",
       "      <th>location</th>\n",
       "      <td>4962.0</td>\n",
       "      <td>NaN</td>\n",
       "      <td>0.0</td>\n",
       "    </tr>\n",
       "    <tr>\n",
       "      <th>protection</th>\n",
       "      <td>4962.0</td>\n",
       "      <td>NaN</td>\n",
       "      <td>0.0</td>\n",
       "    </tr>\n",
       "    <tr>\n",
       "      <th>metadata</th>\n",
       "      <td>4962.0</td>\n",
       "      <td>NaN</td>\n",
       "      <td>0.0</td>\n",
       "    </tr>\n",
       "  </tbody>\n",
       "</table>\n",
       "</div>"
      ],
      "text/plain": [
       "              count  nunique  <lambda>\n",
       "route_name   4962.0   4842.0       0.0\n",
       "grade        4962.0      NaN       0.0\n",
       "safety       4962.0      4.0       0.0\n",
       "type         4962.0      NaN       0.0\n",
       "fa           4962.0   2193.0       0.0\n",
       "description  4962.0      NaN       0.0\n",
       "location     4962.0      NaN       0.0\n",
       "protection   4962.0      NaN       0.0\n",
       "metadata     4962.0      NaN       0.0"
      ]
     },
     "execution_count": 98,
     "metadata": {},
     "output_type": "execute_result"
    }
   ],
   "source": [
    "df.agg(['count', 'nunique', lambda x: x.isnull().sum()]).T"
   ]
  },
  {
   "cell_type": "code",
   "execution_count": 99,
   "id": "47d708a3",
   "metadata": {},
   "outputs": [
    {
     "name": "stdout",
     "output_type": "stream",
     "text": [
      "<class 'pandas.core.frame.DataFrame'>\n",
      "RangeIndex: 4962 entries, 0 to 4961\n",
      "Data columns (total 9 columns):\n",
      " #   Column       Non-Null Count  Dtype \n",
      "---  ------       --------------  ----- \n",
      " 0   route_name   4962 non-null   object\n",
      " 1   grade        4962 non-null   object\n",
      " 2   safety       4962 non-null   object\n",
      " 3   type         4962 non-null   object\n",
      " 4   fa           4962 non-null   object\n",
      " 5   description  4962 non-null   object\n",
      " 6   location     4962 non-null   object\n",
      " 7   protection   4962 non-null   object\n",
      " 8   metadata     4962 non-null   object\n",
      "dtypes: object(9)\n",
      "memory usage: 349.0+ KB\n"
     ]
    }
   ],
   "source": [
    "df.info()"
   ]
  },
  {
   "cell_type": "markdown",
   "id": "e77422d9",
   "metadata": {},
   "source": [
    "# Basic Info on some columns"
   ]
  },
  {
   "cell_type": "markdown",
   "id": "2fd9652f",
   "metadata": {},
   "source": [
    "## route_name"
   ]
  },
  {
   "cell_type": "code",
   "execution_count": 100,
   "id": "c228b6bb",
   "metadata": {},
   "outputs": [
    {
     "data": {
      "text/plain": [
       "count       4962\n",
       "nunique     4842\n",
       "<lambda>       0\n",
       "Name: route_name, dtype: int64"
      ]
     },
     "execution_count": 100,
     "metadata": {},
     "output_type": "execute_result"
    }
   ],
   "source": [
    "df.route_name.agg(['count', 'nunique', lambda x: x.isnull().sum()]).T"
   ]
  },
  {
   "cell_type": "code",
   "execution_count": 101,
   "id": "8239d851",
   "metadata": {},
   "outputs": [
    {
     "data": {
      "text/plain": [
       "Unknown                              12\n",
       "[Redacted]                           12\n",
       "Unnamed                               6\n",
       "Dihedral                              4\n",
       "Center Face                           4\n",
       "                                     ..\n",
       "Fire Fresh Traverse                   1\n",
       "Jones'n                               1\n",
       "Mantle direct                         1\n",
       "Rail to seam                          1\n",
       "French Roast (CLOSED TO CLIMBING)     1\n",
       "Name: route_name, Length: 4842, dtype: int64"
      ]
     },
     "execution_count": 101,
     "metadata": {},
     "output_type": "execute_result"
    }
   ],
   "source": [
    "df.route_name.value_counts()"
   ]
  },
  {
   "cell_type": "code",
   "execution_count": 102,
   "id": "cdd2e651",
   "metadata": {},
   "outputs": [
    {
     "data": {
      "text/plain": [
       "<AxesSubplot:>"
      ]
     },
     "execution_count": 102,
     "metadata": {},
     "output_type": "execute_result"
    },
    {
     "data": {
      "image/png": "[encoded data removed]",
      "text/plain": [
       "<Figure size 432x288 with 1 Axes>"
      ]
     },
     "metadata": {
      "needs_background": "light"
     },
     "output_type": "display_data"
    }
   ],
   "source": [
    "df.route_name.str.len().hist()"
   ]
  },
  {
   "cell_type": "markdown",
   "id": "31c4896b",
   "metadata": {},
   "source": [
    "### Short values"
   ]
  },
  {
   "cell_type": "code",
   "execution_count": 103,
   "id": "d62b5d45",
   "metadata": {},
   "outputs": [
    {
     "data": {
      "text/plain": [
       "Unknown      12\n",
       "Unnamed       6\n",
       "Dihedral      4\n",
       "Left Face     3\n",
       "Crack         3\n",
       "             ..\n",
       "Caliman       1\n",
       "Bread Box     1\n",
       "Get Moist     1\n",
       "West Face     1\n",
       "Kill Bill     1\n",
       "Name: route_name, Length: 974, dtype: int64"
      ]
     },
     "execution_count": 103,
     "metadata": {},
     "output_type": "execute_result"
    }
   ],
   "source": [
    "df[\n",
    "    df.route_name.str.len()<10\n",
    "].route_name.value_counts()"
   ]
  },
  {
   "cell_type": "markdown",
   "id": "fa8e068a",
   "metadata": {},
   "source": [
    "### Long values"
   ]
  },
  {
   "cell_type": "code",
   "execution_count": 104,
   "id": "6f4e3441",
   "metadata": {},
   "outputs": [
    {
     "data": {
      "text/plain": [
       "Himalayan Snowcock Serenade          1\n",
       "#OwlLivesMatter #Hedwig4President    1\n",
       "Who Uses a Slingshot Anyway          1\n",
       "Grand Vizier's Garden Party          1\n",
       "Chemical Ali Memorial Climb          1\n",
       "                                    ..\n",
       "Intercontinental Breakfast           1\n",
       "West Face - Left Side Lieback        1\n",
       "West Face - Central Crack Direct     1\n",
       "South Face - The Downclimb           1\n",
       "French Roast (CLOSED TO CLIMBING)    1\n",
       "Name: route_name, Length: 215, dtype: int64"
      ]
     },
     "execution_count": 104,
     "metadata": {},
     "output_type": "execute_result"
    }
   ],
   "source": [
    "df[\n",
    "    df.route_name.str.len()>25\n",
    "].route_name.value_counts()"
   ]
  },
  {
   "cell_type": "markdown",
   "id": "8ba6f2a0",
   "metadata": {},
   "source": [
    "### Alphabetically"
   ]
  },
  {
   "cell_type": "code",
   "execution_count": 105,
   "id": "1a27ce5b",
   "metadata": {},
   "outputs": [
    {
     "data": {
      "text/plain": [
       "4570                             \"Route to Nowhere\"\n",
       "187                                \"peanut brittle\"\n",
       "3437                                #1s All the Way\n",
       "3397              #OwlLivesMatter #Hedwig4President\n",
       "1639                                           $500\n",
       "                           ...                     \n",
       "4207                                      unknown 2\n",
       "259     unknown in gully up & right of Stick climbs\n",
       "258                    unknown left start to Datura\n",
       "257                            unknown right of hlt\n",
       "4206                                        unnamed\n",
       "Name: route_name, Length: 4962, dtype: object"
      ]
     },
     "execution_count": 105,
     "metadata": {},
     "output_type": "execute_result"
    }
   ],
   "source": [
    "df.route_name.sort_values()"
   ]
  },
  {
   "cell_type": "code",
   "execution_count": 106,
   "id": "ef55bac5",
   "metadata": {},
   "outputs": [
    {
     "data": {
      "text/plain": [
       "2694              A-Cute Pain\n",
       "1994        Adventure Guppies\n",
       "1930       The Route to Mecca\n",
       "4709            Kung Fu Panda\n",
       "3585         Tayhass Twinkies\n",
       "808     Dream of Wild Turkeys\n",
       "4728                 Number 2\n",
       "354           Cold Blue Steel\n",
       "2920             Broken tooth\n",
       "3706     Trailed By 20 Hounds\n",
       "Name: route_name, dtype: object"
      ]
     },
     "execution_count": 106,
     "metadata": {},
     "output_type": "execute_result"
    }
   ],
   "source": [
    "df.route_name.sort_values().sample(10)"
   ]
  },
  {
   "cell_type": "markdown",
   "id": "b84f3fa7",
   "metadata": {},
   "source": [
    "# Expand dict columns"
   ]
  },
  {
   "cell_type": "code",
   "execution_count": 107,
   "id": "c24f0950",
   "metadata": {},
   "outputs": [
    {
     "data": {
      "text/plain": [
       "route_name     object\n",
       "grade          object\n",
       "safety         object\n",
       "type           object\n",
       "fa             object\n",
       "description    object\n",
       "location       object\n",
       "protection     object\n",
       "metadata       object\n",
       "dtype: object"
      ]
     },
     "execution_count": 107,
     "metadata": {},
     "output_type": "execute_result"
    }
   ],
   "source": [
    "df.dtypes"
   ]
  },
  {
   "cell_type": "markdown",
   "id": "34f0f237",
   "metadata": {},
   "source": [
    "## Grades"
   ]
  },
  {
   "cell_type": "code",
   "execution_count": 108,
   "id": "7e2bd9e5",
   "metadata": {},
   "outputs": [
    {
     "data": {
      "text/html": [
       "<div>\n",
       "<style scoped>\n",
       "    .dataframe tbody tr th:only-of-type {\n",
       "        vertical-align: middle;\n",
       "    }\n",
       "\n",
       "    .dataframe tbody tr th {\n",
       "        vertical-align: top;\n",
       "    }\n",
       "\n",
       "    .dataframe thead th {\n",
       "        text-align: right;\n",
       "    }\n",
       "</style>\n",
       "<table border=\"1\" class=\"dataframe\">\n",
       "  <thead>\n",
       "    <tr style=\"text-align: right;\">\n",
       "      <th></th>\n",
       "      <th>grades-YDS</th>\n",
       "      <th>grades-French</th>\n",
       "      <th>grades-Ewbanks</th>\n",
       "      <th>grades-UIAA</th>\n",
       "      <th>grades-ZA</th>\n",
       "      <th>grades-British</th>\n",
       "      <th>grades-yds_aid</th>\n",
       "      <th>grades-Font</th>\n",
       "    </tr>\n",
       "  </thead>\n",
       "  <tbody>\n",
       "    <tr>\n",
       "      <th>0</th>\n",
       "      <td>5.8</td>\n",
       "      <td>5b</td>\n",
       "      <td>16</td>\n",
       "      <td>VI-</td>\n",
       "      <td>15</td>\n",
       "      <td>HVS 4c</td>\n",
       "      <td>A3+</td>\n",
       "      <td>NaN</td>\n",
       "    </tr>\n",
       "    <tr>\n",
       "      <th>1</th>\n",
       "      <td>5.11a</td>\n",
       "      <td>6c</td>\n",
       "      <td>22</td>\n",
       "      <td>VII+</td>\n",
       "      <td>22</td>\n",
       "      <td>E3 5c</td>\n",
       "      <td>NaN</td>\n",
       "      <td>NaN</td>\n",
       "    </tr>\n",
       "    <tr>\n",
       "      <th>2</th>\n",
       "      <td>5.10</td>\n",
       "      <td>6b</td>\n",
       "      <td>20</td>\n",
       "      <td>VII-</td>\n",
       "      <td>19</td>\n",
       "      <td>E2 5b</td>\n",
       "      <td>NaN</td>\n",
       "      <td>NaN</td>\n",
       "    </tr>\n",
       "    <tr>\n",
       "      <th>3</th>\n",
       "      <td>5.9-</td>\n",
       "      <td>5c</td>\n",
       "      <td>17</td>\n",
       "      <td>VI</td>\n",
       "      <td>16</td>\n",
       "      <td>HVS 4c</td>\n",
       "      <td>NaN</td>\n",
       "      <td>NaN</td>\n",
       "    </tr>\n",
       "    <tr>\n",
       "      <th>4</th>\n",
       "      <td>5.6</td>\n",
       "      <td>4c</td>\n",
       "      <td>14</td>\n",
       "      <td>V</td>\n",
       "      <td>12</td>\n",
       "      <td>S 4b</td>\n",
       "      <td>NaN</td>\n",
       "      <td>NaN</td>\n",
       "    </tr>\n",
       "    <tr>\n",
       "      <th>...</th>\n",
       "      <td>...</td>\n",
       "      <td>...</td>\n",
       "      <td>...</td>\n",
       "      <td>...</td>\n",
       "      <td>...</td>\n",
       "      <td>...</td>\n",
       "      <td>...</td>\n",
       "      <td>...</td>\n",
       "    </tr>\n",
       "    <tr>\n",
       "      <th>4957</th>\n",
       "      <td>5.12c</td>\n",
       "      <td>7b+</td>\n",
       "      <td>27</td>\n",
       "      <td>IX-</td>\n",
       "      <td>27</td>\n",
       "      <td>E6 6b</td>\n",
       "      <td>NaN</td>\n",
       "      <td>NaN</td>\n",
       "    </tr>\n",
       "    <tr>\n",
       "      <th>4958</th>\n",
       "      <td>5.10c</td>\n",
       "      <td>6b</td>\n",
       "      <td>20</td>\n",
       "      <td>VII</td>\n",
       "      <td>20</td>\n",
       "      <td>E2 5b</td>\n",
       "      <td>NaN</td>\n",
       "      <td>NaN</td>\n",
       "    </tr>\n",
       "    <tr>\n",
       "      <th>4959</th>\n",
       "      <td>5.10b</td>\n",
       "      <td>6a+</td>\n",
       "      <td>19</td>\n",
       "      <td>VII-</td>\n",
       "      <td>19</td>\n",
       "      <td>E2 5b</td>\n",
       "      <td>NaN</td>\n",
       "      <td>NaN</td>\n",
       "    </tr>\n",
       "    <tr>\n",
       "      <th>4960</th>\n",
       "      <td>5.11a</td>\n",
       "      <td>6c</td>\n",
       "      <td>22</td>\n",
       "      <td>VII+</td>\n",
       "      <td>22</td>\n",
       "      <td>E3 5c</td>\n",
       "      <td>NaN</td>\n",
       "      <td>NaN</td>\n",
       "    </tr>\n",
       "    <tr>\n",
       "      <th>4961</th>\n",
       "      <td>5.10a</td>\n",
       "      <td>6a</td>\n",
       "      <td>18</td>\n",
       "      <td>VI+</td>\n",
       "      <td>18</td>\n",
       "      <td>E1 5a</td>\n",
       "      <td>NaN</td>\n",
       "      <td>NaN</td>\n",
       "    </tr>\n",
       "  </tbody>\n",
       "</table>\n",
       "<p>4962 rows × 8 columns</p>\n",
       "</div>"
      ],
      "text/plain": [
       "     grades-YDS grades-French grades-Ewbanks grades-UIAA grades-ZA  \\\n",
       "0           5.8            5b             16         VI-        15   \n",
       "1         5.11a            6c             22        VII+        22   \n",
       "2          5.10            6b             20        VII-        19   \n",
       "3          5.9-            5c             17          VI        16   \n",
       "4           5.6            4c             14           V        12   \n",
       "...         ...           ...            ...         ...       ...   \n",
       "4957      5.12c           7b+             27         IX-        27   \n",
       "4958      5.10c            6b             20         VII        20   \n",
       "4959      5.10b           6a+             19        VII-        19   \n",
       "4960      5.11a            6c             22        VII+        22   \n",
       "4961      5.10a            6a             18         VI+        18   \n",
       "\n",
       "     grades-British grades-yds_aid grades-Font  \n",
       "0            HVS 4c            A3+         NaN  \n",
       "1             E3 5c            NaN         NaN  \n",
       "2             E2 5b            NaN         NaN  \n",
       "3            HVS 4c            NaN         NaN  \n",
       "4              S 4b            NaN         NaN  \n",
       "...             ...            ...         ...  \n",
       "4957          E6 6b            NaN         NaN  \n",
       "4958          E2 5b            NaN         NaN  \n",
       "4959          E2 5b            NaN         NaN  \n",
       "4960          E3 5c            NaN         NaN  \n",
       "4961          E1 5a            NaN         NaN  \n",
       "\n",
       "[4962 rows x 8 columns]"
      ]
     },
     "execution_count": 108,
     "metadata": {},
     "output_type": "execute_result"
    }
   ],
   "source": [
    "## to_dict() - turns each row into a key value pair.\n",
    "## values() - returns the values as a list.\n",
    "\n",
    "dft = (pd.DataFrame(df.grade.to_dict().values())\n",
    "       .rename(columns=lambda c: 'grades-'+c))\n",
    "dft"
   ]
  },
  {
   "cell_type": "code",
   "execution_count": 109,
   "id": "52d5382f",
   "metadata": {},
   "outputs": [],
   "source": [
    "df = pd.merge(\n",
    "         df, \n",
    "         dft,\n",
    "         left_index=True,\n",
    "         right_index=True,\n",
    "         how='inner'\n",
    ")"
   ]
  },
  {
   "cell_type": "code",
   "execution_count": 110,
   "id": "593e00b1",
   "metadata": {},
   "outputs": [],
   "source": [
    "df.drop(columns='grade', inplace=True)"
   ]
  },
  {
   "cell_type": "markdown",
   "id": "fce07910",
   "metadata": {},
   "source": [
    "## type"
   ]
  },
  {
   "cell_type": "code",
   "execution_count": 111,
   "id": "6c29de40",
   "metadata": {},
   "outputs": [
    {
     "data": {
      "text/html": [
       "<div>\n",
       "<style scoped>\n",
       "    .dataframe tbody tr th:only-of-type {\n",
       "        vertical-align: middle;\n",
       "    }\n",
       "\n",
       "    .dataframe tbody tr th {\n",
       "        vertical-align: top;\n",
       "    }\n",
       "\n",
       "    .dataframe thead th {\n",
       "        text-align: right;\n",
       "    }\n",
       "</style>\n",
       "<table border=\"1\" class=\"dataframe\">\n",
       "  <thead>\n",
       "    <tr style=\"text-align: right;\">\n",
       "      <th></th>\n",
       "      <th>type-trad</th>\n",
       "      <th>type-aid</th>\n",
       "      <th>type-alpine</th>\n",
       "      <th>type-sport</th>\n",
       "      <th>type-tr</th>\n",
       "      <th>type-boulder</th>\n",
       "      <th>type-mixed</th>\n",
       "      <th>type-ice</th>\n",
       "      <th>type-snow</th>\n",
       "    </tr>\n",
       "  </thead>\n",
       "  <tbody>\n",
       "    <tr>\n",
       "      <th>0</th>\n",
       "      <td>True</td>\n",
       "      <td>True</td>\n",
       "      <td>True</td>\n",
       "      <td>NaN</td>\n",
       "      <td>NaN</td>\n",
       "      <td>NaN</td>\n",
       "      <td>NaN</td>\n",
       "      <td>NaN</td>\n",
       "      <td>NaN</td>\n",
       "    </tr>\n",
       "    <tr>\n",
       "      <th>1</th>\n",
       "      <td>NaN</td>\n",
       "      <td>NaN</td>\n",
       "      <td>NaN</td>\n",
       "      <td>True</td>\n",
       "      <td>NaN</td>\n",
       "      <td>NaN</td>\n",
       "      <td>NaN</td>\n",
       "      <td>NaN</td>\n",
       "      <td>NaN</td>\n",
       "    </tr>\n",
       "    <tr>\n",
       "      <th>2</th>\n",
       "      <td>True</td>\n",
       "      <td>NaN</td>\n",
       "      <td>NaN</td>\n",
       "      <td>NaN</td>\n",
       "      <td>NaN</td>\n",
       "      <td>NaN</td>\n",
       "      <td>NaN</td>\n",
       "      <td>NaN</td>\n",
       "      <td>NaN</td>\n",
       "    </tr>\n",
       "    <tr>\n",
       "      <th>3</th>\n",
       "      <td>NaN</td>\n",
       "      <td>NaN</td>\n",
       "      <td>NaN</td>\n",
       "      <td>True</td>\n",
       "      <td>True</td>\n",
       "      <td>NaN</td>\n",
       "      <td>NaN</td>\n",
       "      <td>NaN</td>\n",
       "      <td>NaN</td>\n",
       "    </tr>\n",
       "    <tr>\n",
       "      <th>4</th>\n",
       "      <td>True</td>\n",
       "      <td>NaN</td>\n",
       "      <td>NaN</td>\n",
       "      <td>NaN</td>\n",
       "      <td>NaN</td>\n",
       "      <td>NaN</td>\n",
       "      <td>NaN</td>\n",
       "      <td>NaN</td>\n",
       "      <td>NaN</td>\n",
       "    </tr>\n",
       "    <tr>\n",
       "      <th>...</th>\n",
       "      <td>...</td>\n",
       "      <td>...</td>\n",
       "      <td>...</td>\n",
       "      <td>...</td>\n",
       "      <td>...</td>\n",
       "      <td>...</td>\n",
       "      <td>...</td>\n",
       "      <td>...</td>\n",
       "      <td>...</td>\n",
       "    </tr>\n",
       "    <tr>\n",
       "      <th>4957</th>\n",
       "      <td>NaN</td>\n",
       "      <td>NaN</td>\n",
       "      <td>NaN</td>\n",
       "      <td>True</td>\n",
       "      <td>NaN</td>\n",
       "      <td>NaN</td>\n",
       "      <td>NaN</td>\n",
       "      <td>NaN</td>\n",
       "      <td>NaN</td>\n",
       "    </tr>\n",
       "    <tr>\n",
       "      <th>4958</th>\n",
       "      <td>NaN</td>\n",
       "      <td>NaN</td>\n",
       "      <td>NaN</td>\n",
       "      <td>True</td>\n",
       "      <td>NaN</td>\n",
       "      <td>NaN</td>\n",
       "      <td>NaN</td>\n",
       "      <td>NaN</td>\n",
       "      <td>NaN</td>\n",
       "    </tr>\n",
       "    <tr>\n",
       "      <th>4959</th>\n",
       "      <td>NaN</td>\n",
       "      <td>NaN</td>\n",
       "      <td>NaN</td>\n",
       "      <td>True</td>\n",
       "      <td>NaN</td>\n",
       "      <td>NaN</td>\n",
       "      <td>NaN</td>\n",
       "      <td>NaN</td>\n",
       "      <td>NaN</td>\n",
       "    </tr>\n",
       "    <tr>\n",
       "      <th>4960</th>\n",
       "      <td>NaN</td>\n",
       "      <td>NaN</td>\n",
       "      <td>NaN</td>\n",
       "      <td>True</td>\n",
       "      <td>NaN</td>\n",
       "      <td>NaN</td>\n",
       "      <td>NaN</td>\n",
       "      <td>NaN</td>\n",
       "      <td>NaN</td>\n",
       "    </tr>\n",
       "    <tr>\n",
       "      <th>4961</th>\n",
       "      <td>NaN</td>\n",
       "      <td>NaN</td>\n",
       "      <td>NaN</td>\n",
       "      <td>True</td>\n",
       "      <td>NaN</td>\n",
       "      <td>NaN</td>\n",
       "      <td>NaN</td>\n",
       "      <td>NaN</td>\n",
       "      <td>NaN</td>\n",
       "    </tr>\n",
       "  </tbody>\n",
       "</table>\n",
       "<p>4962 rows × 9 columns</p>\n",
       "</div>"
      ],
      "text/plain": [
       "     type-trad type-aid type-alpine type-sport type-tr type-boulder  \\\n",
       "0         True     True        True        NaN     NaN          NaN   \n",
       "1          NaN      NaN         NaN       True     NaN          NaN   \n",
       "2         True      NaN         NaN        NaN     NaN          NaN   \n",
       "3          NaN      NaN         NaN       True    True          NaN   \n",
       "4         True      NaN         NaN        NaN     NaN          NaN   \n",
       "...        ...      ...         ...        ...     ...          ...   \n",
       "4957       NaN      NaN         NaN       True     NaN          NaN   \n",
       "4958       NaN      NaN         NaN       True     NaN          NaN   \n",
       "4959       NaN      NaN         NaN       True     NaN          NaN   \n",
       "4960       NaN      NaN         NaN       True     NaN          NaN   \n",
       "4961       NaN      NaN         NaN       True     NaN          NaN   \n",
       "\n",
       "     type-mixed type-ice type-snow  \n",
       "0           NaN      NaN       NaN  \n",
       "1           NaN      NaN       NaN  \n",
       "2           NaN      NaN       NaN  \n",
       "3           NaN      NaN       NaN  \n",
       "4           NaN      NaN       NaN  \n",
       "...         ...      ...       ...  \n",
       "4957        NaN      NaN       NaN  \n",
       "4958        NaN      NaN       NaN  \n",
       "4959        NaN      NaN       NaN  \n",
       "4960        NaN      NaN       NaN  \n",
       "4961        NaN      NaN       NaN  \n",
       "\n",
       "[4962 rows x 9 columns]"
      ]
     },
     "execution_count": 111,
     "metadata": {},
     "output_type": "execute_result"
    }
   ],
   "source": [
    "dft = (pd.DataFrame(df.type.to_dict().values())\n",
    "       .rename(columns=lambda c: 'type-'+c))\n",
    "dft"
   ]
  },
  {
   "cell_type": "code",
   "execution_count": 112,
   "id": "51cfb9f8",
   "metadata": {},
   "outputs": [
    {
     "data": {
      "text/html": [
       "<div>\n",
       "<style scoped>\n",
       "    .dataframe tbody tr th:only-of-type {\n",
       "        vertical-align: middle;\n",
       "    }\n",
       "\n",
       "    .dataframe tbody tr th {\n",
       "        vertical-align: top;\n",
       "    }\n",
       "\n",
       "    .dataframe thead th {\n",
       "        text-align: right;\n",
       "    }\n",
       "</style>\n",
       "<table border=\"1\" class=\"dataframe\">\n",
       "  <thead>\n",
       "    <tr style=\"text-align: right;\">\n",
       "      <th></th>\n",
       "      <th>count</th>\n",
       "      <th>nunique</th>\n",
       "      <th>&lt;lambda&gt;</th>\n",
       "    </tr>\n",
       "  </thead>\n",
       "  <tbody>\n",
       "    <tr>\n",
       "      <th>type-trad</th>\n",
       "      <td>1823</td>\n",
       "      <td>1</td>\n",
       "      <td>3139</td>\n",
       "    </tr>\n",
       "    <tr>\n",
       "      <th>type-aid</th>\n",
       "      <td>26</td>\n",
       "      <td>1</td>\n",
       "      <td>4936</td>\n",
       "    </tr>\n",
       "    <tr>\n",
       "      <th>type-alpine</th>\n",
       "      <td>75</td>\n",
       "      <td>1</td>\n",
       "      <td>4887</td>\n",
       "    </tr>\n",
       "    <tr>\n",
       "      <th>type-sport</th>\n",
       "      <td>2042</td>\n",
       "      <td>1</td>\n",
       "      <td>2920</td>\n",
       "    </tr>\n",
       "    <tr>\n",
       "      <th>type-tr</th>\n",
       "      <td>221</td>\n",
       "      <td>1</td>\n",
       "      <td>4741</td>\n",
       "    </tr>\n",
       "    <tr>\n",
       "      <th>type-boulder</th>\n",
       "      <td>1034</td>\n",
       "      <td>1</td>\n",
       "      <td>3928</td>\n",
       "    </tr>\n",
       "    <tr>\n",
       "      <th>type-mixed</th>\n",
       "      <td>3</td>\n",
       "      <td>1</td>\n",
       "      <td>4959</td>\n",
       "    </tr>\n",
       "    <tr>\n",
       "      <th>type-ice</th>\n",
       "      <td>13</td>\n",
       "      <td>1</td>\n",
       "      <td>4949</td>\n",
       "    </tr>\n",
       "    <tr>\n",
       "      <th>type-snow</th>\n",
       "      <td>1</td>\n",
       "      <td>1</td>\n",
       "      <td>4961</td>\n",
       "    </tr>\n",
       "  </tbody>\n",
       "</table>\n",
       "</div>"
      ],
      "text/plain": [
       "              count  nunique  <lambda>\n",
       "type-trad      1823        1      3139\n",
       "type-aid         26        1      4936\n",
       "type-alpine      75        1      4887\n",
       "type-sport     2042        1      2920\n",
       "type-tr         221        1      4741\n",
       "type-boulder   1034        1      3928\n",
       "type-mixed        3        1      4959\n",
       "type-ice         13        1      4949\n",
       "type-snow         1        1      4961"
      ]
     },
     "execution_count": 112,
     "metadata": {},
     "output_type": "execute_result"
    }
   ],
   "source": [
    "dft.agg(['count', \n",
    "         'nunique', \n",
    "         lambda x: x.isnull().sum()]).T"
   ]
  },
  {
   "cell_type": "code",
   "execution_count": 113,
   "id": "d1909b86",
   "metadata": {},
   "outputs": [
    {
     "data": {
      "text/html": [
       "<div>\n",
       "<style scoped>\n",
       "    .dataframe tbody tr th:only-of-type {\n",
       "        vertical-align: middle;\n",
       "    }\n",
       "\n",
       "    .dataframe tbody tr th {\n",
       "        vertical-align: top;\n",
       "    }\n",
       "\n",
       "    .dataframe thead th {\n",
       "        text-align: right;\n",
       "    }\n",
       "</style>\n",
       "<table border=\"1\" class=\"dataframe\">\n",
       "  <thead>\n",
       "    <tr style=\"text-align: right;\">\n",
       "      <th></th>\n",
       "      <th>0</th>\n",
       "    </tr>\n",
       "  </thead>\n",
       "  <tbody>\n",
       "    <tr>\n",
       "      <th>type-trad</th>\n",
       "      <td>True</td>\n",
       "    </tr>\n",
       "    <tr>\n",
       "      <th>type-aid</th>\n",
       "      <td>True</td>\n",
       "    </tr>\n",
       "    <tr>\n",
       "      <th>type-alpine</th>\n",
       "      <td>True</td>\n",
       "    </tr>\n",
       "    <tr>\n",
       "      <th>type-sport</th>\n",
       "      <td>True</td>\n",
       "    </tr>\n",
       "    <tr>\n",
       "      <th>type-tr</th>\n",
       "      <td>True</td>\n",
       "    </tr>\n",
       "    <tr>\n",
       "      <th>type-boulder</th>\n",
       "      <td>True</td>\n",
       "    </tr>\n",
       "    <tr>\n",
       "      <th>type-mixed</th>\n",
       "      <td>True</td>\n",
       "    </tr>\n",
       "    <tr>\n",
       "      <th>type-ice</th>\n",
       "      <td>True</td>\n",
       "    </tr>\n",
       "    <tr>\n",
       "      <th>type-snow</th>\n",
       "      <td>True</td>\n",
       "    </tr>\n",
       "  </tbody>\n",
       "</table>\n",
       "</div>"
      ],
      "text/plain": [
       "                 0\n",
       "type-trad     True\n",
       "type-aid      True\n",
       "type-alpine   True\n",
       "type-sport    True\n",
       "type-tr       True\n",
       "type-boulder  True\n",
       "type-mixed    True\n",
       "type-ice      True\n",
       "type-snow     True"
      ]
     },
     "execution_count": 113,
     "metadata": {},
     "output_type": "execute_result"
    }
   ],
   "source": [
    "dft.mode().T"
   ]
  },
  {
   "cell_type": "code",
   "execution_count": 114,
   "id": "e9e764d2",
   "metadata": {},
   "outputs": [
    {
     "data": {
      "text/html": [
       "<div>\n",
       "<style scoped>\n",
       "    .dataframe tbody tr th:only-of-type {\n",
       "        vertical-align: middle;\n",
       "    }\n",
       "\n",
       "    .dataframe tbody tr th {\n",
       "        vertical-align: top;\n",
       "    }\n",
       "\n",
       "    .dataframe thead th {\n",
       "        text-align: right;\n",
       "    }\n",
       "</style>\n",
       "<table border=\"1\" class=\"dataframe\">\n",
       "  <thead>\n",
       "    <tr style=\"text-align: right;\">\n",
       "      <th></th>\n",
       "      <th>type-trad</th>\n",
       "      <th>type-aid</th>\n",
       "      <th>type-alpine</th>\n",
       "      <th>type-sport</th>\n",
       "      <th>type-tr</th>\n",
       "      <th>type-boulder</th>\n",
       "      <th>type-mixed</th>\n",
       "      <th>type-ice</th>\n",
       "      <th>type-snow</th>\n",
       "    </tr>\n",
       "  </thead>\n",
       "  <tbody>\n",
       "    <tr>\n",
       "      <th>count</th>\n",
       "      <td>1823</td>\n",
       "      <td>26</td>\n",
       "      <td>75</td>\n",
       "      <td>2042</td>\n",
       "      <td>221</td>\n",
       "      <td>1034</td>\n",
       "      <td>3</td>\n",
       "      <td>13</td>\n",
       "      <td>1</td>\n",
       "    </tr>\n",
       "    <tr>\n",
       "      <th>unique</th>\n",
       "      <td>1</td>\n",
       "      <td>1</td>\n",
       "      <td>1</td>\n",
       "      <td>1</td>\n",
       "      <td>1</td>\n",
       "      <td>1</td>\n",
       "      <td>1</td>\n",
       "      <td>1</td>\n",
       "      <td>1</td>\n",
       "    </tr>\n",
       "    <tr>\n",
       "      <th>top</th>\n",
       "      <td>True</td>\n",
       "      <td>True</td>\n",
       "      <td>True</td>\n",
       "      <td>True</td>\n",
       "      <td>True</td>\n",
       "      <td>True</td>\n",
       "      <td>True</td>\n",
       "      <td>True</td>\n",
       "      <td>True</td>\n",
       "    </tr>\n",
       "    <tr>\n",
       "      <th>freq</th>\n",
       "      <td>1823</td>\n",
       "      <td>26</td>\n",
       "      <td>75</td>\n",
       "      <td>2042</td>\n",
       "      <td>221</td>\n",
       "      <td>1034</td>\n",
       "      <td>3</td>\n",
       "      <td>13</td>\n",
       "      <td>1</td>\n",
       "    </tr>\n",
       "  </tbody>\n",
       "</table>\n",
       "</div>"
      ],
      "text/plain": [
       "       type-trad type-aid type-alpine type-sport type-tr type-boulder  \\\n",
       "count       1823       26          75       2042     221         1034   \n",
       "unique         1        1           1          1       1            1   \n",
       "top         True     True        True       True    True         True   \n",
       "freq        1823       26          75       2042     221         1034   \n",
       "\n",
       "       type-mixed type-ice type-snow  \n",
       "count           3       13         1  \n",
       "unique          1        1         1  \n",
       "top          True     True      True  \n",
       "freq            3       13         1  "
      ]
     },
     "execution_count": 114,
     "metadata": {},
     "output_type": "execute_result"
    }
   ],
   "source": [
    "dft.describe()"
   ]
  },
  {
   "cell_type": "code",
   "execution_count": 115,
   "id": "66185f61",
   "metadata": {},
   "outputs": [],
   "source": [
    "# dft['grades-YDS'].value_counts()"
   ]
  },
  {
   "cell_type": "markdown",
   "id": "6964b7ee",
   "metadata": {},
   "source": [
    "##### The only unique value in all 'type' columns is 'True'"
   ]
  },
  {
   "cell_type": "code",
   "execution_count": 116,
   "id": "39b56ae0",
   "metadata": {},
   "outputs": [],
   "source": [
    "df = pd.merge(\n",
    "         df, \n",
    "         dft,\n",
    "         left_index=True,\n",
    "         right_index=True,\n",
    "         how='inner'\n",
    ")"
   ]
  },
  {
   "cell_type": "code",
   "execution_count": 117,
   "id": "25ef4b4c",
   "metadata": {},
   "outputs": [],
   "source": [
    "df.drop(columns='type', inplace=True)"
   ]
  },
  {
   "cell_type": "markdown",
   "id": "d1844ebc",
   "metadata": {},
   "source": [
    "## metadata"
   ]
  },
  {
   "cell_type": "code",
   "execution_count": 118,
   "id": "a547e401",
   "metadata": {},
   "outputs": [
    {
     "data": {
      "text/html": [
       "<div>\n",
       "<style scoped>\n",
       "    .dataframe tbody tr th:only-of-type {\n",
       "        vertical-align: middle;\n",
       "    }\n",
       "\n",
       "    .dataframe tbody tr th {\n",
       "        vertical-align: top;\n",
       "    }\n",
       "\n",
       "    .dataframe thead th {\n",
       "        text-align: right;\n",
       "    }\n",
       "</style>\n",
       "<table border=\"1\" class=\"dataframe\">\n",
       "  <thead>\n",
       "    <tr style=\"text-align: right;\">\n",
       "      <th></th>\n",
       "      <th>metadata-left_right_seq</th>\n",
       "      <th>metadata-parent_lnglat</th>\n",
       "      <th>metadata-parent_sector</th>\n",
       "      <th>metadata-mp_route_id</th>\n",
       "      <th>metadata-mp_sector_id</th>\n",
       "      <th>metadata-mp_path</th>\n",
       "    </tr>\n",
       "  </thead>\n",
       "  <tbody>\n",
       "    <tr>\n",
       "      <th>0</th>\n",
       "      <td>2</td>\n",
       "      <td>[-114.31392, 38.98578]</td>\n",
       "      <td>Wheeler Peak</td>\n",
       "      <td>109152533</td>\n",
       "      <td>105972685</td>\n",
       "      <td>Eastern Nevada|Wheeler Peak</td>\n",
       "    </tr>\n",
       "    <tr>\n",
       "      <th>1</th>\n",
       "      <td>0</td>\n",
       "      <td>[-114.8918, 39.3509]</td>\n",
       "      <td>Hercules Gap</td>\n",
       "      <td>121646234</td>\n",
       "      <td>106520004</td>\n",
       "      <td>Eastern Nevada|Hercules Gap</td>\n",
       "    </tr>\n",
       "    <tr>\n",
       "      <th>2</th>\n",
       "      <td>0</td>\n",
       "      <td>[-115.09649, 41.01482]</td>\n",
       "      <td>Crooked Finger Tower</td>\n",
       "      <td>121885014</td>\n",
       "      <td>121885007</td>\n",
       "      <td>Eastern Nevada|Crooked Finger Tower</td>\n",
       "    </tr>\n",
       "    <tr>\n",
       "      <th>3</th>\n",
       "      <td>0</td>\n",
       "      <td>[-115.82222, 40.9005]</td>\n",
       "      <td>Cowboy</td>\n",
       "      <td>118130477</td>\n",
       "      <td>118130390</td>\n",
       "      <td>Eastern Nevada|Cowboy</td>\n",
       "    </tr>\n",
       "    <tr>\n",
       "      <th>4</th>\n",
       "      <td>0</td>\n",
       "      <td>[-115.08818, 41.02809]</td>\n",
       "      <td>Trout Slayer Buttress</td>\n",
       "      <td>110636608</td>\n",
       "      <td>110636601</td>\n",
       "      <td>Eastern Nevada|Angel Lake|Trout Slayer Buttress</td>\n",
       "    </tr>\n",
       "    <tr>\n",
       "      <th>...</th>\n",
       "      <td>...</td>\n",
       "      <td>...</td>\n",
       "      <td>...</td>\n",
       "      <td>...</td>\n",
       "      <td>...</td>\n",
       "      <td>...</td>\n",
       "    </tr>\n",
       "    <tr>\n",
       "      <th>4957</th>\n",
       "      <td>1</td>\n",
       "      <td>[-114.78819, 36.73445]</td>\n",
       "      <td>Dirty Wall</td>\n",
       "      <td>118321964</td>\n",
       "      <td>108667674</td>\n",
       "      <td>Southern Nevada|Arrow Canyon|Dirty Wall</td>\n",
       "    </tr>\n",
       "    <tr>\n",
       "      <th>4958</th>\n",
       "      <td>3</td>\n",
       "      <td>[-114.76862, 36.72776]</td>\n",
       "      <td>Entry Walls</td>\n",
       "      <td>115411476</td>\n",
       "      <td>106545443</td>\n",
       "      <td>Southern Nevada|Arrow Canyon|Entry Walls</td>\n",
       "    </tr>\n",
       "    <tr>\n",
       "      <th>4959</th>\n",
       "      <td>6</td>\n",
       "      <td>[-114.76862, 36.72776]</td>\n",
       "      <td>Entry Walls</td>\n",
       "      <td>116132291</td>\n",
       "      <td>106545443</td>\n",
       "      <td>Southern Nevada|Arrow Canyon|Entry Walls</td>\n",
       "    </tr>\n",
       "    <tr>\n",
       "      <th>4960</th>\n",
       "      <td>1</td>\n",
       "      <td>[-114.76862, 36.72776]</td>\n",
       "      <td>Entry Walls</td>\n",
       "      <td>106545446</td>\n",
       "      <td>106545443</td>\n",
       "      <td>Southern Nevada|Arrow Canyon|Entry Walls</td>\n",
       "    </tr>\n",
       "    <tr>\n",
       "      <th>4961</th>\n",
       "      <td>5</td>\n",
       "      <td>[-114.76862, 36.72776]</td>\n",
       "      <td>Entry Walls</td>\n",
       "      <td>111333127</td>\n",
       "      <td>106545443</td>\n",
       "      <td>Southern Nevada|Arrow Canyon|Entry Walls</td>\n",
       "    </tr>\n",
       "  </tbody>\n",
       "</table>\n",
       "<p>4962 rows × 6 columns</p>\n",
       "</div>"
      ],
      "text/plain": [
       "     metadata-left_right_seq  metadata-parent_lnglat metadata-parent_sector  \\\n",
       "0                          2  [-114.31392, 38.98578]           Wheeler Peak   \n",
       "1                          0    [-114.8918, 39.3509]           Hercules Gap   \n",
       "2                          0  [-115.09649, 41.01482]   Crooked Finger Tower   \n",
       "3                          0   [-115.82222, 40.9005]                 Cowboy   \n",
       "4                          0  [-115.08818, 41.02809]  Trout Slayer Buttress   \n",
       "...                      ...                     ...                    ...   \n",
       "4957                       1  [-114.78819, 36.73445]             Dirty Wall   \n",
       "4958                       3  [-114.76862, 36.72776]            Entry Walls   \n",
       "4959                       6  [-114.76862, 36.72776]            Entry Walls   \n",
       "4960                       1  [-114.76862, 36.72776]            Entry Walls   \n",
       "4961                       5  [-114.76862, 36.72776]            Entry Walls   \n",
       "\n",
       "     metadata-mp_route_id metadata-mp_sector_id  \\\n",
       "0               109152533             105972685   \n",
       "1               121646234             106520004   \n",
       "2               121885014             121885007   \n",
       "3               118130477             118130390   \n",
       "4               110636608             110636601   \n",
       "...                   ...                   ...   \n",
       "4957            118321964             108667674   \n",
       "4958            115411476             106545443   \n",
       "4959            116132291             106545443   \n",
       "4960            106545446             106545443   \n",
       "4961            111333127             106545443   \n",
       "\n",
       "                                     metadata-mp_path  \n",
       "0                         Eastern Nevada|Wheeler Peak  \n",
       "1                         Eastern Nevada|Hercules Gap  \n",
       "2                 Eastern Nevada|Crooked Finger Tower  \n",
       "3                               Eastern Nevada|Cowboy  \n",
       "4     Eastern Nevada|Angel Lake|Trout Slayer Buttress  \n",
       "...                                               ...  \n",
       "4957          Southern Nevada|Arrow Canyon|Dirty Wall  \n",
       "4958         Southern Nevada|Arrow Canyon|Entry Walls  \n",
       "4959         Southern Nevada|Arrow Canyon|Entry Walls  \n",
       "4960         Southern Nevada|Arrow Canyon|Entry Walls  \n",
       "4961         Southern Nevada|Arrow Canyon|Entry Walls  \n",
       "\n",
       "[4962 rows x 6 columns]"
      ]
     },
     "execution_count": 118,
     "metadata": {},
     "output_type": "execute_result"
    }
   ],
   "source": [
    "dft = pd.DataFrame(df.metadata.to_dict().values()).rename(columns=lambda c: 'metadata-'+c)\n",
    "dft"
   ]
  },
  {
   "cell_type": "code",
   "execution_count": 119,
   "id": "fc95a0f8",
   "metadata": {},
   "outputs": [
    {
     "data": {
      "text/html": [
       "<div>\n",
       "<style scoped>\n",
       "    .dataframe tbody tr th:only-of-type {\n",
       "        vertical-align: middle;\n",
       "    }\n",
       "\n",
       "    .dataframe tbody tr th {\n",
       "        vertical-align: top;\n",
       "    }\n",
       "\n",
       "    .dataframe thead th {\n",
       "        text-align: right;\n",
       "    }\n",
       "</style>\n",
       "<table border=\"1\" class=\"dataframe\">\n",
       "  <thead>\n",
       "    <tr style=\"text-align: right;\">\n",
       "      <th></th>\n",
       "      <th>count</th>\n",
       "      <th>nunique</th>\n",
       "      <th>&lt;lambda&gt;</th>\n",
       "    </tr>\n",
       "  </thead>\n",
       "  <tbody>\n",
       "    <tr>\n",
       "      <th>metadata-left_right_seq</th>\n",
       "      <td>4962.0</td>\n",
       "      <td>51.0</td>\n",
       "      <td>0.0</td>\n",
       "    </tr>\n",
       "    <tr>\n",
       "      <th>metadata-parent_lnglat</th>\n",
       "      <td>4962.0</td>\n",
       "      <td>NaN</td>\n",
       "      <td>0.0</td>\n",
       "    </tr>\n",
       "    <tr>\n",
       "      <th>metadata-parent_sector</th>\n",
       "      <td>4962.0</td>\n",
       "      <td>881.0</td>\n",
       "      <td>0.0</td>\n",
       "    </tr>\n",
       "    <tr>\n",
       "      <th>metadata-mp_route_id</th>\n",
       "      <td>4962.0</td>\n",
       "      <td>4962.0</td>\n",
       "      <td>0.0</td>\n",
       "    </tr>\n",
       "    <tr>\n",
       "      <th>metadata-mp_sector_id</th>\n",
       "      <td>4962.0</td>\n",
       "      <td>895.0</td>\n",
       "      <td>0.0</td>\n",
       "    </tr>\n",
       "    <tr>\n",
       "      <th>metadata-mp_path</th>\n",
       "      <td>4962.0</td>\n",
       "      <td>895.0</td>\n",
       "      <td>0.0</td>\n",
       "    </tr>\n",
       "  </tbody>\n",
       "</table>\n",
       "</div>"
      ],
      "text/plain": [
       "                          count  nunique  <lambda>\n",
       "metadata-left_right_seq  4962.0     51.0       0.0\n",
       "metadata-parent_lnglat   4962.0      NaN       0.0\n",
       "metadata-parent_sector   4962.0    881.0       0.0\n",
       "metadata-mp_route_id     4962.0   4962.0       0.0\n",
       "metadata-mp_sector_id    4962.0    895.0       0.0\n",
       "metadata-mp_path         4962.0    895.0       0.0"
      ]
     },
     "execution_count": 119,
     "metadata": {},
     "output_type": "execute_result"
    }
   ],
   "source": [
    "dft.agg(['count', 'nunique', lambda x: x.isnull().sum()]).T"
   ]
  },
  {
   "cell_type": "code",
   "execution_count": 120,
   "id": "2115da4c",
   "metadata": {},
   "outputs": [
    {
     "data": {
      "text/html": [
       "<div>\n",
       "<style scoped>\n",
       "    .dataframe tbody tr th:only-of-type {\n",
       "        vertical-align: middle;\n",
       "    }\n",
       "\n",
       "    .dataframe tbody tr th {\n",
       "        vertical-align: top;\n",
       "    }\n",
       "\n",
       "    .dataframe thead th {\n",
       "        text-align: right;\n",
       "    }\n",
       "</style>\n",
       "<table border=\"1\" class=\"dataframe\">\n",
       "  <thead>\n",
       "    <tr style=\"text-align: right;\">\n",
       "      <th></th>\n",
       "      <th>metadata-left_right_seq</th>\n",
       "      <th>metadata-parent_lnglat</th>\n",
       "      <th>metadata-parent_sector</th>\n",
       "      <th>metadata-mp_route_id</th>\n",
       "      <th>metadata-mp_sector_id</th>\n",
       "      <th>metadata-mp_path</th>\n",
       "    </tr>\n",
       "  </thead>\n",
       "  <tbody>\n",
       "    <tr>\n",
       "      <th>count</th>\n",
       "      <td>4962</td>\n",
       "      <td>4962</td>\n",
       "      <td>4962</td>\n",
       "      <td>4962</td>\n",
       "      <td>4962</td>\n",
       "      <td>4962</td>\n",
       "    </tr>\n",
       "    <tr>\n",
       "      <th>unique</th>\n",
       "      <td>51</td>\n",
       "      <td>878</td>\n",
       "      <td>881</td>\n",
       "      <td>4962</td>\n",
       "      <td>895</td>\n",
       "      <td>895</td>\n",
       "    </tr>\n",
       "    <tr>\n",
       "      <th>top</th>\n",
       "      <td>0</td>\n",
       "      <td>[-115.47445, 35.97018]</td>\n",
       "      <td>North Face</td>\n",
       "      <td>109152533</td>\n",
       "      <td>107690058</td>\n",
       "      <td>Southern Nevada|Mount Potosi|East Side|Clear L...</td>\n",
       "    </tr>\n",
       "    <tr>\n",
       "      <th>freq</th>\n",
       "      <td>809</td>\n",
       "      <td>47</td>\n",
       "      <td>52</td>\n",
       "      <td>1</td>\n",
       "      <td>47</td>\n",
       "      <td>47</td>\n",
       "    </tr>\n",
       "  </tbody>\n",
       "</table>\n",
       "</div>"
      ],
      "text/plain": [
       "       metadata-left_right_seq  metadata-parent_lnglat metadata-parent_sector  \\\n",
       "count                     4962                    4962                   4962   \n",
       "unique                      51                     878                    881   \n",
       "top                          0  [-115.47445, 35.97018]             North Face   \n",
       "freq                       809                      47                     52   \n",
       "\n",
       "       metadata-mp_route_id metadata-mp_sector_id  \\\n",
       "count                  4962                  4962   \n",
       "unique                 4962                   895   \n",
       "top               109152533             107690058   \n",
       "freq                      1                    47   \n",
       "\n",
       "                                         metadata-mp_path  \n",
       "count                                                4962  \n",
       "unique                                                895  \n",
       "top     Southern Nevada|Mount Potosi|East Side|Clear L...  \n",
       "freq                                                   47  "
      ]
     },
     "execution_count": 120,
     "metadata": {},
     "output_type": "execute_result"
    }
   ],
   "source": [
    "dft.describe()"
   ]
  },
  {
   "cell_type": "code",
   "execution_count": 121,
   "id": "e324e622",
   "metadata": {},
   "outputs": [],
   "source": [
    "df = pd.merge(\n",
    "         df, \n",
    "         dft,\n",
    "         left_index=True,\n",
    "         right_index=True,\n",
    "         how='inner'\n",
    ")"
   ]
  },
  {
   "cell_type": "code",
   "execution_count": 122,
   "id": "d9e8ebca",
   "metadata": {},
   "outputs": [],
   "source": [
    "df.drop(columns='metadata', inplace=True)"
   ]
  },
  {
   "cell_type": "markdown",
   "id": "3bbc2ea1",
   "metadata": {},
   "source": [
    "# Look at list columns"
   ]
  },
  {
   "cell_type": "markdown",
   "id": "bca6d82d",
   "metadata": {},
   "source": [
    "## description"
   ]
  },
  {
   "cell_type": "code",
   "execution_count": 123,
   "id": "83821b16",
   "metadata": {},
   "outputs": [
    {
     "data": {
      "text/plain": [
       "1     3800\n",
       "2      502\n",
       "3      192\n",
       "4      100\n",
       "5       73\n",
       "7       61\n",
       "6       59\n",
       "0       55\n",
       "8       33\n",
       "9       23\n",
       "10      22\n",
       "11      13\n",
       "12      12\n",
       "13       6\n",
       "14       6\n",
       "22       2\n",
       "26       1\n",
       "16       1\n",
       "19       1\n",
       "Name: description, dtype: int64"
      ]
     },
     "execution_count": 123,
     "metadata": {},
     "output_type": "execute_result"
    }
   ],
   "source": [
    "df.description.str.len().value_counts()"
   ]
  },
  {
   "cell_type": "code",
   "execution_count": 124,
   "id": "35e2082c",
   "metadata": {},
   "outputs": [
    {
     "data": {
      "text/plain": [
       "array([list(['In the late 1970\\'s, my old friend and mentor, Wade Mills (of Sonoma, CA), made a number of forays to the Wheeler Peak area. One of his efforts resulted in a route on the spectacular NE face of Wheeler Peak, which is recorded in Michael Kelsey\\'s guidebook \"Hiking and Climbing in the Great Basin National Park\". I thought I\\'d provide some information and credit to Wade Mills on this. The route ascends the main face, starting near the center, then up to center right, then diagonaling across the upper face to just left of the high point of the peak. Mills made the solo first ascent on June 19, 1977 and called the route \"Stella by Starlight.\" He rated it 5.8,A3+,Ice 9. He found no signs of previous activity on the wall and left nothing behind himself. The Kelsey guidebook description states, in part: \"Mills began with a Class 4 snow and ice climb of 100 meters to a ramp. He started left, turned to the right, then traversed under a water gully with ice on top. He then climbed the wall next to the gully (left side) which had some running water. This was 60 meters, which he rated between 5.5 and 5.8. He then went left to what he calls \"a thin ledge -- open book\" at 4.0 - 5.5. Above, he went up some overhangs - with aid, which were wet. He made two pitches on thin horizontal holds at 5.8. He finally got onto a long ramp angling up to the left. This ramp fades in places and had ice all over. After many pitches, he got off the face just below the summit. Mills mentions there was some rockfall early on the climb when the sun first hit the face but that ice was hard in the cracks in the upper face....\"    The Kelsey guide contains a photo showing the route with the references to the route description, gear list, and other information.']),\n",
       "       list(['Start on a mostly flat gravel platform and climb limestone edges past 8 bolts and end below a giant roof.\\xa0'])],\n",
       "      dtype=object)"
      ]
     },
     "execution_count": 124,
     "metadata": {},
     "output_type": "execute_result"
    }
   ],
   "source": [
    "df[\n",
    "    df.description.str.len() < 2\n",
    "].description.head(2).values"
   ]
  },
  {
   "cell_type": "code",
   "execution_count": 125,
   "id": "6975b493",
   "metadata": {},
   "outputs": [
    {
     "data": {
      "text/plain": [
       "array([list(['The Original Route on the Rainbow Wall is perhaps Red Rocks\\x92 finest route. It is certainly a crown jewel in terms of achievement: Once you\\x92ve climbed it, things like Levitation 29 and Cloud Tower seem like cragging routes.  ', \"  Once and strangely still a popular aid route, the Original Route is now all-free. During the free ascent in the mid '90's, 40-some-odd bolts were added to the climb. This is indeed absurd, and shortly thereafter all the bolts were chopped. Since then a handful of protection bolts have been replaced as well as bolted belays. It's too bad there are so many blemishes on the rock (both patched and unpatched bolt holes, and plenty of old relic bolts that need to be pulled). However, were it not for the scars from bashing pins, the route probably wouldn't go free at all.   \", '  Sustained, technical climbing, flawless rock, corner after steep corner of stems, locks, and intricate face sequences, and generally good gear lends this climb classic status.  In my opinion, all of those factors, combined with the ability to climb the route with a light rack and a single rope, an incredible view, and an approach that keeps the crowds away, make this one of the most perfect rock climbing experiences imaginable.  ', \"  First things first: a WAG bag should be standard equipment for any Red Rocks climber. Pick one up before you hike in there, use it, and hike it out with you when you're done. \", '  The line is obvious: The major dihedral system in the center of the wall. A couple landmarks include the half-way ledge (Over the Rainbow Ledge) and the Red Dihedral \\x96 a striking left-facing corner at the top of the wall.  The Original Route launches directly up into the corner system from below with a stout 12b pitch close to the deck, then follows some terraces up and right to Over the Rainbow Ledge and finally traverses back left and up to the Red Dihedral which is followed to the top of the wall.   ', \"  The major variation to the climb is Dan McQuade\\x92s Rainbow Country (5.12d) which straightens out the line by skipping the terraces leading up to Over the Rainbow Ledge in favor of some steep, hard face and crack pitches that link almost directly into the Red Dihedral. One should also note that Rainbow Country includes a variation to the left of the Original Route's first two pitches that avoids the 12b second pitch in favor of some very high quality 5.11d climbing, though the best way to climb it is via the harder, direct path.  \", '  A second major variation is that of the Swainbow Wall \\x96 basically an easy escape route that launches straight up from Over the Rainbow Ledge, avoiding the Red Dihedral altogether.   ', '  A sensible way to climb the route for the first time would be to climb the left-hand variation of pitches one and two, thus avoiding the 5.12b corner, then continuing with the Original Route to the top. On the last pitch of the Red Dihedral, one might consider taking a minor left-hand variation which is slightly easier (see the description for pitch 13 below). This path would maximize the high-quality climbing while keeping the difficulty in check at around 5.12a.   ', '  Perhaps the next time on the route, or for parties looking for the greatest challenge possible, the route could be climbed via the right-hand variation of the first two pitches (5.12b), the Rainbow Country variation (5.12d), and then the right-hand variation of pitch 13 (5.12b).   ', \"  Some other minor notes: The climb is north facing and receives shade. Actually the Red Dihedral sees morning sun, but your chances of being there for it (barring a bivy on Over the Rainbow Ledge) seem slim\\x85 dress accordingly. The approach is semi-arduous, and although it can be done in around 1:30, picking a path through the drainage of Juniper Canyon can be challenging the first time. Once underneath the wall, steep slabs present a final obstacle \\x96 these are sometimes made easier by perennial fixed lines. If the lines aren't in place, the slab can be climbed at 5.2 left of the fall line. \", '  P1&2: Two options:  1) Begin directly below the corner system and climb 5.6 ledges and face to a belay at a modern bolt and a quarter-incher.  This short pitch of 5.6 can easily be linked into the next one.  Continue up into the blank corner past two bolts.  A reachy 5.12b move will get you to a bolted belay.  Excellent climbing.  2) Alternatively, begin well left of this start and climb up a leaning corner system past six bolts (being careful getting to the first bolt) to the belay above the 5.12b section.  This checks in at 5.11d and is also excellent.   ', '  P3: Step up into a wide layback immediately off the belay continuing through some decent stances.  Head up the corner until reaching an obvious point to wildly step out right onto the face (the aid line goes straight up).  Clip a bolt and then climb up the slightly past-vertical face past a second bolt before stepping back into the corner and continuing to a bolted belay.  Sustained, reachy, awesome!  5.11d.   ', '  P4: Continue straight up the crack system at mid-5.11?  This pitch is much easier than the last.  Belay at two bolts. ', '  P5: This pitch is rated 5.11c but 5.11a might be more accurate.  Carefully ascend a long, hollow flake (decent gear), passing a bolt, then continue on easier ground up to a roof. Undercling and jam around it to the right.  Skip the first anchor (just past the roof) which is used for rapping, and belay above at another bolted anchor.  A long pitch.   ', '  P6: Continue up the right facing corner, deciding whether to continue up the Original Route or to take the direct line of Rainbow Country*  The rock is lower quality here but only slightly so.  Mid 5.10.  If following the original route, belay at some bolts by a small tree which at the start of the ledgy terrain.  There is a bit of fixed line here which you may wonder about \\x96 it facilitates rappelling the route with a 60m rope.   ', '  P7&8: Perhaps best simul-climbed\\x85 Walk and scramble up and right and up and right, passing a few short, steep sections.  There\\x92s maybe a move or two of generally well-protected 5.9 here and there, but most of it is 3rd and 4th class.  Eventually this reaches a bolt at a left-facing corner where the ledge system terminates.  Belay here. ', '  P9: Traverse out right and around the arête onto the very exposed face.  Follow this up junky, but easy, rock to Over the Rainbow Ledge.  This is a short, exposed pitch of 5.6 or 5.7. ', '  From this point decide whether to continue up the Original Route or to take the easy Swainbow Wall** escape. ', '  P10: Traverse straight left off the belay on narrow foot ledges. Exposed! Gear is not too great here, but there is one old bolt and a cam placement or two. Out to the left there\\x92s a bolted anchor used for rapping, but the goal is to launch straight up to the base of the huge left-facing corner above (the Red Dihedral). Belay at bolts at the base of the Red Dihedral. 5.7-5.8. ', '  P11: If you chose to avoid the 5.12b second pitch and Rainbow Country, this is the crux pitch. Although it is rated 11d, I believe it deserves 12a. Launch up the corner via liebacks, stems, and long reaches. The gear is quite good but some holds are better than others for placing it. The crux itself is not too far off the belay and is protected by a bomber glue-in bolt; creative stemming and reach helps here. Perhaps the best pitch on a climb full of amazing pitches. 5.12a. ', '  P12: Continue up the corner with more of the same style of climbing. The first 20 feet are the hardest and it is more sustained than the previous pitch. High on the pitch there is a place to traverse left to a stance on the face and belay at a bolted anchor, despite the obvious path (the old aid line) continuing up the corner. The traverse itself has the potential for a nasty penji back into the corner \\x96 especially if the highest bolt, a 1/4 incher, were to fail. 5.11d/5.12a. ', \"  P13: Two options: 1) Traverse back into the corner and continue up to a stance beneath the roof. Move leftwards with creativity, trusting one's shoe rubber, eventually turning the roof system at it's left end. 5.12b. This is a Rainbow Country variation. For easier climbing... 2) Alternatively, from the belay downclimb and traverse left to a shallow left-facing corner. Climb up this to merge with the other variation just before it turns the roof. 5.11a.  Both variations pull through the roof at the same point on decent gear and some fixed pro. Belay at bolts up in a cave/alcove. \", '  P14: Pull through the top of the cave on 5.10 flared hands and then continue up on easy ground, skipping a bolted belay out left. A short low fifth class scramble leads to a tree with rap slings and the top of the wall. There are also bolts way back from the edge. ', '  Raps will take you generally down the route but sometimes onto the face to the left. The entire route can be rapped with a single 60m rope but a 70m makes it easier. ', '    *Rainbow Country.  This basically makes an awesome climb completely superb by straightening out the line, avoiding all the ledgey crap, and adding several amazing pitches. First, do the harder starting pitch. Then, from the anchor at the top of P5, head up the right-facing corner, but instead of going right at the top, head up and left, skipping an intermediate anchor out left and heading up a system of steep flakes and cracks.  Runner your gear well as there is rope drag.  Belay at a bolted anchor above a huge hollow block.  5.11a, a long pitch.  From here, head up a crazy overhanging chimney system.  A few bolts protect.  At the top, pull over a bulge (wild 5.11) on jugs to a bolted belay.  Next is the crux (5.12d) pitch:  Do some interesting face climbing sequences past a few bolts to a stance below a shallow right-facing corner.  Using the corner and arete, perform a difficult to read sequence up to a precarious stem.  A few more moves lead to a thank-god hand jam and then a really exposed move back out onto the arete and up the wall above.  6 bolts and a single medium/large stopper placement near the top lead to a bolted belay.  Finally, traverse straight right (5.12a move) past three bolts and then up into the Red Dihedral, belaying at the base of P11 as described above. Finish with the 12b upper Red Dihedral variation. ', '    **Swainbow Wall.  This is an easy escape to the top of the wall from Over the Rainbow Ledge.  I haven\\x92t climbed it and won\\x92t attempt to describe it until I have, but I honestly can\\x92t imagine doing so\\x85  perhaps it would make sense if you find yourself at the ledge without enough daylight remaining to complete the Original Route.  Nevertheless, I would sooner bail from the amazing climbing of the Red Dihedral than miss out on it entirely.'])],\n",
       "      dtype=object)"
      ]
     },
     "execution_count": 125,
     "metadata": {},
     "output_type": "execute_result"
    }
   ],
   "source": [
    "df[df.description.str.len() > 18].description.head(1).values\n",
    "\n",
    "## NOTES:\n",
    "## - The length of the description is greater than 18 because a description is \n",
    "##   split by newline character and these descriptions have at least 18 new line \n",
    "##   characters thus splitting the description to 19 or more pieces."
   ]
  },
  {
   "cell_type": "markdown",
   "id": "212b221f",
   "metadata": {},
   "source": [
    "## Location"
   ]
  },
  {
   "cell_type": "code",
   "execution_count": 126,
   "id": "562f387d",
   "metadata": {},
   "outputs": [
    {
     "data": {
      "text/plain": [
       "1    3543\n",
       "0    1258\n",
       "2     104\n",
       "3      32\n",
       "4       9\n",
       "5       8\n",
       "6       6\n",
       "7       2\n",
       "Name: location, dtype: int64"
      ]
     },
     "execution_count": 126,
     "metadata": {},
     "output_type": "execute_result"
    }
   ],
   "source": [
    "df.location.str.len().value_counts()"
   ]
  },
  {
   "cell_type": "code",
   "execution_count": 127,
   "id": "e3241cdd",
   "metadata": {},
   "outputs": [
    {
     "data": {
      "text/plain": [
       "array([list(['APPROACH', \"  Following Andrew's advice at approaching Ramen Pride Cliff from the right side of the pink cliff band (see photo) it is a shorter approach from the Oak Creek parking lot of the loop road.  The downside is that you are subject to the loop road opening hours.  Alternately park at one of the Route 159 Oak Creek lots (located 0.5 and 1.4 mi from the loop road exit). \", '  Skirt the base of Ramen Pride Cliff and enter the gully that skirts the north side of the tower.  The gully requires fourth and low fifth class scrambling with moderate bushwhacking.  At one point the gully bifurcates; stay left. You\\'ll be able to see the prominent dihedral that is The Warrior as a landmark. Approximately 300\\' from the prominent red band look left for a mossy slab.  Scramble up the slab to reach the ledge that serves as the base of the \"approach pitch\". ', '  Estimated approach time: 3 hours ', '  DESCENT', '  From the top of the route follow the west ridge down.  The descent includes some low fifth class downclimbs and/or an (optional) single rope rap.  As Scott M noted the lower rap off the tree at the end of the W ridge can be avoided by scrambling down and left.  As of 04 January 2014 the route was (mostly) cairned and had functional rap anchors.  The cairns, however, are not always obvious.  For the most part the descent route follows the easiest path down low angled slabs.  The first time I topped out we did most of the descent in the dark (not recommended), but managed to stay on route following this method.  For perspective, you will end up in a side drainage upstream from the slick slab that drops you into the stream bed on the Black Orpheus descent.  Head downstream and follow the main Oak Creek Canyon back to the trail. ', '  Our initial descent time (80% in full darkness): 4 hours, 15 min']),\n",
       "       list(['- - > GPS track for approach+route: View + download Map on this page CampToCamp', ' From the \"Second Pull-Out\" parking (N36.1518 W115.4374) on the Red Rock Scenic Loop road, hike about 300 ft N on trail descending, at junction sharp Right down 130 ft E into wash. Next about 500 ft N without obvious trail, getting away from left (W) side of wash, then in the midst of an uphill around the left side of a hill, at (N36.1549 W115.4371) turn sharp Right (E) and traverse 120 ft around right side of hill, then N along the wash about 325 feet to reach the white chalk marks of the Sweet Pain wall). . . . (or in very dry conditions instead of flirting with that hill, can just go 300 ft close along left side of wash, then NNE 250ft downward into center of wash (N36.1549 W115.4365). . . . More interesting scrambling to instead take the next (narrower) gully to the West and get N past the Stone Wall (N36.1560 W115.4370).', ' Next into a long uphill with some scrambling sections and sometimes vegetation to avoid. About a hundred feet above the Meetup Wall, around (N36.1572 W115.4369), leave the main gully and go up left (NNW) into another gully - - > See this Photo with a dramatic pillar on its left, a ridge rising on its left, and a big roof high above. Up this about 75 ft to meet continuous rock around (N36.1574 W115.4370). . . . Or instead early get up on the ridge between the two gullies (see main route and Variation 1.1 below). . . . . [ shown on this Photo | and this Photo ]', ' Effort: +475 ft uphill over 0.45 mile (+143 m uphill over 0.7 km).', 'Start from Frostie Shack Pass: From the Frostie Shack Pass (N36.1581 W115.4368) which is low point between Red Book Point and Calico Peak, hike/scramble down about 100-150 ft and see a gully up to right with a prickly-pear in middle - - > See this Photo. Scramble up mini-ridge forming the left side of that gully. Next flat about 30 ft over to a platform toward the bottom of the S ridge -- to rejoin main route at top of pitch 2 (N36.1576 W115.4371). This platform on right (E) side of ridge has a vertical rock hole plus one bolt for an anchor.', ' From Calico Basin parking: Frostie Shack Pass can also be reached from the SE, starting from parking in Calico Basin (outside the Scenic Loop road) -- but much longer, with a little higher difficulty and lots more quantity of scrambling/climbing ... First up to the \"Middle Sand Flat\" (GPS lat long approx N36.1577 W115.4354).-.(elevation 4325 ft /1320m), then about 400 ft WNW in a narrow gully.', ' See directions on the Calico Peaks area description page (under the Pass crossings section).'])],\n",
       "      dtype=object)"
      ]
     },
     "execution_count": 127,
     "metadata": {},
     "output_type": "execute_result"
    }
   ],
   "source": [
    "df[\n",
    "    df.location.str.len() > 6\n",
    "].location.head(2).values"
   ]
  },
  {
   "cell_type": "markdown",
   "id": "c090469a",
   "metadata": {},
   "source": [
    "## protection"
   ]
  },
  {
   "cell_type": "code",
   "execution_count": 128,
   "id": "7251e27e",
   "metadata": {},
   "outputs": [
    {
     "data": {
      "text/plain": [
       "1    4584\n",
       "0     210\n",
       "2     152\n",
       "3       9\n",
       "4       4\n",
       "5       2\n",
       "6       1\n",
       "Name: protection, dtype: int64"
      ]
     },
     "execution_count": 128,
     "metadata": {},
     "output_type": "execute_result"
    }
   ],
   "source": [
    "df.protection.str.len().value_counts()"
   ]
  },
  {
   "cell_type": "code",
   "execution_count": 129,
   "id": "a0b6eb60",
   "metadata": {},
   "outputs": [
    {
     "data": {
      "text/plain": [
       "array([list(['Contrary to info in the guidebook and on the Fear and Loathing route page, an appropriate rack for this route is as follows: ', '  1-2x 0.5 Camalots   2-3x 0.75 Camalots   3-4x #1 Camalots   3-4x #2 Camalots   1-2x #3 Camalots ', \"  Don't bring wires or any cams smaller than a 0.5 Camalot - you won't find places for them. A 70m rope makes getting down fairly easy; a 60m rope might work with some rope tricks... watch your ends.\"]),\n",
       "       list([\"Guidebooks generally recommend a full set of cams through #4 Camalot, a set of wires including RP's, and draws.  I recommend: \", \"  1 ea. Purple TCU's or equivalent   2 ea. Blue TCU's or equivalent   2 ea. Yellow TCU's or equivalent   2 ea. 0.5 Camalots   1 ea. 0.75 through #2 Camalots   1 set Wires   A dozen slings or draws \", '  A single 60m rope is sufficient for getting up and getting down, but a 70 is nicer.'])],\n",
       "      dtype=object)"
      ]
     },
     "execution_count": 129,
     "metadata": {},
     "output_type": "execute_result"
    }
   ],
   "source": [
    "df[\n",
    "    df.protection.str.len() > 2\n",
    "].protection.head(2).values"
   ]
  },
  {
   "cell_type": "markdown",
   "id": "590fbd2b",
   "metadata": {},
   "source": [
    "##### Do nothing with list columns"
   ]
  },
  {
   "cell_type": "markdown",
   "id": "35cac308",
   "metadata": {},
   "source": [
    "# FA column"
   ]
  },
  {
   "cell_type": "code",
   "execution_count": 130,
   "id": "7680a0c7",
   "metadata": {},
   "outputs": [
    {
     "data": {
      "text/plain": [
       "0                            Wade Mills (solo)\n",
       "1                                      unknown\n",
       "2    Bob Moseley and Hannah North, Summer 1999\n",
       "3                   Unknown on an Unknown date\n",
       "Name: fa, dtype: object"
      ]
     },
     "execution_count": 130,
     "metadata": {},
     "output_type": "execute_result"
    }
   ],
   "source": [
    "df.fa.head(4)"
   ]
  },
  {
   "cell_type": "code",
   "execution_count": 131,
   "id": "41cf92b8",
   "metadata": {},
   "outputs": [
    {
     "data": {
      "text/plain": [
       "count       4962\n",
       "nunique     2193\n",
       "<lambda>       0\n",
       "Name: fa, dtype: int64"
      ]
     },
     "execution_count": 131,
     "metadata": {},
     "output_type": "execute_result"
    }
   ],
   "source": [
    "df.fa.agg(['count', 'nunique', lambda x: x.isnull().sum()]).T"
   ]
  },
  {
   "cell_type": "markdown",
   "id": "a49dabca",
   "metadata": {},
   "source": [
    "# Feature Extraction"
   ]
  },
  {
   "cell_type": "markdown",
   "id": "04531059",
   "metadata": {},
   "source": [
    "## Extract Year"
   ]
  },
  {
   "cell_type": "code",
   "execution_count": 132,
   "id": "3780e478",
   "metadata": {},
   "outputs": [
    {
     "data": {
      "text/html": [
       "<div>\n",
       "<style scoped>\n",
       "    .dataframe tbody tr th:only-of-type {\n",
       "        vertical-align: middle;\n",
       "    }\n",
       "\n",
       "    .dataframe tbody tr th {\n",
       "        vertical-align: top;\n",
       "    }\n",
       "\n",
       "    .dataframe thead th {\n",
       "        text-align: right;\n",
       "    }\n",
       "</style>\n",
       "<table border=\"1\" class=\"dataframe\">\n",
       "  <thead>\n",
       "    <tr style=\"text-align: right;\">\n",
       "      <th></th>\n",
       "      <th>fa</th>\n",
       "      <th>year</th>\n",
       "    </tr>\n",
       "  </thead>\n",
       "  <tbody>\n",
       "    <tr>\n",
       "      <th>0</th>\n",
       "      <td>Wade Mills (solo)</td>\n",
       "      <td>NaN</td>\n",
       "    </tr>\n",
       "    <tr>\n",
       "      <th>1</th>\n",
       "      <td>unknown</td>\n",
       "      <td>NaN</td>\n",
       "    </tr>\n",
       "    <tr>\n",
       "      <th>2</th>\n",
       "      <td>Bob Moseley and Hannah North, Summer 1999</td>\n",
       "      <td>1999</td>\n",
       "    </tr>\n",
       "    <tr>\n",
       "      <th>3</th>\n",
       "      <td>Unknown on an Unknown date</td>\n",
       "      <td>NaN</td>\n",
       "    </tr>\n",
       "    <tr>\n",
       "      <th>4</th>\n",
       "      <td>Dustin Hoover, Jim Mercer.  Free solo. June 11...</td>\n",
       "      <td>2015</td>\n",
       "    </tr>\n",
       "    <tr>\n",
       "      <th>...</th>\n",
       "      <td>...</td>\n",
       "      <td>...</td>\n",
       "    </tr>\n",
       "    <tr>\n",
       "      <th>4957</th>\n",
       "      <td>unknown</td>\n",
       "      <td>NaN</td>\n",
       "    </tr>\n",
       "    <tr>\n",
       "      <th>4958</th>\n",
       "      <td>unknown</td>\n",
       "      <td>NaN</td>\n",
       "    </tr>\n",
       "    <tr>\n",
       "      <th>4959</th>\n",
       "      <td>Jeff Baldwin</td>\n",
       "      <td>NaN</td>\n",
       "    </tr>\n",
       "    <tr>\n",
       "      <th>4960</th>\n",
       "      <td>unknown</td>\n",
       "      <td>NaN</td>\n",
       "    </tr>\n",
       "    <tr>\n",
       "      <th>4961</th>\n",
       "      <td>Gena Howald</td>\n",
       "      <td>NaN</td>\n",
       "    </tr>\n",
       "  </tbody>\n",
       "</table>\n",
       "<p>4962 rows × 2 columns</p>\n",
       "</div>"
      ],
      "text/plain": [
       "                                                     fa  year\n",
       "0                                     Wade Mills (solo)   NaN\n",
       "1                                               unknown   NaN\n",
       "2             Bob Moseley and Hannah North, Summer 1999  1999\n",
       "3                            Unknown on an Unknown date   NaN\n",
       "4     Dustin Hoover, Jim Mercer.  Free solo. June 11...  2015\n",
       "...                                                 ...   ...\n",
       "4957                                            unknown   NaN\n",
       "4958                                            unknown   NaN\n",
       "4959                                       Jeff Baldwin   NaN\n",
       "4960                                            unknown   NaN\n",
       "4961                                        Gena Howald   NaN\n",
       "\n",
       "[4962 rows x 2 columns]"
      ]
     },
     "execution_count": 132,
     "metadata": {},
     "output_type": "execute_result"
    }
   ],
   "source": [
    "df['year'] = df['fa'].str.extract(r\"(\\d+)\\s*$\", expand=False)\n",
    "df[['fa', 'year']]"
   ]
  },
  {
   "cell_type": "code",
   "execution_count": 133,
   "id": "9440c8dd",
   "metadata": {},
   "outputs": [],
   "source": [
    "df['year'] = df['year'].fillna('')  # Replace NaN with empty cell"
   ]
  },
  {
   "cell_type": "code",
   "execution_count": 134,
   "id": "ff06eb32",
   "metadata": {},
   "outputs": [
    {
     "data": {
      "text/html": [
       "<div>\n",
       "<style scoped>\n",
       "    .dataframe tbody tr th:only-of-type {\n",
       "        vertical-align: middle;\n",
       "    }\n",
       "\n",
       "    .dataframe tbody tr th {\n",
       "        vertical-align: top;\n",
       "    }\n",
       "\n",
       "    .dataframe thead th {\n",
       "        text-align: right;\n",
       "    }\n",
       "</style>\n",
       "<table border=\"1\" class=\"dataframe\">\n",
       "  <thead>\n",
       "    <tr style=\"text-align: right;\">\n",
       "      <th></th>\n",
       "      <th>fa</th>\n",
       "      <th>fa_text</th>\n",
       "    </tr>\n",
       "  </thead>\n",
       "  <tbody>\n",
       "    <tr>\n",
       "      <th>0</th>\n",
       "      <td>Wade Mills (solo)</td>\n",
       "      <td>Wade Mills (solo)</td>\n",
       "    </tr>\n",
       "    <tr>\n",
       "      <th>1</th>\n",
       "      <td>unknown</td>\n",
       "      <td>unknown</td>\n",
       "    </tr>\n",
       "    <tr>\n",
       "      <th>2</th>\n",
       "      <td>Bob Moseley and Hannah North, Summer 1999</td>\n",
       "      <td>Bob Moseley and Hannah North, Summer</td>\n",
       "    </tr>\n",
       "    <tr>\n",
       "      <th>3</th>\n",
       "      <td>Unknown on an Unknown date</td>\n",
       "      <td>Unknown on an Unknown date</td>\n",
       "    </tr>\n",
       "    <tr>\n",
       "      <th>4</th>\n",
       "      <td>Dustin Hoover, Jim Mercer.  Free solo. June 11...</td>\n",
       "      <td>Dustin Hoover, Jim Mercer.  Free solo. June 11</td>\n",
       "    </tr>\n",
       "    <tr>\n",
       "      <th>...</th>\n",
       "      <td>...</td>\n",
       "      <td>...</td>\n",
       "    </tr>\n",
       "    <tr>\n",
       "      <th>4957</th>\n",
       "      <td>unknown</td>\n",
       "      <td>unknown</td>\n",
       "    </tr>\n",
       "    <tr>\n",
       "      <th>4958</th>\n",
       "      <td>unknown</td>\n",
       "      <td>unknown</td>\n",
       "    </tr>\n",
       "    <tr>\n",
       "      <th>4959</th>\n",
       "      <td>Jeff Baldwin</td>\n",
       "      <td>Jeff Baldwin</td>\n",
       "    </tr>\n",
       "    <tr>\n",
       "      <th>4960</th>\n",
       "      <td>unknown</td>\n",
       "      <td>unknown</td>\n",
       "    </tr>\n",
       "    <tr>\n",
       "      <th>4961</th>\n",
       "      <td>Gena Howald</td>\n",
       "      <td>Gena Howald</td>\n",
       "    </tr>\n",
       "  </tbody>\n",
       "</table>\n",
       "<p>4962 rows × 2 columns</p>\n",
       "</div>"
      ],
      "text/plain": [
       "                                                     fa  \\\n",
       "0                                     Wade Mills (solo)   \n",
       "1                                               unknown   \n",
       "2             Bob Moseley and Hannah North, Summer 1999   \n",
       "3                            Unknown on an Unknown date   \n",
       "4     Dustin Hoover, Jim Mercer.  Free solo. June 11...   \n",
       "...                                                 ...   \n",
       "4957                                            unknown   \n",
       "4958                                            unknown   \n",
       "4959                                       Jeff Baldwin   \n",
       "4960                                            unknown   \n",
       "4961                                        Gena Howald   \n",
       "\n",
       "                                             fa_text  \n",
       "0                                  Wade Mills (solo)  \n",
       "1                                            unknown  \n",
       "2               Bob Moseley and Hannah North, Summer  \n",
       "3                         Unknown on an Unknown date  \n",
       "4     Dustin Hoover, Jim Mercer.  Free solo. June 11  \n",
       "...                                              ...  \n",
       "4957                                         unknown  \n",
       "4958                                         unknown  \n",
       "4959                                    Jeff Baldwin  \n",
       "4960                                         unknown  \n",
       "4961                                     Gena Howald  \n",
       "\n",
       "[4962 rows x 2 columns]"
      ]
     },
     "execution_count": 134,
     "metadata": {},
     "output_type": "execute_result"
    }
   ],
   "source": [
    "## Remove the regex found year from the fa column\n",
    "df['fa_text'] = df.apply(lambda x: \n",
    "                     x['fa'][::-1].replace(x['year'][::-1], \"\", 1)[::-1], \n",
    "                 axis=1) \\\n",
    "                .str.strip(\", '\")  # Stripping comma, space, and single quote\n",
    "\n",
    "df[['fa', 'fa_text']]"
   ]
  },
  {
   "cell_type": "markdown",
   "id": "f61cdaee",
   "metadata": {},
   "source": [
    "## Split Climbers"
   ]
  },
  {
   "cell_type": "code",
   "execution_count": 135,
   "id": "becfd3d7",
   "metadata": {},
   "outputs": [
    {
     "data": {
      "text/html": [
       "<div>\n",
       "<style scoped>\n",
       "    .dataframe tbody tr th:only-of-type {\n",
       "        vertical-align: middle;\n",
       "    }\n",
       "\n",
       "    .dataframe tbody tr th {\n",
       "        vertical-align: top;\n",
       "    }\n",
       "\n",
       "    .dataframe thead th {\n",
       "        text-align: right;\n",
       "    }\n",
       "</style>\n",
       "<table border=\"1\" class=\"dataframe\">\n",
       "  <thead>\n",
       "    <tr style=\"text-align: right;\">\n",
       "      <th></th>\n",
       "      <th>ID</th>\n",
       "      <th>route_name</th>\n",
       "      <th>safety</th>\n",
       "      <th>fa</th>\n",
       "      <th>description</th>\n",
       "      <th>location</th>\n",
       "      <th>protection</th>\n",
       "      <th>grades-YDS</th>\n",
       "      <th>grades-French</th>\n",
       "      <th>grades-Ewbanks</th>\n",
       "      <th>...</th>\n",
       "      <th>type-ice</th>\n",
       "      <th>type-snow</th>\n",
       "      <th>metadata-left_right_seq</th>\n",
       "      <th>metadata-parent_lnglat</th>\n",
       "      <th>metadata-parent_sector</th>\n",
       "      <th>metadata-mp_route_id</th>\n",
       "      <th>metadata-mp_sector_id</th>\n",
       "      <th>metadata-mp_path</th>\n",
       "      <th>year</th>\n",
       "      <th>fa_text</th>\n",
       "    </tr>\n",
       "  </thead>\n",
       "  <tbody>\n",
       "    <tr>\n",
       "      <th>0</th>\n",
       "      <td>0</td>\n",
       "      <td>Stella by Starlight</td>\n",
       "      <td></td>\n",
       "      <td>Wade Mills (solo)</td>\n",
       "      <td>[In the late 1970's, my old friend and mentor,...</td>\n",
       "      <td>[Route ascends the huge main NE face of Wheeler.]</td>\n",
       "      <td>[See route description and \"Hiking and Climbin...</td>\n",
       "      <td>5.8</td>\n",
       "      <td>5b</td>\n",
       "      <td>16</td>\n",
       "      <td>...</td>\n",
       "      <td>NaN</td>\n",
       "      <td>NaN</td>\n",
       "      <td>2</td>\n",
       "      <td>[-114.31392, 38.98578]</td>\n",
       "      <td>Wheeler Peak</td>\n",
       "      <td>109152533</td>\n",
       "      <td>105972685</td>\n",
       "      <td>Eastern Nevada|Wheeler Peak</td>\n",
       "      <td></td>\n",
       "      <td>Wade Mills (solo)</td>\n",
       "    </tr>\n",
       "    <tr>\n",
       "      <th>1</th>\n",
       "      <td>1</td>\n",
       "      <td>Skin Yamaka</td>\n",
       "      <td></td>\n",
       "      <td>unknown</td>\n",
       "      <td>[Start on a mostly flat gravel platform and cl...</td>\n",
       "      <td>[Entering the gap from the east, this route wi...</td>\n",
       "      <td>[8 Bolts - Chain Anchor]</td>\n",
       "      <td>5.11a</td>\n",
       "      <td>6c</td>\n",
       "      <td>22</td>\n",
       "      <td>...</td>\n",
       "      <td>NaN</td>\n",
       "      <td>NaN</td>\n",
       "      <td>0</td>\n",
       "      <td>[-114.8918, 39.3509]</td>\n",
       "      <td>Hercules Gap</td>\n",
       "      <td>121646234</td>\n",
       "      <td>106520004</td>\n",
       "      <td>Eastern Nevada|Hercules Gap</td>\n",
       "      <td></td>\n",
       "      <td>unknown</td>\n",
       "    </tr>\n",
       "    <tr>\n",
       "      <th>2</th>\n",
       "      <td>2</td>\n",
       "      <td>Himalayan Snowcock Serenade</td>\n",
       "      <td></td>\n",
       "      <td>Bob Moseley and Hannah North, Summer 1999</td>\n",
       "      <td>[Northeast face of Crooked Finger Tower. Good-...</td>\n",
       "      <td>[See Location of Crooked Finger Tower. Approac...</td>\n",
       "      <td>[Standard rack of nuts and cams to 4.5 inches.]</td>\n",
       "      <td>5.10</td>\n",
       "      <td>6b</td>\n",
       "      <td>20</td>\n",
       "      <td>...</td>\n",
       "      <td>NaN</td>\n",
       "      <td>NaN</td>\n",
       "      <td>0</td>\n",
       "      <td>[-115.09649, 41.01482]</td>\n",
       "      <td>Crooked Finger Tower</td>\n",
       "      <td>121885014</td>\n",
       "      <td>121885007</td>\n",
       "      <td>Eastern Nevada|Crooked Finger Tower</td>\n",
       "      <td>1999</td>\n",
       "      <td>Bob Moseley and Hannah North, Summer</td>\n",
       "    </tr>\n",
       "    <tr>\n",
       "      <th>3</th>\n",
       "      <td>3</td>\n",
       "      <td>El Cinco Norte</td>\n",
       "      <td></td>\n",
       "      <td>Unknown on an Unknown date</td>\n",
       "      <td>[We are going to say this a 5.9- that is and e...</td>\n",
       "      <td>[Straight up North 5th st. Make a right turn a...</td>\n",
       "      <td>[Anchors at top with fresh chain. Bring quick ...</td>\n",
       "      <td>5.9-</td>\n",
       "      <td>5c</td>\n",
       "      <td>17</td>\n",
       "      <td>...</td>\n",
       "      <td>NaN</td>\n",
       "      <td>NaN</td>\n",
       "      <td>0</td>\n",
       "      <td>[-115.82222, 40.9005]</td>\n",
       "      <td>Cowboy</td>\n",
       "      <td>118130477</td>\n",
       "      <td>118130390</td>\n",
       "      <td>Eastern Nevada|Cowboy</td>\n",
       "      <td></td>\n",
       "      <td>Unknown on an Unknown date</td>\n",
       "    </tr>\n",
       "    <tr>\n",
       "      <th>4</th>\n",
       "      <td>4</td>\n",
       "      <td>Trout Slayer</td>\n",
       "      <td></td>\n",
       "      <td>Dustin Hoover, Jim Mercer.  Free solo. June 11...</td>\n",
       "      <td>[This route looked much steeper from the parki...</td>\n",
       "      <td>[When viewing the buttress from the parking lo...</td>\n",
       "      <td>[I suppose you could use some nuts and a few c...</td>\n",
       "      <td>5.6</td>\n",
       "      <td>4c</td>\n",
       "      <td>14</td>\n",
       "      <td>...</td>\n",
       "      <td>NaN</td>\n",
       "      <td>NaN</td>\n",
       "      <td>0</td>\n",
       "      <td>[-115.08818, 41.02809]</td>\n",
       "      <td>Trout Slayer Buttress</td>\n",
       "      <td>110636608</td>\n",
       "      <td>110636601</td>\n",
       "      <td>Eastern Nevada|Angel Lake|Trout Slayer Buttress</td>\n",
       "      <td>2015</td>\n",
       "      <td>Dustin Hoover, Jim Mercer.  Free solo. June 11</td>\n",
       "    </tr>\n",
       "  </tbody>\n",
       "</table>\n",
       "<p>5 rows × 32 columns</p>\n",
       "</div>"
      ],
      "text/plain": [
       "   ID                   route_name safety  \\\n",
       "0   0          Stella by Starlight          \n",
       "1   1                  Skin Yamaka          \n",
       "2   2  Himalayan Snowcock Serenade          \n",
       "3   3               El Cinco Norte          \n",
       "4   4                 Trout Slayer          \n",
       "\n",
       "                                                  fa  \\\n",
       "0                                  Wade Mills (solo)   \n",
       "1                                            unknown   \n",
       "2          Bob Moseley and Hannah North, Summer 1999   \n",
       "3                         Unknown on an Unknown date   \n",
       "4  Dustin Hoover, Jim Mercer.  Free solo. June 11...   \n",
       "\n",
       "                                         description  \\\n",
       "0  [In the late 1970's, my old friend and mentor,...   \n",
       "1  [Start on a mostly flat gravel platform and cl...   \n",
       "2  [Northeast face of Crooked Finger Tower. Good-...   \n",
       "3  [We are going to say this a 5.9- that is and e...   \n",
       "4  [This route looked much steeper from the parki...   \n",
       "\n",
       "                                            location  \\\n",
       "0  [Route ascends the huge main NE face of Wheeler.]   \n",
       "1  [Entering the gap from the east, this route wi...   \n",
       "2  [See Location of Crooked Finger Tower. Approac...   \n",
       "3  [Straight up North 5th st. Make a right turn a...   \n",
       "4  [When viewing the buttress from the parking lo...   \n",
       "\n",
       "                                          protection grades-YDS grades-French  \\\n",
       "0  [See route description and \"Hiking and Climbin...        5.8            5b   \n",
       "1                           [8 Bolts - Chain Anchor]      5.11a            6c   \n",
       "2    [Standard rack of nuts and cams to 4.5 inches.]       5.10            6b   \n",
       "3  [Anchors at top with fresh chain. Bring quick ...       5.9-            5c   \n",
       "4  [I suppose you could use some nuts and a few c...        5.6            4c   \n",
       "\n",
       "  grades-Ewbanks  ... type-ice type-snow metadata-left_right_seq  \\\n",
       "0             16  ...      NaN       NaN                       2   \n",
       "1             22  ...      NaN       NaN                       0   \n",
       "2             20  ...      NaN       NaN                       0   \n",
       "3             17  ...      NaN       NaN                       0   \n",
       "4             14  ...      NaN       NaN                       0   \n",
       "\n",
       "   metadata-parent_lnglat metadata-parent_sector metadata-mp_route_id  \\\n",
       "0  [-114.31392, 38.98578]           Wheeler Peak            109152533   \n",
       "1    [-114.8918, 39.3509]           Hercules Gap            121646234   \n",
       "2  [-115.09649, 41.01482]   Crooked Finger Tower            121885014   \n",
       "3   [-115.82222, 40.9005]                 Cowboy            118130477   \n",
       "4  [-115.08818, 41.02809]  Trout Slayer Buttress            110636608   \n",
       "\n",
       "  metadata-mp_sector_id                                 metadata-mp_path  \\\n",
       "0             105972685                      Eastern Nevada|Wheeler Peak   \n",
       "1             106520004                      Eastern Nevada|Hercules Gap   \n",
       "2             121885007              Eastern Nevada|Crooked Finger Tower   \n",
       "3             118130390                            Eastern Nevada|Cowboy   \n",
       "4             110636601  Eastern Nevada|Angel Lake|Trout Slayer Buttress   \n",
       "\n",
       "   year                                         fa_text  \n",
       "0                                     Wade Mills (solo)  \n",
       "1                                               unknown  \n",
       "2  1999            Bob Moseley and Hannah North, Summer  \n",
       "3                            Unknown on an Unknown date  \n",
       "4  2015  Dustin Hoover, Jim Mercer.  Free solo. June 11  \n",
       "\n",
       "[5 rows x 32 columns]"
      ]
     },
     "execution_count": 135,
     "metadata": {},
     "output_type": "execute_result"
    }
   ],
   "source": [
    "df = df.reset_index().rename(columns={'index': 'ID'})\n",
    "df.head()"
   ]
  },
  {
   "cell_type": "code",
   "execution_count": 136,
   "id": "13360120",
   "metadata": {},
   "outputs": [],
   "source": [
    "!mkdir -p data/"
   ]
  },
  {
   "cell_type": "code",
   "execution_count": 137,
   "id": "e9dc3cbe",
   "metadata": {},
   "outputs": [],
   "source": [
    "df['fa_text'] \\\n",
    "    .str.split(\" and |&|,\") \\\n",
    "    .explode() \\\n",
    "    .str.strip() \\\n",
    "    .to_csv(\"data/tmp-nv-routes-climbers-expanded.csv\", index=True)\n",
    "\n",
    "## Using explode to transform each element of a list-like to a row, replicating index values"
   ]
  },
  {
   "cell_type": "markdown",
   "id": "c5313e65",
   "metadata": {},
   "source": [
    "##### Look at the save data to take decisions on improving the extraction"
   ]
  },
  {
   "cell_type": "markdown",
   "id": "3b738896",
   "metadata": {},
   "source": [
    "# TODO from here"
   ]
  },
  {
   "cell_type": "code",
   "execution_count": 138,
   "id": "91699371",
   "metadata": {},
   "outputs": [
    {
     "data": {
      "text/plain": [
       "ID\n",
       "0                                   Wade Mills (solo)\n",
       "1                                             unknown\n",
       "2                     Bob Moseley;Hannah North;Summer\n",
       "3                          Unknown on an Unknown date\n",
       "4       Dustin Hoover;Jim Mercer.  Free solo. June 11\n",
       "                            ...                      \n",
       "4957                                          unknown\n",
       "4958                                          unknown\n",
       "4959                                     Jeff Baldwin\n",
       "4960                                          unknown\n",
       "4961                                      Gena Howald\n",
       "Name: fa_text, Length: 4962, dtype: object"
      ]
     },
     "execution_count": 138,
     "metadata": {},
     "output_type": "execute_result"
    }
   ],
   "source": [
    "df['fa_text'] \\\n",
    "    .str.split(\" and |&|,\") \\\n",
    "    .explode() \\\n",
    "    .str.strip() \\\n",
    "    .reset_index().rename(columns={'index': 'ID'}) \\\n",
    "    .groupby('ID')['fa_text'] \\\n",
    "    .apply(lambda x: ';'.join(x.astype(str)))  # Instead of using sum or count, we can use the apply function"
   ]
  },
  {
   "cell_type": "code",
   "execution_count": 139,
   "id": "68883e2a",
   "metadata": {},
   "outputs": [
    {
     "ename": "KeyError",
     "evalue": "'ID'",
     "output_type": "error",
     "traceback": [
      "\u001b[0;31m---------------------------------------------------------------------------\u001b[0m",
      "\u001b[0;31mKeyError\u001b[0m                                  Traceback (most recent call last)",
      "\u001b[0;32m/var/folders/_3/_n1c5rnx5pzd_v7dv5vg2_nr0000gn/T/ipykernel_44619/883500295.py\u001b[0m in \u001b[0;36m<module>\u001b[0;34m\u001b[0m\n\u001b[1;32m      7\u001b[0m     \u001b[0;34m.\u001b[0m\u001b[0mexplode\u001b[0m\u001b[0;34m(\u001b[0m\u001b[0;34m)\u001b[0m\u001b[0;31m \u001b[0m\u001b[0;31m\\\u001b[0m\u001b[0;34m\u001b[0m\u001b[0;34m\u001b[0m\u001b[0m\n\u001b[1;32m      8\u001b[0m     \u001b[0;34m.\u001b[0m\u001b[0mstr\u001b[0m\u001b[0;34m.\u001b[0m\u001b[0mstrip\u001b[0m\u001b[0;34m(\u001b[0m\u001b[0;34m)\u001b[0m\u001b[0;31m \u001b[0m\u001b[0;31m\\\u001b[0m\u001b[0;34m\u001b[0m\u001b[0;34m\u001b[0m\u001b[0m\n\u001b[0;32m----> 9\u001b[0;31m     \u001b[0;34m.\u001b[0m\u001b[0mgroupby\u001b[0m\u001b[0;34m(\u001b[0m\u001b[0;34m[\u001b[0m\u001b[0;34m'ID'\u001b[0m\u001b[0;34m]\u001b[0m\u001b[0;34m)\u001b[0m\u001b[0;34m.\u001b[0m\u001b[0mapply\u001b[0m\u001b[0;34m(\u001b[0m\u001b[0;32mlambda\u001b[0m \u001b[0mx\u001b[0m\u001b[0;34m:\u001b[0m \u001b[0;34m';'\u001b[0m\u001b[0;34m.\u001b[0m\u001b[0mjoin\u001b[0m\u001b[0;34m(\u001b[0m\u001b[0mx\u001b[0m\u001b[0;34m.\u001b[0m\u001b[0mastype\u001b[0m\u001b[0;34m(\u001b[0m\u001b[0mstr\u001b[0m\u001b[0;34m)\u001b[0m\u001b[0;34m)\u001b[0m\u001b[0;34m)\u001b[0m\u001b[0;34m\u001b[0m\u001b[0;34m\u001b[0m\u001b[0m\n\u001b[0m",
      "\u001b[0;32m/opt/homebrew/Caskroom/miniconda/base/envs/datascience/lib/python3.7/site-packages/pandas/core/series.py\u001b[0m in \u001b[0;36mgroupby\u001b[0;34m(self, by, axis, level, as_index, sort, group_keys, squeeze, observed, dropna)\u001b[0m\n\u001b[1;32m   1892\u001b[0m             \u001b[0msqueeze\u001b[0m\u001b[0;34m=\u001b[0m\u001b[0msqueeze\u001b[0m\u001b[0;34m,\u001b[0m  \u001b[0;31m# type: ignore[arg-type]\u001b[0m\u001b[0;34m\u001b[0m\u001b[0;34m\u001b[0m\u001b[0m\n\u001b[1;32m   1893\u001b[0m             \u001b[0mobserved\u001b[0m\u001b[0;34m=\u001b[0m\u001b[0mobserved\u001b[0m\u001b[0;34m,\u001b[0m\u001b[0;34m\u001b[0m\u001b[0;34m\u001b[0m\u001b[0m\n\u001b[0;32m-> 1894\u001b[0;31m             \u001b[0mdropna\u001b[0m\u001b[0;34m=\u001b[0m\u001b[0mdropna\u001b[0m\u001b[0;34m,\u001b[0m\u001b[0;34m\u001b[0m\u001b[0;34m\u001b[0m\u001b[0m\n\u001b[0m\u001b[1;32m   1895\u001b[0m         )\n\u001b[1;32m   1896\u001b[0m \u001b[0;34m\u001b[0m\u001b[0m\n",
      "\u001b[0;32m/opt/homebrew/Caskroom/miniconda/base/envs/datascience/lib/python3.7/site-packages/pandas/core/groupby/groupby.py\u001b[0m in \u001b[0;36m__init__\u001b[0;34m(self, obj, keys, axis, level, grouper, exclusions, selection, as_index, sort, group_keys, squeeze, observed, mutated, dropna)\u001b[0m\n\u001b[1;32m    895\u001b[0m                 \u001b[0mobserved\u001b[0m\u001b[0;34m=\u001b[0m\u001b[0mobserved\u001b[0m\u001b[0;34m,\u001b[0m\u001b[0;34m\u001b[0m\u001b[0;34m\u001b[0m\u001b[0m\n\u001b[1;32m    896\u001b[0m                 \u001b[0mmutated\u001b[0m\u001b[0;34m=\u001b[0m\u001b[0mself\u001b[0m\u001b[0;34m.\u001b[0m\u001b[0mmutated\u001b[0m\u001b[0;34m,\u001b[0m\u001b[0;34m\u001b[0m\u001b[0;34m\u001b[0m\u001b[0m\n\u001b[0;32m--> 897\u001b[0;31m                 \u001b[0mdropna\u001b[0m\u001b[0;34m=\u001b[0m\u001b[0mself\u001b[0m\u001b[0;34m.\u001b[0m\u001b[0mdropna\u001b[0m\u001b[0;34m,\u001b[0m\u001b[0;34m\u001b[0m\u001b[0;34m\u001b[0m\u001b[0m\n\u001b[0m\u001b[1;32m    898\u001b[0m             )\n\u001b[1;32m    899\u001b[0m \u001b[0;34m\u001b[0m\u001b[0m\n",
      "\u001b[0;32m/opt/homebrew/Caskroom/miniconda/base/envs/datascience/lib/python3.7/site-packages/pandas/core/groupby/grouper.py\u001b[0m in \u001b[0;36mget_grouper\u001b[0;34m(obj, key, axis, level, sort, observed, mutated, validate, dropna)\u001b[0m\n\u001b[1;32m    860\u001b[0m                 \u001b[0min_axis\u001b[0m\u001b[0;34m,\u001b[0m \u001b[0mlevel\u001b[0m\u001b[0;34m,\u001b[0m \u001b[0mgpr\u001b[0m \u001b[0;34m=\u001b[0m \u001b[0;32mFalse\u001b[0m\u001b[0;34m,\u001b[0m \u001b[0mgpr\u001b[0m\u001b[0;34m,\u001b[0m \u001b[0;32mNone\u001b[0m\u001b[0;34m\u001b[0m\u001b[0;34m\u001b[0m\u001b[0m\n\u001b[1;32m    861\u001b[0m             \u001b[0;32melse\u001b[0m\u001b[0;34m:\u001b[0m\u001b[0;34m\u001b[0m\u001b[0;34m\u001b[0m\u001b[0m\n\u001b[0;32m--> 862\u001b[0;31m                 \u001b[0;32mraise\u001b[0m \u001b[0mKeyError\u001b[0m\u001b[0;34m(\u001b[0m\u001b[0mgpr\u001b[0m\u001b[0;34m)\u001b[0m\u001b[0;34m\u001b[0m\u001b[0;34m\u001b[0m\u001b[0m\n\u001b[0m\u001b[1;32m    863\u001b[0m         \u001b[0;32melif\u001b[0m \u001b[0misinstance\u001b[0m\u001b[0;34m(\u001b[0m\u001b[0mgpr\u001b[0m\u001b[0;34m,\u001b[0m \u001b[0mGrouper\u001b[0m\u001b[0;34m)\u001b[0m \u001b[0;32mand\u001b[0m \u001b[0mgpr\u001b[0m\u001b[0;34m.\u001b[0m\u001b[0mkey\u001b[0m \u001b[0;32mis\u001b[0m \u001b[0;32mnot\u001b[0m \u001b[0;32mNone\u001b[0m\u001b[0;34m:\u001b[0m\u001b[0;34m\u001b[0m\u001b[0;34m\u001b[0m\u001b[0m\n\u001b[1;32m    864\u001b[0m             \u001b[0;31m# Add key to exclusions\u001b[0m\u001b[0;34m\u001b[0m\u001b[0;34m\u001b[0m\u001b[0;34m\u001b[0m\u001b[0m\n",
      "\u001b[0;31mKeyError\u001b[0m: 'ID'"
     ]
    }
   ],
   "source": [
    "# split climbers by all possible separators\n",
    "# expand them in rows \n",
    "# clean them\n",
    "# join them all back by \";\"\n",
    "df['climbers'] = df['fa_text'] \\\n",
    "    .str.split(\" and |&|,\") \\\n",
    "    .explode() \\\n",
    "    .str.strip() \\\n",
    "    .groupby(['ID']).apply(lambda x: ';'.join(x.astype(str)))"
   ]
  },
  {
   "cell_type": "code",
   "execution_count": null,
   "id": "11967b7e",
   "metadata": {},
   "outputs": [],
   "source": [
    "df['climbers']"
   ]
  },
  {
   "cell_type": "code",
   "execution_count": null,
   "id": "df59c67b",
   "metadata": {},
   "outputs": [
    {
     "data": {
      "text/html": [
       "<div>\n",
       "<style scoped>\n",
       "    .dataframe tbody tr th:only-of-type {\n",
       "        vertical-align: middle;\n",
       "    }\n",
       "\n",
       "    .dataframe tbody tr th {\n",
       "        vertical-align: top;\n",
       "    }\n",
       "\n",
       "    .dataframe thead th {\n",
       "        text-align: right;\n",
       "    }\n",
       "</style>\n",
       "<table border=\"1\" class=\"dataframe\">\n",
       "  <thead>\n",
       "    <tr style=\"text-align: right;\">\n",
       "      <th></th>\n",
       "      <th>fa</th>\n",
       "      <th>year</th>\n",
       "      <th>fa_text</th>\n",
       "      <th>climbers</th>\n",
       "    </tr>\n",
       "    <tr>\n",
       "      <th>ID</th>\n",
       "      <th></th>\n",
       "      <th></th>\n",
       "      <th></th>\n",
       "      <th></th>\n",
       "    </tr>\n",
       "  </thead>\n",
       "  <tbody>\n",
       "    <tr>\n",
       "      <th>1</th>\n",
       "      <td>Eric Wright and Frank Robertson, 2008</td>\n",
       "      <td>2008</td>\n",
       "      <td>Eric Wright and Frank Robertson</td>\n",
       "      <td>Eric Wright;Frank Robertson</td>\n",
       "    </tr>\n",
       "    <tr>\n",
       "      <th>2</th>\n",
       "      <td>John Long, Lynn Hill &amp; Joanne Urioste '83</td>\n",
       "      <td>83</td>\n",
       "      <td>John Long, Lynn Hill &amp; Joanne Urioste</td>\n",
       "      <td>John Long;Lynn Hill;Joanne Urioste</td>\n",
       "    </tr>\n",
       "    <tr>\n",
       "      <th>3</th>\n",
       "      <td>L. Hill, 1993</td>\n",
       "      <td>1993</td>\n",
       "      <td>L. Hill</td>\n",
       "      <td>L. Hill</td>\n",
       "    </tr>\n",
       "  </tbody>\n",
       "</table>\n",
       "</div>"
      ],
      "text/plain": [
       "                                           fa  year  \\\n",
       "ID                                                    \n",
       "1       Eric Wright and Frank Robertson, 2008  2008   \n",
       "2   John Long, Lynn Hill & Joanne Urioste '83    83   \n",
       "3                               L. Hill, 1993  1993   \n",
       "\n",
       "                                  fa_text                            climbers  \n",
       "ID                                                                             \n",
       "1         Eric Wright and Frank Robertson         Eric Wright;Frank Robertson  \n",
       "2   John Long, Lynn Hill & Joanne Urioste  John Long;Lynn Hill;Joanne Urioste  \n",
       "3                                 L. Hill                             L. Hill  "
      ]
     },
     "execution_count": 15,
     "metadata": {},
     "output_type": "execute_result"
    }
   ],
   "source": [
    "df"
   ]
  },
  {
   "cell_type": "markdown",
   "id": "cd7703c7",
   "metadata": {},
   "source": [
    "## Normalize climber names\n",
    "\n",
    "Prepare a manual decision dict to rename climbers names as much as possible"
   ]
  },
  {
   "cell_type": "code",
   "execution_count": null,
   "id": "118eeb0e",
   "metadata": {},
   "outputs": [
    {
     "data": {
      "text/plain": [
       "ID\n",
       "1        Eric Wright\n",
       "1    Frank Robertson\n",
       "2     Joanne Urioste\n",
       "2          John Long\n",
       "3            L. Hill\n",
       "2          Lynn Hill\n",
       "Name: climbers, dtype: object"
      ]
     },
     "execution_count": 16,
     "metadata": {},
     "output_type": "execute_result"
    }
   ],
   "source": [
    "df['climbers'].str.split(\";\", expand=False)\\\n",
    "    .explode() \\\n",
    "    .sort_values()"
   ]
  },
  {
   "cell_type": "code",
   "execution_count": null,
   "id": "eed42d20",
   "metadata": {},
   "outputs": [
    {
     "data": {
      "text/plain": [
       "{'Eric Wright': 'Eric Wright',\n",
       " 'Frank Robertson': 'Frank Robertson',\n",
       " 'Joanne Urioste': 'Joanne Urioste',\n",
       " 'John Long': 'John Long',\n",
       " 'L. Hill': 'L. Hill',\n",
       " 'Lynn Hill': 'Lynn Hill'}"
      ]
     },
     "execution_count": 17,
     "metadata": {},
     "output_type": "execute_result"
    }
   ],
   "source": [
    "renamings = {k: k for k in \n",
    "                df['climbers'].str.split(\";\", expand=False)\\\n",
    "                .explode() \\\n",
    "                .sort_values().unique()}\n",
    "renamings"
   ]
  },
  {
   "cell_type": "markdown",
   "id": "0a4bf748",
   "metadata": {},
   "source": [
    "Copy and paste above and manual edit as desired.\n",
    "This is probably most suitable step to take in Prophecies application if it becomes pretty big task."
   ]
  },
  {
   "cell_type": "code",
   "execution_count": null,
   "id": "a752def5",
   "metadata": {},
   "outputs": [],
   "source": [
    "my_manual_renamings = {\n",
    "    #'Eric Wright': 'Eric Wright',\n",
    "    #'Frank Robertson': 'Frank Robertson',\n",
    "    #'Joanne Urioste': 'Joanne Urioste',\n",
    "    #'John Long': 'John Long',\n",
    "    'L. Hill': 'Lynn Hill',\n",
    "    #'Lynn Hill': 'Lynn Hill'\n",
    "}"
   ]
  },
  {
   "cell_type": "code",
   "execution_count": null,
   "id": "fb0a7813",
   "metadata": {},
   "outputs": [],
   "source": [
    "def run_all_renamings(x):\n",
    "    for k, v in my_manual_renamings.items():\n",
    "        x = x.replace(k, v)\n",
    "    return x"
   ]
  },
  {
   "cell_type": "code",
   "execution_count": null,
   "id": "cb0e54e7",
   "metadata": {},
   "outputs": [],
   "source": [
    "df['climbers'] = df['climbers'].map(run_all_renamings)"
   ]
  },
  {
   "cell_type": "markdown",
   "id": "7494f0bc",
   "metadata": {},
   "source": [
    "## Expand Climbers in columns"
   ]
  },
  {
   "cell_type": "code",
   "execution_count": null,
   "id": "4db57868",
   "metadata": {},
   "outputs": [],
   "source": [
    "dft = df['climbers'].str.split(\";\", expand=True)\n",
    "dft.columns = ['climber_' + str(i+1) for i in dft.columns]\n",
    "df = pd.concat([df, dft], axis=1)"
   ]
  },
  {
   "cell_type": "code",
   "execution_count": null,
   "id": "aa3aac6c",
   "metadata": {},
   "outputs": [
    {
     "data": {
      "text/html": [
       "<div>\n",
       "<style scoped>\n",
       "    .dataframe tbody tr th:only-of-type {\n",
       "        vertical-align: middle;\n",
       "    }\n",
       "\n",
       "    .dataframe tbody tr th {\n",
       "        vertical-align: top;\n",
       "    }\n",
       "\n",
       "    .dataframe thead th {\n",
       "        text-align: right;\n",
       "    }\n",
       "</style>\n",
       "<table border=\"1\" class=\"dataframe\">\n",
       "  <thead>\n",
       "    <tr style=\"text-align: right;\">\n",
       "      <th></th>\n",
       "      <th>fa</th>\n",
       "      <th>year</th>\n",
       "      <th>fa_text</th>\n",
       "      <th>climbers</th>\n",
       "      <th>climber_1</th>\n",
       "      <th>climber_2</th>\n",
       "      <th>climber_3</th>\n",
       "    </tr>\n",
       "    <tr>\n",
       "      <th>ID</th>\n",
       "      <th></th>\n",
       "      <th></th>\n",
       "      <th></th>\n",
       "      <th></th>\n",
       "      <th></th>\n",
       "      <th></th>\n",
       "      <th></th>\n",
       "    </tr>\n",
       "  </thead>\n",
       "  <tbody>\n",
       "    <tr>\n",
       "      <th>1</th>\n",
       "      <td>Eric Wright and Frank Robertson, 2008</td>\n",
       "      <td>2008</td>\n",
       "      <td>Eric Wright and Frank Robertson</td>\n",
       "      <td>Eric Wright;Frank Robertson</td>\n",
       "      <td>Eric Wright</td>\n",
       "      <td>Frank Robertson</td>\n",
       "      <td>None</td>\n",
       "    </tr>\n",
       "    <tr>\n",
       "      <th>2</th>\n",
       "      <td>John Long, Lynn Hill &amp; Joanne Urioste '83</td>\n",
       "      <td>83</td>\n",
       "      <td>John Long, Lynn Hill &amp; Joanne Urioste</td>\n",
       "      <td>John Long;Lynn Hill;Joanne Urioste</td>\n",
       "      <td>John Long</td>\n",
       "      <td>Lynn Hill</td>\n",
       "      <td>Joanne Urioste</td>\n",
       "    </tr>\n",
       "    <tr>\n",
       "      <th>3</th>\n",
       "      <td>L. Hill, 1993</td>\n",
       "      <td>1993</td>\n",
       "      <td>L. Hill</td>\n",
       "      <td>Lynn Hill</td>\n",
       "      <td>Lynn Hill</td>\n",
       "      <td>None</td>\n",
       "      <td>None</td>\n",
       "    </tr>\n",
       "  </tbody>\n",
       "</table>\n",
       "</div>"
      ],
      "text/plain": [
       "                                           fa  year  \\\n",
       "ID                                                    \n",
       "1       Eric Wright and Frank Robertson, 2008  2008   \n",
       "2   John Long, Lynn Hill & Joanne Urioste '83    83   \n",
       "3                               L. Hill, 1993  1993   \n",
       "\n",
       "                                  fa_text                            climbers  \\\n",
       "ID                                                                              \n",
       "1         Eric Wright and Frank Robertson         Eric Wright;Frank Robertson   \n",
       "2   John Long, Lynn Hill & Joanne Urioste  John Long;Lynn Hill;Joanne Urioste   \n",
       "3                                 L. Hill                           Lynn Hill   \n",
       "\n",
       "      climber_1        climber_2       climber_3  \n",
       "ID                                                \n",
       "1   Eric Wright  Frank Robertson            None  \n",
       "2     John Long        Lynn Hill  Joanne Urioste  \n",
       "3     Lynn Hill             None            None  "
      ]
     },
     "execution_count": 22,
     "metadata": {},
     "output_type": "execute_result"
    }
   ],
   "source": [
    "df"
   ]
  },
  {
   "cell_type": "code",
   "execution_count": null,
   "id": "1987b954",
   "metadata": {},
   "outputs": [],
   "source": []
  },
  {
   "cell_type": "markdown",
   "id": "0e0c10c4",
   "metadata": {},
   "source": [
    "# Normalize year"
   ]
  },
  {
   "cell_type": "code",
   "execution_count": null,
   "id": "6009d438",
   "metadata": {},
   "outputs": [],
   "source": [
    "def normalize_year(y):\n",
    "    y = int(y)\n",
    "    if y < 22:\n",
    "        # it is only 2 digits and passed 2000s\n",
    "        y += 2000\n",
    "    elif y < 100:\n",
    "        # it is only 2 digits and before 2000s\n",
    "        y += 1900\n",
    "    return y"
   ]
  },
  {
   "cell_type": "code",
   "execution_count": null,
   "id": "aa204313",
   "metadata": {},
   "outputs": [],
   "source": [
    "df.insert(\n",
    "    df.columns.tolist().index('year')+1,\n",
    "    'year_normalized',\n",
    "    df['year'].map(normalize_year)\n",
    ")"
   ]
  },
  {
   "cell_type": "code",
   "execution_count": null,
   "id": "5f6f1c1f",
   "metadata": {},
   "outputs": [
    {
     "data": {
      "text/html": [
       "<div>\n",
       "<style scoped>\n",
       "    .dataframe tbody tr th:only-of-type {\n",
       "        vertical-align: middle;\n",
       "    }\n",
       "\n",
       "    .dataframe tbody tr th {\n",
       "        vertical-align: top;\n",
       "    }\n",
       "\n",
       "    .dataframe thead th {\n",
       "        text-align: right;\n",
       "    }\n",
       "</style>\n",
       "<table border=\"1\" class=\"dataframe\">\n",
       "  <thead>\n",
       "    <tr style=\"text-align: right;\">\n",
       "      <th></th>\n",
       "      <th>fa</th>\n",
       "      <th>year</th>\n",
       "      <th>year_normalized</th>\n",
       "      <th>fa_text</th>\n",
       "      <th>climbers</th>\n",
       "      <th>climber_1</th>\n",
       "      <th>climber_2</th>\n",
       "      <th>climber_3</th>\n",
       "    </tr>\n",
       "    <tr>\n",
       "      <th>ID</th>\n",
       "      <th></th>\n",
       "      <th></th>\n",
       "      <th></th>\n",
       "      <th></th>\n",
       "      <th></th>\n",
       "      <th></th>\n",
       "      <th></th>\n",
       "      <th></th>\n",
       "    </tr>\n",
       "  </thead>\n",
       "  <tbody>\n",
       "    <tr>\n",
       "      <th>1</th>\n",
       "      <td>Eric Wright and Frank Robertson, 2008</td>\n",
       "      <td>2008</td>\n",
       "      <td>2008</td>\n",
       "      <td>Eric Wright and Frank Robertson</td>\n",
       "      <td>Eric Wright;Frank Robertson</td>\n",
       "      <td>Eric Wright</td>\n",
       "      <td>Frank Robertson</td>\n",
       "      <td>None</td>\n",
       "    </tr>\n",
       "    <tr>\n",
       "      <th>2</th>\n",
       "      <td>John Long, Lynn Hill &amp; Joanne Urioste '83</td>\n",
       "      <td>83</td>\n",
       "      <td>1983</td>\n",
       "      <td>John Long, Lynn Hill &amp; Joanne Urioste</td>\n",
       "      <td>John Long;Lynn Hill;Joanne Urioste</td>\n",
       "      <td>John Long</td>\n",
       "      <td>Lynn Hill</td>\n",
       "      <td>Joanne Urioste</td>\n",
       "    </tr>\n",
       "    <tr>\n",
       "      <th>3</th>\n",
       "      <td>L. Hill, 1993</td>\n",
       "      <td>1993</td>\n",
       "      <td>1993</td>\n",
       "      <td>L. Hill</td>\n",
       "      <td>Lynn Hill</td>\n",
       "      <td>Lynn Hill</td>\n",
       "      <td>None</td>\n",
       "      <td>None</td>\n",
       "    </tr>\n",
       "  </tbody>\n",
       "</table>\n",
       "</div>"
      ],
      "text/plain": [
       "                                           fa  year  year_normalized  \\\n",
       "ID                                                                     \n",
       "1       Eric Wright and Frank Robertson, 2008  2008             2008   \n",
       "2   John Long, Lynn Hill & Joanne Urioste '83    83             1983   \n",
       "3                               L. Hill, 1993  1993             1993   \n",
       "\n",
       "                                  fa_text                            climbers  \\\n",
       "ID                                                                              \n",
       "1         Eric Wright and Frank Robertson         Eric Wright;Frank Robertson   \n",
       "2   John Long, Lynn Hill & Joanne Urioste  John Long;Lynn Hill;Joanne Urioste   \n",
       "3                                 L. Hill                           Lynn Hill   \n",
       "\n",
       "      climber_1        climber_2       climber_3  \n",
       "ID                                                \n",
       "1   Eric Wright  Frank Robertson            None  \n",
       "2     John Long        Lynn Hill  Joanne Urioste  \n",
       "3     Lynn Hill             None            None  "
      ]
     },
     "execution_count": 25,
     "metadata": {},
     "output_type": "execute_result"
    }
   ],
   "source": [
    "df"
   ]
  },
  {
   "cell_type": "code",
   "execution_count": null,
   "id": "f47398d5",
   "metadata": {},
   "outputs": [],
   "source": []
  }
 ],
 "metadata": {
  "kernelspec": {
   "display_name": "Python 3.7.6 ('datascience')",
   "language": "python",
   "name": "python3"
  },
  "language_info": {
   "codemirror_mode": {
    "name": "ipython",
    "version": 3
   },
   "file_extension": ".py",
   "mimetype": "text/x-python",
   "name": "python",
   "nbconvert_exporter": "python",
   "pygments_lexer": "ipython3",
   "version": "3.7.6"
  },
  "toc": {
   "base_numbering": 1,
   "nav_menu": {},
   "number_sections": true,
   "sideBar": true,
   "skip_h1_title": false,
   "title_cell": "Table of Contents",
   "title_sidebar": "Contents",
   "toc_cell": false,
   "toc_position": {},
   "toc_section_display": true,
   "toc_window_display": true
  },
  "varInspector": {
   "cols": {
    "lenName": 16,
    "lenType": 16,
    "lenVar": 40
   },
   "kernels_config": {
    "python": {
     "delete_cmd_postfix": "",
     "delete_cmd_prefix": "del ",
     "library": "var_list.py",
     "varRefreshCmd": "print(var_dic_list())"
    },
    "r": {
     "delete_cmd_postfix": ") ",
     "delete_cmd_prefix": "rm(",
     "library": "var_list.r",
     "varRefreshCmd": "cat(var_dic_list()) "
    }
   },
   "types_to_exclude": [
    "module",
    "function",
    "builtin_function_or_method",
    "instance",
    "_Feature"
   ],
   "window_display": false
  },
  "vscode": {
   "interpreter": {
    "hash": "7c15afef78f50668981ba711ec2661f2a5596a86ec48569938de9a5d0b5f4743"
   }
  }
 },
 "nbformat": 4,
 "nbformat_minor": 5
}
