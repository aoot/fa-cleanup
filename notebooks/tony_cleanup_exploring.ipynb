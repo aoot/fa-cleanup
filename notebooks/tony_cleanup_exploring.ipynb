{
 "cells": [
  {
   "cell_type": "markdown",
   "metadata": {},
   "source": [
    "## Cleaning up FA data using ngram\n",
    "\n",
    "Testing using ngram to find similar names.\n",
    "\n",
    "__Steps:__\n",
    "- Create dictionary mapping all different kinds of variants of names to proper name.\n",
    "    - Develop function that takes in routes from each state and create this dictionary mapping.\n",
    "- Use ngram to group similar names together, for the goal of statistically recognizing name aliases.\n",
    "    - Create a second function that adds a column of expected actual name, based on mode of the group.\n",
    "\n",
    "\n",
    "__Ideas:__\n",
    "- Somehow scrap Google search for the true FA name >>> Issue: Not all FA are famous enough to show up on Google Search.\n",
    "\n"
   ]
  },
  {
   "cell_type": "markdown",
   "metadata": {},
   "source": [
    "# Clean up by counting FirstName and LastName"
   ]
  },
  {
   "cell_type": "markdown",
   "metadata": {},
   "source": []
  }
 ],
 "metadata": {
  "kernelspec": {
   "display_name": "Python 3.7.6 ('datascience')",
   "language": "python",
   "name": "python3"
  },
  "language_info": {
   "codemirror_mode": {
    "name": "ipython",
    "version": 3
   },
   "file_extension": ".py",
   "mimetype": "text/x-python",
   "name": "python",
   "nbconvert_exporter": "python",
   "pygments_lexer": "ipython3",
   "version": "3.7.6"
  },
  "orig_nbformat": 4,
  "vscode": {
   "interpreter": {
    "hash": "7c15afef78f50668981ba711ec2661f2a5596a86ec48569938de9a5d0b5f4743"
   }
  }
 },
 "nbformat": 4,
 "nbformat_minor": 2
}
